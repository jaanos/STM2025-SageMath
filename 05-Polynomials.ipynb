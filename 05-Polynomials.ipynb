{
 "cells": [
  {
   "cell_type": "markdown",
   "id": "35f7e856-5465-4059-9c37-f9dddd569e30",
   "metadata": {
    "collapsed": false
   },
   "source": [
    "# Polynomials"
   ]
  },
  {
   "cell_type": "code",
   "execution_count": 6,
   "id": "4b46f861-0a22-45cf-a93f-79e82ffc44b9",
   "metadata": {
    "collapsed": false
   },
   "outputs": [
   ],
   "source": [
    "%display latex"
   ]
  },
  {
   "cell_type": "markdown",
   "id": "e62c36f1-b417-4788-810d-9f5c79880265",
   "metadata": {
    "collapsed": false
   },
   "source": [
    "## Univariate Polynomials\n",
    "\n",
    "There are three ways to create polynomial rings."
   ]
  },
  {
   "cell_type": "code",
   "execution_count": 4,
   "id": "128fb015-983f-4069-942c-c88abf247275",
   "metadata": {
    "collapsed": false
   },
   "outputs": [
    {
     "data": {
      "text/html": "<html>\\(\\displaystyle \\newcommand{\\Bold}[1]{\\mathbf{#1}}\\Bold{Q}[t]\\)</html>",
      "text/latex": [
       "$\\displaystyle \\newcommand{\\Bold}[1]{\\mathbf{#1}}\\Bold{Q}[t]$"
      ],
      "text/plain": [
       "Univariate Polynomial Ring in t over Rational Field"
      ]
     },
     "execution_count": 4,
     "metadata": {
     },
     "output_type": "execute_result"
    }
   ],
   "source": [
    "(R := PolynomialRing(QQ, 't'))"
   ]
  },
  {
   "cell_type": "code",
   "execution_count": 5,
   "id": "e13ead",
   "metadata": {
    "collapsed": false
   },
   "outputs": [
    {
     "ename": "NameError",
     "evalue": "name 't' is not defined",
     "output_type": "error",
     "traceback": [
      "\u001b[0;31m---------------------------------------------------------------------------\u001b[0m",
      "\u001b[0;31mNameError\u001b[0m                                 Traceback (most recent call last)",
      "Cell \u001b[0;32mIn[5], line 1\u001b[0m\n\u001b[0;32m----> 1\u001b[0m \u001b[43mt\u001b[49m\u001b[38;5;241m*\u001b[39m\u001b[38;5;241m*\u001b[39mInteger(\u001b[38;5;241m2\u001b[39m) \u001b[38;5;241m+\u001b[39m Integer(\u001b[38;5;241m1\u001b[39m)\n",
      "\u001b[0;31mNameError\u001b[0m: name 't' is not defined"
     ]
    }
   ],
   "source": [
    "t^2 + 1"
   ]
  },
  {
   "cell_type": "markdown",
   "id": "77237282-991b-443d-9918-9e4631600a5a",
   "metadata": {
    "collapsed": false
   },
   "source": [
    "This creates a polynomial ring and tells Sage to use (the string) ‘t’ as the indeterminate when printing to the screen. However, this does not define the symbol `t` for use in Sage, so you cannot use it to enter a polynomial (such as $t^2 + 1$) belonging to `R`.\n",
    "\n",
    "An alternate way is"
   ]
  },
  {
   "cell_type": "code",
   "execution_count": 6,
   "id": "b89c5786-3c14-448f-b4e0-62ed66af4720",
   "metadata": {
    "collapsed": false
   },
   "outputs": [
    {
     "data": {
      "text/html": "<html>\\(\\displaystyle \\newcommand{\\Bold}[1]{\\mathbf{#1}}\\Bold{Q}[t]\\)</html>",
      "text/latex": [
       "$\\displaystyle \\newcommand{\\Bold}[1]{\\mathbf{#1}}\\Bold{Q}[t]$"
      ],
      "text/plain": [
       "Univariate Polynomial Ring in t over Rational Field"
      ]
     },
     "execution_count": 6,
     "metadata": {
     },
     "output_type": "execute_result"
    }
   ],
   "source": [
    "(S := QQ['t'])"
   ]
  },
  {
   "cell_type": "code",
   "execution_count": 7,
   "id": "d30accd0-849f-4568-8ee5-2daf50eb7666",
   "metadata": {
    "collapsed": false
   },
   "outputs": [
    {
     "data": {
      "text/html": "<html>\\(\\displaystyle \\mathrm{True}\\)</html>",
      "text/latex": [
       "$\\displaystyle \\mathrm{True}$"
      ],
      "text/plain": [
       "True"
      ]
     },
     "execution_count": 7,
     "metadata": {
     },
     "output_type": "execute_result"
    }
   ],
   "source": [
    "S == R"
   ]
  },
  {
   "cell_type": "markdown",
   "id": "c933920c-8b1b-401b-aa48-8bb1d6506ac2",
   "metadata": {
    "collapsed": false
   },
   "source": [
    "This has the same issue regarding `t`.\n",
    "\n",
    "A third very convenient way is"
   ]
  },
  {
   "cell_type": "code",
   "execution_count": 8,
   "id": "d1717757-353a-4507-b0bb-0d6195230eeb",
   "metadata": {
    "collapsed": false
   },
   "outputs": [
   ],
   "source": [
    "R.<t> = PolynomialRing(QQ)"
   ]
  },
  {
   "cell_type": "markdown",
   "id": "11392ee0-7844-4f73-96c6-743522553de5",
   "metadata": {
    "collapsed": false
   },
   "source": [
    "or"
   ]
  },
  {
   "cell_type": "code",
   "execution_count": 9,
   "id": "56b9646a-6d51-41c5-a53c-60f48f202c7b",
   "metadata": {
    "collapsed": false
   },
   "outputs": [
   ],
   "source": [
    "R.<t> = QQ['t']"
   ]
  },
  {
   "cell_type": "markdown",
   "id": "5724680d-942c-4093-a3e0-c15e29a9e6ce",
   "metadata": {
    "collapsed": false
   },
   "source": [
    "or even"
   ]
  },
  {
   "cell_type": "code",
   "execution_count": 10,
   "id": "d2570362-7056-4202-81e9-6852760871bf",
   "metadata": {
    "collapsed": false
   },
   "outputs": [
   ],
   "source": [
    "R.<t> = QQ[]"
   ]
  },
  {
   "cell_type": "markdown",
   "id": "b65a4741-173f-4dfe-9abb-278f55aec5e6",
   "metadata": {
    "collapsed": false
   },
   "source": [
    "This has the additional side effect that it defines the variable `t` to be the indeterminate of the polynomial ring, so you can easily construct elements of `R`, as follows."
   ]
  },
  {
   "cell_type": "code",
   "execution_count": 11,
   "id": "a6879270-fbe5-49fc-b02c-13e70315c043",
   "metadata": {
    "collapsed": false
   },
   "outputs": [
    {
     "data": {
      "text/html": "<html>\\(\\displaystyle t^{2} + 3 t + 2\\)</html>",
      "text/latex": [
       "$\\displaystyle t^{2} + 3 t + 2$"
      ],
      "text/plain": [
       "t^2 + 3*t + 2"
      ]
     },
     "execution_count": 11,
     "metadata": {
     },
     "output_type": "execute_result"
    }
   ],
   "source": [
    "(poly := (t+1) * (t+2))"
   ]
  },
  {
   "cell_type": "code",
   "execution_count": 12,
   "id": "f7039131-8d7b-4066-9f48-6751b7c294d1",
   "metadata": {
    "collapsed": false
   },
   "outputs": [
    {
     "data": {
      "text/html": "<html>\\(\\displaystyle \\mathrm{True}\\)</html>",
      "text/latex": [
       "$\\displaystyle \\mathrm{True}$"
      ],
      "text/plain": [
       "True"
      ]
     },
     "execution_count": 12,
     "metadata": {
     },
     "output_type": "execute_result"
    }
   ],
   "source": [
    "poly in R"
   ]
  },
  {
   "cell_type": "code",
   "execution_count": 13,
   "id": "f7774143-3977-4fb9-b6a2-3c7a7cd093f7",
   "metadata": {
    "collapsed": false
   },
   "outputs": [
    {
     "data": {
      "text/html": "<html>\\(\\displaystyle \\newcommand{\\Bold}[1]{\\mathbf{#1}}\\Bold{Q}[t]\\)</html>",
      "text/latex": [
       "$\\displaystyle \\newcommand{\\Bold}[1]{\\mathbf{#1}}\\Bold{Q}[t]$"
      ],
      "text/plain": [
       "Univariate Polynomial Ring in t over Rational Field"
      ]
     },
     "execution_count": 13,
     "metadata": {
     },
     "output_type": "execute_result"
    }
   ],
   "source": [
    "poly.parent()"
   ]
  },
  {
   "cell_type": "code",
   "execution_count": 14,
   "id": "154df3",
   "metadata": {
    "collapsed": false
   },
   "outputs": [
    {
     "data": {
      "text/html": "<html>\\(\\displaystyle \\text{SR}\\)</html>",
      "text/latex": [
       "$\\displaystyle \\text{SR}$"
      ],
      "text/plain": [
       "Symbolic Ring"
      ]
     },
     "execution_count": 14,
     "metadata": {
     },
     "output_type": "execute_result"
    }
   ],
   "source": [
    "x.parent()"
   ]
  },
  {
   "cell_type": "markdown",
   "id": "d57aa357-8743-479c-846c-3195aeb14676",
   "metadata": {
    "collapsed": false
   },
   "source": [
    "Whatever method you use to define a polynomial ring, you can recover the indeterminate as the 0th generator:"
   ]
  },
  {
   "cell_type": "code",
   "execution_count": 15,
   "id": "b6a83021-446d-4f68-955f-cd7ef4ecb3a4",
   "metadata": {
    "collapsed": false
   },
   "outputs": [
    {
     "data": {
      "text/html": "<html>\\(\\displaystyle \\mathrm{True}\\)</html>",
      "text/latex": [
       "$\\displaystyle \\mathrm{True}$"
      ],
      "text/plain": [
       "True"
      ]
     },
     "execution_count": 15,
     "metadata": {
     },
     "output_type": "execute_result"
    }
   ],
   "source": [
    "R = PolynomialRing(QQ, 't')\n",
    "t = R.0\n",
    "t in R"
   ]
  },
  {
   "cell_type": "markdown",
   "id": "fb4044e6-7ea9-4ce1-9a04-a9f6972505eb",
   "metadata": {
    "collapsed": false
   },
   "source": [
    "Finally we do some arithmetic in $\\mathbb{Q}[t]$."
   ]
  },
  {
   "cell_type": "code",
   "execution_count": 16,
   "id": "f508f54c-6b7a-4867-a277-d5c08e46e9fe",
   "metadata": {
    "collapsed": false
   },
   "outputs": [
    {
     "data": {
      "text/html": "<html>\\(\\displaystyle 4 t^{14} + 12 t^{9} - \\frac{60}{19} t^{7} + 9 t^{4} - \\frac{90}{19} t^{2} + \\frac{225}{361}\\)</html>",
      "text/latex": [
       "$\\displaystyle 4 t^{14} + 12 t^{9} - \\frac{60}{19} t^{7} + 9 t^{4} - \\frac{90}{19} t^{2} + \\frac{225}{361}$"
      ],
      "text/plain": [
       "4*t^14 + 12*t^9 - 60/19*t^7 + 9*t^4 - 90/19*t^2 + 225/361"
      ]
     },
     "execution_count": 16,
     "metadata": {
     },
     "output_type": "execute_result"
    }
   ],
   "source": [
    "R.<t> = QQ[]\n",
    "f = 2*t^7 + 3*t^2 - 15/19\n",
    "f^2"
   ]
  },
  {
   "cell_type": "code",
   "execution_count": 17,
   "id": "6afa79a7-6ec9-4247-919b-ca970e1412e7",
   "metadata": {
    "collapsed": false
   },
   "outputs": [
    {
     "data": {
      "text/html": "<html>\\(\\displaystyle t^{6} + t^{5} + t^{4} + t^{3} + t^{2} + t + 1\\)</html>",
      "text/latex": [
       "$\\displaystyle t^{6} + t^{5} + t^{4} + t^{3} + t^{2} + t + 1$"
      ],
      "text/plain": [
       "t^6 + t^5 + t^4 + t^3 + t^2 + t + 1"
      ]
     },
     "execution_count": 17,
     "metadata": {
     },
     "output_type": "execute_result"
    }
   ],
   "source": [
    "(cyclo := R.cyclotomic_polynomial(7))"
   ]
  },
  {
   "cell_type": "code",
   "execution_count": 18,
   "id": "4d855ac2-ff6b-45c1-a0a4-a8b1d0d8c5ab",
   "metadata": {
    "collapsed": false
   },
   "outputs": [
    {
     "data": {
      "text/html": "<html>\\(\\displaystyle 7 t^{16} + 7 t^{15} + 7 t^{14} + 7 t^{13} + 77 t^{12} + 91 t^{11} + 91 t^{10} + 84 t^{9} + 84 t^{8} + 84 t^{7} + 84 t^{6} + 14 t^{5}\\)</html>",
      "text/latex": [
       "$\\displaystyle 7 t^{16} + 7 t^{15} + 7 t^{14} + 7 t^{13} + 77 t^{12} + 91 t^{11} + 91 t^{10} + 84 t^{9} + 84 t^{8} + 84 t^{7} + 84 t^{6} + 14 t^{5}$"
      ],
      "text/plain": [
       "7*t^16 + 7*t^15 + 7*t^14 + 7*t^13 + 77*t^12 + 91*t^11 + 91*t^10 + 84*t^9 + 84*t^8 + 84*t^7 + 84*t^6 + 14*t^5"
      ]
     },
     "execution_count": 18,
     "metadata": {
     },
     "output_type": "execute_result"
    }
   ],
   "source": [
    "(g := 7 * cyclo * t^5 * (t^5 + 10*t + 2))"
   ]
  },
  {
   "cell_type": "code",
   "execution_count": 19,
   "id": "749b75d9-e1f3-4c20-95f5-06921f21df86",
   "metadata": {
    "collapsed": false
   },
   "outputs": [
    {
     "data": {
      "text/html": "<html>\\(\\displaystyle \\left(7\\right) \\cdot t^{5} \\cdot (t^{5} + 10 t + 2) \\cdot (t^{6} + t^{5} + t^{4} + t^{3} + t^{2} + t + 1)\\)</html>",
      "text/latex": [
       "$\\displaystyle \\left(7\\right) \\cdot t^{5} \\cdot (t^{5} + 10 t + 2) \\cdot (t^{6} + t^{5} + t^{4} + t^{3} + t^{2} + t + 1)$"
      ],
      "text/plain": [
       "(7) * t^5 * (t^5 + 10*t + 2) * (t^6 + t^5 + t^4 + t^3 + t^2 + t + 1)"
      ]
     },
     "execution_count": 19,
     "metadata": {
     },
     "output_type": "execute_result"
    }
   ],
   "source": [
    "(F := factor(g))"
   ]
  },
  {
   "cell_type": "code",
   "execution_count": 20,
   "id": "52e2fbf1-c744-449c-ab17-cf072c731227",
   "metadata": {
    "collapsed": false
   },
   "outputs": [
    {
     "data": {
      "text/html": "<html>\\(\\displaystyle 7\\)</html>",
      "text/latex": [
       "$\\displaystyle 7$"
      ],
      "text/plain": [
       "7"
      ]
     },
     "execution_count": 20,
     "metadata": {
     },
     "output_type": "execute_result"
    }
   ],
   "source": [
    "F.unit()"
   ]
  },
  {
   "cell_type": "code",
   "execution_count": 21,
   "id": "249ed036-bc83-439a-be6e-26243170baf5",
   "metadata": {
    "collapsed": false
   },
   "outputs": [
    {
     "data": {
      "text/html": "<html>\\(\\displaystyle \\left[\\left(t, 5\\right), \\left(t^{5} + 10 t + 2, 1\\right), \\left(t^{6} + t^{5} + t^{4} + t^{3} + t^{2} + t + 1, 1\\right)\\right]\\)</html>",
      "text/latex": [
       "$\\displaystyle \\left[\\left(t, 5\\right), \\left(t^{5} + 10 t + 2, 1\\right), \\left(t^{6} + t^{5} + t^{4} + t^{3} + t^{2} + t + 1, 1\\right)\\right]$"
      ],
      "text/plain": [
       "[(t, 5), (t^5 + 10*t + 2, 1), (t^6 + t^5 + t^4 + t^3 + t^2 + t + 1, 1)]"
      ]
     },
     "execution_count": 21,
     "metadata": {
     },
     "output_type": "execute_result"
    }
   ],
   "source": [
    "list(F)"
   ]
  },
  {
   "cell_type": "markdown",
   "id": "6d8f2339-660a-4176-8671-f52498f8b6b3",
   "metadata": {
    "collapsed": false
   },
   "source": [
    "Notice that the factorization correctly takes into account and records the unit part.\n",
    "\n",
    "Dividing two polynomials constructs an element of the fraction field (which Sage creates automatically)."
   ]
  },
  {
   "cell_type": "code",
   "execution_count": 17,
   "id": "3373b1ff-1f81-4910-a652-f33fb530d587",
   "metadata": {
    "collapsed": false
   },
   "outputs": [
    {
     "data": {
      "text/html": "<html>\\(\\displaystyle \\frac{x^{3} + 1}{x^{2} - 17}\\)</html>",
      "text/latex": [
       "$\\displaystyle \\frac{x^{3} + 1}{x^{2} - 17}$"
      ],
      "text/plain": [
       "(x^3 + 1)/(x^2 - 17)"
      ]
     },
     "execution_count": 17,
     "metadata": {
     },
     "output_type": "execute_result"
    }
   ],
   "source": [
    "x = QQ['x'].0\n",
    "f = x^3 + 1\n",
    "g = x^2 - 17\n",
    "(h := f/g)"
   ]
  },
  {
   "cell_type": "code",
   "execution_count": 23,
   "id": "3f95e4de-e232-4d5f-9a5f-f87cae6c5ae7",
   "metadata": {
    "collapsed": false
   },
   "outputs": [
    {
     "data": {
      "text/html": "<html>\\(\\displaystyle \\newcommand{\\Bold}[1]{\\mathbf{#1}}\\mathrm{Frac}(\\Bold{Q}[x])\\)</html>",
      "text/latex": [
       "$\\displaystyle \\newcommand{\\Bold}[1]{\\mathbf{#1}}\\mathrm{Frac}(\\Bold{Q}[x])$"
      ],
      "text/plain": [
       "Fraction Field of Univariate Polynomial Ring in x over Rational Field"
      ]
     },
     "execution_count": 23,
     "metadata": {
     },
     "output_type": "execute_result"
    }
   ],
   "source": [
    "h.parent()"
   ]
  },
  {
   "cell_type": "markdown",
   "id": "35bb8b42-c6b8-4a8c-b5bd-cd3f0e04a39a",
   "metadata": {
    "collapsed": false
   },
   "source": [
    "If we name the variable differently, we obtain a different univariate polynomial ring."
   ]
  },
  {
   "cell_type": "code",
   "execution_count": 24,
   "id": "de8bd7a4-042c-4789-ab70-98ce587fd341",
   "metadata": {
    "collapsed": false
   },
   "outputs": [
   ],
   "source": [
    "R.<x> = PolynomialRing(QQ)\n",
    "S.<y> = PolynomialRing(QQ)"
   ]
  },
  {
   "cell_type": "code",
   "execution_count": 25,
   "id": "c5752db9-232e-41a5-bd5a-ec7b4f61aa61",
   "metadata": {
    "collapsed": false
   },
   "outputs": [
    {
     "data": {
      "text/html": "<html>\\(\\displaystyle \\mathrm{False}\\)</html>",
      "text/latex": [
       "$\\displaystyle \\mathrm{False}$"
      ],
      "text/plain": [
       "False"
      ]
     },
     "execution_count": 25,
     "metadata": {
     },
     "output_type": "execute_result"
    }
   ],
   "source": [
    "x == y"
   ]
  },
  {
   "cell_type": "code",
   "execution_count": 26,
   "id": "a0c42e47-749f-4974-a0d4-538543e159cf",
   "metadata": {
    "collapsed": false
   },
   "outputs": [
    {
     "data": {
      "text/html": "<html>\\(\\displaystyle \\mathrm{False}\\)</html>",
      "text/latex": [
       "$\\displaystyle \\mathrm{False}$"
      ],
      "text/plain": [
       "False"
      ]
     },
     "execution_count": 26,
     "metadata": {
     },
     "output_type": "execute_result"
    }
   ],
   "source": [
    "R == S"
   ]
  },
  {
   "cell_type": "code",
   "execution_count": 27,
   "id": "3dae0819-e16f-4314-8683-9217450f13ce",
   "metadata": {
    "collapsed": false
   },
   "outputs": [
    {
     "data": {
      "text/html": "<html>\\(\\displaystyle x\\)</html>",
      "text/latex": [
       "$\\displaystyle x$"
      ],
      "text/plain": [
       "x"
      ]
     },
     "execution_count": 27,
     "metadata": {
     },
     "output_type": "execute_result"
    }
   ],
   "source": [
    "R(y)"
   ]
  },
  {
   "cell_type": "code",
   "execution_count": 28,
   "id": "98611a90-1c02-4aa4-84b1-001be10bd09b",
   "metadata": {
    "collapsed": false
   },
   "outputs": [
    {
     "data": {
      "text/html": "<html>\\(\\displaystyle x^{2} - 17\\)</html>",
      "text/latex": [
       "$\\displaystyle x^{2} - 17$"
      ],
      "text/plain": [
       "x^2 - 17"
      ]
     },
     "execution_count": 28,
     "metadata": {
     },
     "output_type": "execute_result"
    }
   ],
   "source": [
    "R(y^2 - 17)"
   ]
  },
  {
   "cell_type": "code",
   "execution_count": 29,
   "id": "cb61b6",
   "metadata": {
    "collapsed": false,
    "scrolled": true
   },
   "outputs": [
    {
     "ename": "TypeError",
     "evalue": "unsupported operand parent(s) for *: 'Univariate Polynomial Ring in x over Rational Field' and 'Univariate Polynomial Ring in y over Rational Field'",
     "output_type": "error",
     "traceback": [
      "\u001b[0;31m---------------------------------------------------------------------------\u001b[0m",
      "\u001b[0;31mTypeError\u001b[0m                                 Traceback (most recent call last)",
      "Cell \u001b[0;32mIn[29], line 1\u001b[0m\n\u001b[0;32m----> 1\u001b[0m \u001b[43mx\u001b[49m\u001b[38;5;241;43m*\u001b[39;49m\u001b[43my\u001b[49m\n",
      "File \u001b[0;32m/ext/sage/10.7/src/sage/structure/element.pyx:1512\u001b[0m, in \u001b[0;36msage.structure.element.Element.__mul__\u001b[0;34m()\u001b[0m\n\u001b[1;32m   1510\u001b[0m     return (<Element>left)._mul_(right)\n\u001b[1;32m   1511\u001b[0m if BOTH_ARE_ELEMENT(cl):\n\u001b[0;32m-> 1512\u001b[0m     return coercion_model.bin_op(left, right, mul)\n\u001b[1;32m   1513\u001b[0m \n\u001b[1;32m   1514\u001b[0m cdef long value\n",
      "File \u001b[0;32m/ext/sage/10.7/src/sage/structure/coerce.pyx:1288\u001b[0m, in \u001b[0;36msage.structure.coerce.CoercionModel.bin_op\u001b[0;34m()\u001b[0m\n\u001b[1;32m   1286\u001b[0m     # We should really include the underlying error.\n\u001b[1;32m   1287\u001b[0m     # This causes so much headache.\n\u001b[0;32m-> 1288\u001b[0m     raise bin_op_exception(op, x, y)\n\u001b[1;32m   1289\u001b[0m \n\u001b[1;32m   1290\u001b[0m cpdef canonical_coercion(self, x, y):\n",
      "\u001b[0;31mTypeError\u001b[0m: unsupported operand parent(s) for *: 'Univariate Polynomial Ring in x over Rational Field' and 'Univariate Polynomial Ring in y over Rational Field'"
     ]
    }
   ],
   "source": [
    "x*y"
   ]
  },
  {
   "cell_type": "code",
   "execution_count": 4,
   "id": "b4bd75",
   "metadata": {
    "collapsed": false
   },
   "outputs": [
   ],
   "source": [
    "S.<x, y> = Integers(13)[]"
   ]
  },
  {
   "cell_type": "code",
   "execution_count": 31,
   "id": "1fc6ba",
   "metadata": {
    "collapsed": false
   },
   "outputs": [
    {
     "data": {
      "text/html": "<html>\\(\\displaystyle x y\\)</html>",
      "text/latex": [
       "$\\displaystyle x y$"
      ],
      "text/plain": [
       "x*y"
      ]
     },
     "execution_count": 31,
     "metadata": {
     },
     "output_type": "execute_result"
    }
   ],
   "source": [
    "x*y"
   ]
  },
  {
   "cell_type": "code",
   "execution_count": 33,
   "id": "7d7fd1",
   "metadata": {
    "collapsed": false
   },
   "outputs": [
    {
     "data": {
      "text/html": "<html>\\(\\displaystyle 11 x y\\)</html>",
      "text/latex": [
       "$\\displaystyle 11 x y$"
      ],
      "text/plain": [
       "11*x*y"
      ]
     },
     "execution_count": 33,
     "metadata": {
     },
     "output_type": "execute_result"
    }
   ],
   "source": [
    "3*x* 8*y"
   ]
  },
  {
   "cell_type": "code",
   "execution_count": 7,
   "id": "82785e",
   "metadata": {
    "collapsed": false
   },
   "outputs": [
    {
     "data": {
      "text/html": "<html>\\(\\displaystyle \\left(\\begin{array}{rr}\nx y & 3 y \\\\\n5 x & x y - x\n\\end{array}\\right)\\)</html>",
      "text/latex": [
       "$\\displaystyle \\left(\\begin{array}{rr}\n",
       "x y & 3 y \\\\\n",
       "5 x & x y - x\n",
       "\\end{array}\\right)$"
      ],
      "text/plain": [
       "[       x*y        3*y]\n",
       "[       5*x x*y + 12*x]"
      ]
     },
     "execution_count": 7,
     "metadata": {
     },
     "output_type": "execute_result"
    }
   ],
   "source": [
    "(M := Matrix([[x*y, 3*y], [5*x, x*y - x]]))"
   ]
  },
  {
   "cell_type": "code",
   "execution_count": 9,
   "id": "7158d9",
   "metadata": {
    "collapsed": false
   },
   "outputs": [
    {
     "data": {
      "text/html": "<html>\\(\\displaystyle \\left(\\begin{array}{rr}\nx^{2} y^{2} + x y & 6 x y^{2} + 10 x y + 10 y \\\\\n10 x^{2} y + 8 x^{2} + 8 x & x^{2} y^{2} + 11 x^{2} y + x^{2} + x y + x\n\\end{array}\\right)\\)</html>",
      "text/latex": [
       "$\\displaystyle \\left(\\begin{array}{rr}\n",
       "x^{2} y^{2} + x y & 6 x y^{2} + 10 x y + 10 y \\\\\n",
       "10 x^{2} y + 8 x^{2} + 8 x & x^{2} y^{2} + 11 x^{2} y + x^{2} + x y + x\n",
       "\\end{array}\\right)$"
      ],
      "text/plain": [
       "[                     x^2*y^2 + x*y            6*x*y^2 + 10*x*y + 10*y]\n",
       "[            10*x^2*y + 8*x^2 + 8*x x^2*y^2 + 11*x^2*y + x^2 + x*y + x]"
      ]
     },
     "execution_count": 9,
     "metadata": {
     },
     "output_type": "execute_result"
    }
   ],
   "source": [
    "M^2 - M"
   ]
  },
  {
   "cell_type": "code",
   "execution_count": 10,
   "id": "0ef901",
   "metadata": {
    "collapsed": false
   },
   "outputs": [
    {
     "data": {
      "text/html": "<html>\\(\\displaystyle \\newcommand{\\ZZ}{\\Bold{Z}}\\newcommand{\\Bold}[1]{\\mathbf{#1}}\\mathrm{Mat}_{2\\times 2}(\\ZZ/13\\ZZ[x, y])\\)</html>",
      "text/latex": [
       "$\\displaystyle \\newcommand{\\ZZ}{\\Bold{Z}}\\newcommand{\\Bold}[1]{\\mathbf{#1}}\\mathrm{Mat}_{2\\times 2}(\\ZZ/13\\ZZ[x, y])$"
      ],
      "text/plain": [
       "Full MatrixSpace of 2 by 2 dense matrices over Multivariate Polynomial Ring in x, y over Ring of integers modulo 13"
      ]
     },
     "execution_count": 10,
     "metadata": {
     },
     "output_type": "execute_result"
    }
   ],
   "source": [
    "M.parent()"
   ]
  },
  {
   "cell_type": "code",
   "execution_count": 15,
   "id": "7432bc",
   "metadata": {
    "collapsed": false
   },
   "outputs": [
    {
     "data": {
      "text/html": "<html>\\(\\displaystyle 2\\)</html>",
      "text/latex": [
       "$\\displaystyle 2$"
      ],
      "text/plain": [
       "2"
      ]
     },
     "execution_count": 15,
     "metadata": {
     },
     "output_type": "execute_result"
    }
   ],
   "source": [
    "S(7) + 8"
   ]
  },
  {
   "cell_type": "code",
   "execution_count": 19,
   "id": "b6b335",
   "metadata": {
    "collapsed": false
   },
   "outputs": [
    {
     "data": {
      "text/html": "<html>\\(\\displaystyle x + y\\)</html>",
      "text/latex": [
       "$\\displaystyle x + y$"
      ],
      "text/plain": [
       "x + y"
      ]
     },
     "execution_count": 19,
     "metadata": {
     },
     "output_type": "execute_result"
    }
   ],
   "source": [
    "S(x) + y"
   ]
  }
 ],
 "metadata": {
  "kernelspec": {
   "argv": [
    "sage-10.7",
    "--python",
    "-m",
    "sage.repl.ipython_kernel",
    "--matplotlib=inline",
    "-f",
    "{connection_file}"
   ],
   "display_name": "SageMath 10.7",
   "env": {
   },
   "language": "sagemath",
   "metadata": {
    "cocalc": {
     "description": "Open-source mathematical software system",
     "priority": 10,
     "url": "https://www.sagemath.org/"
    }
   },
   "name": "sage-10.7",
   "resource_dir": "/ext/jupyter/kernels/sage-10.7"
  },
  "language_info": {
   "codemirror_mode": {
    "name": "ipython",
    "version": 3
   },
   "file_extension": ".py",
   "mimetype": "text/x-python",
   "name": "python",
   "nbconvert_exporter": "python",
   "pygments_lexer": "ipython3",
   "version": "3.12.3"
  }
 },
 "nbformat": 4,
 "nbformat_minor": 4
}