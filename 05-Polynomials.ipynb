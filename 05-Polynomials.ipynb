{
 "cells": [
  {
   "cell_type": "markdown",
   "id": "35f7e856-5465-4059-9c37-f9dddd569e30",
   "metadata": {},
   "source": [
    "# Polynomials"
   ]
  },
  {
   "cell_type": "code",
   "execution_count": null,
   "id": "4b46f861-0a22-45cf-a93f-79e82ffc44b9",
   "metadata": {},
   "outputs": [],
   "source": [
    "%display latex"
   ]
  },
  {
   "cell_type": "markdown",
   "id": "e62c36f1-b417-4788-810d-9f5c79880265",
   "metadata": {},
   "source": [
    "## Univariate Polynomials\n",
    "\n",
    "There are three ways to create polynomial rings."
   ]
  },
  {
   "cell_type": "code",
   "execution_count": null,
   "id": "128fb015-983f-4069-942c-c88abf247275",
   "metadata": {},
   "outputs": [],
   "source": [
    "(R := PolynomialRing(QQ, 't'))"
   ]
  },
  {
   "cell_type": "markdown",
   "id": "77237282-991b-443d-9918-9e4631600a5a",
   "metadata": {},
   "source": [
    "This creates a polynomial ring and tells Sage to use (the string) ‘t’ as the indeterminate when printing to the screen. However, this does not define the symbol `t` for use in Sage, so you cannot use it to enter a polynomial (such as $t^2 + 1$) belonging to `R`.\n",
    "\n",
    "An alternate way is"
   ]
  },
  {
   "cell_type": "code",
   "execution_count": null,
   "id": "b89c5786-3c14-448f-b4e0-62ed66af4720",
   "metadata": {},
   "outputs": [],
   "source": [
    "(S := QQ['t'])"
   ]
  },
  {
   "cell_type": "code",
   "execution_count": null,
   "id": "d30accd0-849f-4568-8ee5-2daf50eb7666",
   "metadata": {},
   "outputs": [],
   "source": [
    "S == R"
   ]
  },
  {
   "cell_type": "markdown",
   "id": "c933920c-8b1b-401b-aa48-8bb1d6506ac2",
   "metadata": {},
   "source": [
    "This has the same issue regarding `t`.\n",
    "\n",
    "A third very convenient way is"
   ]
  },
  {
   "cell_type": "code",
   "execution_count": null,
   "id": "d1717757-353a-4507-b0bb-0d6195230eeb",
   "metadata": {},
   "outputs": [],
   "source": [
    "R.<t> = PolynomialRing(QQ)"
   ]
  },
  {
   "cell_type": "markdown",
   "id": "11392ee0-7844-4f73-96c6-743522553de5",
   "metadata": {},
   "source": [
    "or"
   ]
  },
  {
   "cell_type": "code",
   "execution_count": null,
   "id": "56b9646a-6d51-41c5-a53c-60f48f202c7b",
   "metadata": {},
   "outputs": [],
   "source": [
    "R.<t> = QQ['t']"
   ]
  },
  {
   "cell_type": "markdown",
   "id": "5724680d-942c-4093-a3e0-c15e29a9e6ce",
   "metadata": {},
   "source": [
    "or even"
   ]
  },
  {
   "cell_type": "code",
   "execution_count": null,
   "id": "d2570362-7056-4202-81e9-6852760871bf",
   "metadata": {},
   "outputs": [],
   "source": [
    "R.<t> = QQ[]"
   ]
  },
  {
   "cell_type": "markdown",
   "id": "b65a4741-173f-4dfe-9abb-278f55aec5e6",
   "metadata": {},
   "source": [
    "This has the additional side effect that it defines the variable `t` to be the indeterminate of the polynomial ring, so you can easily construct elements of `R`, as follows."
   ]
  },
  {
   "cell_type": "code",
   "execution_count": null,
   "id": "a6879270-fbe5-49fc-b02c-13e70315c043",
   "metadata": {},
   "outputs": [],
   "source": [
    "(poly := (t+1) * (t+2))"
   ]
  },
  {
   "cell_type": "code",
   "execution_count": null,
   "id": "f7039131-8d7b-4066-9f48-6751b7c294d1",
   "metadata": {},
   "outputs": [],
   "source": [
    "poly in R"
   ]
  },
  {
   "cell_type": "code",
   "execution_count": null,
   "id": "f7774143-3977-4fb9-b6a2-3c7a7cd093f7",
   "metadata": {},
   "outputs": [],
   "source": [
    "poly.parent()"
   ]
  },
  {
   "cell_type": "markdown",
   "id": "d57aa357-8743-479c-846c-3195aeb14676",
   "metadata": {},
   "source": [
    "Whatever method you use to define a polynomial ring, you can recover the indeterminate as the 0th generator:"
   ]
  },
  {
   "cell_type": "code",
   "execution_count": null,
   "id": "b6a83021-446d-4f68-955f-cd7ef4ecb3a4",
   "metadata": {},
   "outputs": [],
   "source": [
    "R = PolynomialRing(QQ, 't')\n",
    "t = R.0\n",
    "t in R"
   ]
  },
  {
   "cell_type": "markdown",
   "id": "fb4044e6-7ea9-4ce1-9a04-a9f6972505eb",
   "metadata": {},
   "source": [
    "Finally we do some arithmetic in $\\mathbb{Q}[t]$."
   ]
  },
  {
   "cell_type": "code",
   "execution_count": null,
   "id": "f508f54c-6b7a-4867-a277-d5c08e46e9fe",
   "metadata": {},
   "outputs": [],
   "source": [
    "R.<t> = QQ[]\n",
    "f = 2*t^7 + 3*t^2 - 15/19\n",
    "f^2"
   ]
  },
  {
   "cell_type": "code",
   "execution_count": null,
   "id": "6afa79a7-6ec9-4247-919b-ca970e1412e7",
   "metadata": {},
   "outputs": [],
   "source": [
    "(cyclo := R.cyclotomic_polynomial(7))"
   ]
  },
  {
   "cell_type": "code",
   "execution_count": null,
   "id": "4d855ac2-ff6b-45c1-a0a4-a8b1d0d8c5ab",
   "metadata": {},
   "outputs": [],
   "source": [
    "(g := 7 * cyclo * t^5 * (t^5 + 10*t + 2))"
   ]
  },
  {
   "cell_type": "code",
   "execution_count": null,
   "id": "749b75d9-e1f3-4c20-95f5-06921f21df86",
   "metadata": {},
   "outputs": [],
   "source": [
    "(F := factor(g))"
   ]
  },
  {
   "cell_type": "code",
   "execution_count": null,
   "id": "52e2fbf1-c744-449c-ab17-cf072c731227",
   "metadata": {},
   "outputs": [],
   "source": [
    "F.unit()"
   ]
  },
  {
   "cell_type": "code",
   "execution_count": null,
   "id": "249ed036-bc83-439a-be6e-26243170baf5",
   "metadata": {},
   "outputs": [],
   "source": [
    "list(F)"
   ]
  },
  {
   "cell_type": "markdown",
   "id": "6d8f2339-660a-4176-8671-f52498f8b6b3",
   "metadata": {},
   "source": [
    "Notice that the factorization correctly takes into account and records the unit part.\n",
    "\n",
    "Dividing two polynomials constructs an element of the fraction field (which Sage creates automatically)."
   ]
  },
  {
   "cell_type": "code",
   "execution_count": null,
   "id": "3373b1ff-1f81-4910-a652-f33fb530d587",
   "metadata": {},
   "outputs": [],
   "source": [
    "x = QQ['x'].0\n",
    "f = x^3 + 1\n",
    "g = x^2 - 17\n",
    "(h := f/g)"
   ]
  },
  {
   "cell_type": "code",
   "execution_count": null,
   "id": "3f95e4de-e232-4d5f-9a5f-f87cae6c5ae7",
   "metadata": {},
   "outputs": [],
   "source": [
    "h.parent()"
   ]
  },
  {
   "cell_type": "markdown",
   "id": "35bb8b42-c6b8-4a8c-b5bd-cd3f0e04a39a",
   "metadata": {},
   "source": [
    "If we name the variable differently, we obtain a different univariate polynomial ring."
   ]
  },
  {
   "cell_type": "code",
   "execution_count": null,
   "id": "de8bd7a4-042c-4789-ab70-98ce587fd341",
   "metadata": {},
   "outputs": [],
   "source": [
    "R.<x> = PolynomialRing(QQ)\n",
    "S.<y> = PolynomialRing(QQ)"
   ]
  },
  {
   "cell_type": "code",
   "execution_count": null,
   "id": "c5752db9-232e-41a5-bd5a-ec7b4f61aa61",
   "metadata": {},
   "outputs": [],
   "source": [
    "x == y"
   ]
  },
  {
   "cell_type": "code",
   "execution_count": null,
   "id": "a0c42e47-749f-4974-a0d4-538543e159cf",
   "metadata": {},
   "outputs": [],
   "source": [
    "R == S"
   ]
  },
  {
   "cell_type": "code",
   "execution_count": null,
   "id": "3dae0819-e16f-4314-8683-9217450f13ce",
   "metadata": {},
   "outputs": [],
   "source": [
    "R(y)"
   ]
  },
  {
   "cell_type": "code",
   "execution_count": null,
   "id": "98611a90-1c02-4aa4-84b1-001be10bd09b",
   "metadata": {},
   "outputs": [],
   "source": [
    "R(y^2 - 17)"
   ]
  }
 ],
 "metadata": {
  "kernelspec": {
   "display_name": "SageMath 10.6.beta2",
   "language": "sage",
   "name": "sagemath"
  },
  "language_info": {
   "codemirror_mode": {
    "name": "ipython",
    "version": 3
   },
   "file_extension": ".py",
   "mimetype": "text/x-python",
   "name": "python",
   "nbconvert_exporter": "python",
   "pygments_lexer": "ipython3",
   "version": "3.12.3"
  }
 },
 "nbformat": 4,
 "nbformat_minor": 5
}
