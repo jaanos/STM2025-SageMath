{
 "cells": [
  {
   "cell_type": "markdown",
   "id": "a1eadbe0-3abf-4818-91db-8259a7b25f17",
   "metadata": {},
   "source": [
    "# Linear algebra\n",
    "\n",
    "Sage provides standard constructions from linear algebra, e.g., the characteristic polynomial, echelon form, trace, decomposition, etc., of a matrix."
   ]
  },
  {
   "cell_type": "code",
   "execution_count": null,
   "id": "c8696309-243f-4d77-ae45-7eeec06cbc42",
   "metadata": {},
   "outputs": [],
   "source": [
    "%display latex"
   ]
  },
  {
   "cell_type": "markdown",
   "id": "877177d6-c3c2-455e-ba7d-ac18d3266530",
   "metadata": {},
   "source": [
    "Creation of matrices and matrix multiplication is easy and natural:"
   ]
  },
  {
   "cell_type": "code",
   "execution_count": null,
   "id": "8a6b0f9e-18be-44f6-b830-330447f9b304",
   "metadata": {},
   "outputs": [],
   "source": [
    "A = Matrix([[1, 2, 3],[3, 2, 1],[1, 1, 1]])\n",
    "w = vector([1, 1, -4])"
   ]
  },
  {
   "cell_type": "code",
   "execution_count": null,
   "id": "68fa7bda-09e4-4090-904d-36d7b6372e84",
   "metadata": {},
   "outputs": [],
   "source": [
    "w * A"
   ]
  },
  {
   "cell_type": "code",
   "execution_count": null,
   "id": "b8219db1-9ad3-42aa-a8b0-fb6bf34fa461",
   "metadata": {},
   "outputs": [],
   "source": [
    "A * w"
   ]
  },
  {
   "cell_type": "code",
   "execution_count": null,
   "id": "6ef63cb4-2323-47d2-ad57-ea2ac73888d6",
   "metadata": {},
   "outputs": [],
   "source": [
    "%display plain\n",
    "kernel(A)"
   ]
  },
  {
   "cell_type": "markdown",
   "id": "1f1b2c25-edb4-420a-84cf-491879fdf350",
   "metadata": {},
   "source": [
    "Note that in Sage, the kernel of a matrix $A$ is the “left kernel”, i.e. the space of vectors $w$ such that $wA = 0$.\n",
    "\n",
    "Solving matrix equations is easy, using the method `solve_right`. Evaluating `A.solve_right(Y)` returns a matrix (or vector) $X$\n",
    "so that $AX = Y$:"
   ]
  },
  {
   "cell_type": "code",
   "execution_count": null,
   "id": "d78d0876-dbcc-4913-a156-dc14faa35749",
   "metadata": {},
   "outputs": [],
   "source": [
    "Y = vector([0, -4, -1])\n",
    "(X := A.solve_right(Y))"
   ]
  },
  {
   "cell_type": "code",
   "execution_count": null,
   "id": "25b7edee-d193-4136-b456-6e23e75b1f0a",
   "metadata": {},
   "outputs": [],
   "source": [
    "A * X"
   ]
  },
  {
   "cell_type": "markdown",
   "id": "9c82b9c9-1d48-4228-8d04-3d2e13ae4fcb",
   "metadata": {},
   "source": [
    "If there is no solution, Sage returns an error:"
   ]
  },
  {
   "cell_type": "code",
   "execution_count": null,
   "id": "862df0df-f2ce-4fc0-b62e-5c5a72cd7526",
   "metadata": {},
   "outputs": [],
   "source": [
    "A.solve_right(w)"
   ]
  },
  {
   "cell_type": "markdown",
   "id": "eb436cb0-8948-448d-9663-f2bc9480510b",
   "metadata": {},
   "source": [
    "Similarly, use `A.solve_left(Y)` to solve for $X$ in $XA = Y$.\n",
    "\n",
    "Sage can also compute eigenvalues and eigenvectors:"
   ]
  },
  {
   "cell_type": "code",
   "execution_count": null,
   "id": "bded0617-cea1-4253-b82f-0bb6a52513cf",
   "metadata": {},
   "outputs": [],
   "source": [
    "A = matrix([[0, 4], [-1, 0]])\n",
    "A.eigenvalues()"
   ]
  },
  {
   "cell_type": "markdown",
   "id": "784d5c50-08f8-433d-98ab-95ce68d84fcb",
   "metadata": {},
   "source": [
    "The syntax for the output of `eigenvectors_left` is a list of triples: (eigenvalue, eigenvector, multiplicity):"
   ]
  },
  {
   "cell_type": "code",
   "execution_count": null,
   "id": "53343af3-304f-4917-9b23-9eb8eaa18426",
   "metadata": {},
   "outputs": [],
   "source": [
    "B = matrix([[1, 3], [3, 1]])\n",
    "B.eigenvectors_left()"
   ]
  },
  {
   "cell_type": "markdown",
   "id": "d6cedc1b-daa0-47ef-b274-b972ea8f443f",
   "metadata": {},
   "source": [
    "The ring over which a matrix is defined affects some of its properties. In the following, the first argument to the matrix command tells Sage to view the matrix as a matrix of integers (the `ZZ` case), a matrix of rational numbers (`QQ`), or a matrix of reals (`RR`):"
   ]
  },
  {
   "cell_type": "code",
   "execution_count": null,
   "id": "df8670a1-a538-493c-a977-d2deb5099300",
   "metadata": {},
   "outputs": [],
   "source": [
    "AZ = matrix(ZZ, [[2, 0], [0, 1]])\n",
    "AQ = matrix(QQ, [[2, 0], [0, 1]])\n",
    "AR = matrix(RR, [[2, 0], [0, 1]])"
   ]
  },
  {
   "cell_type": "code",
   "execution_count": null,
   "id": "70a173ca-ea74-483e-bc9c-6e1d769fdd4a",
   "metadata": {},
   "outputs": [],
   "source": [
    "AZ.echelon_form()"
   ]
  },
  {
   "cell_type": "code",
   "execution_count": null,
   "id": "674335ec-f4c0-4e9f-92b2-a002d617f454",
   "metadata": {},
   "outputs": [],
   "source": [
    "AQ.echelon_form()"
   ]
  },
  {
   "cell_type": "code",
   "execution_count": null,
   "id": "8313e828-56ef-464e-9711-4a8d659aacce",
   "metadata": {},
   "outputs": [],
   "source": [
    "AR.echelon_form()"
   ]
  },
  {
   "cell_type": "markdown",
   "id": "e4d38b18-6390-4f75-90db-3a732b8cfbff",
   "metadata": {},
   "source": [
    "For computing eigenvalues and eigenvectors of matrices over floating point real or complex numbers, the matrix should be defined over `RDF` (Real Double Field) or `CDF` (Complex Double Field), respectively. If no ring is specified and floating point real or complex numbers are used then by default the matrix is defined over the `RR` or `CC` fields, respectively, which do not support these computations for all the cases:"
   ]
  },
  {
   "cell_type": "code",
   "execution_count": null,
   "id": "3aaaa50f-e33c-46de-9f42-073b4853e221",
   "metadata": {},
   "outputs": [],
   "source": [
    "ARDF = matrix(RDF, [[1.2, 2], [2, 3]])\n",
    "ARDF.eigenvalues()"
   ]
  },
  {
   "cell_type": "code",
   "execution_count": null,
   "id": "6acaab51-edc2-4c36-b837-942b0b6cc302",
   "metadata": {},
   "outputs": [],
   "source": [
    "ACDF = matrix(CDF, [[1.2, I], [2, 3]])\n",
    "ACDF.eigenvectors_right()"
   ]
  }
 ],
 "metadata": {
  "kernelspec": {
   "display_name": "SageMath 10.6.beta2",
   "language": "sage",
   "name": "sagemath"
  },
  "language_info": {
   "codemirror_mode": {
    "name": "ipython",
    "version": 3
   },
   "file_extension": ".py",
   "mimetype": "text/x-python",
   "name": "python",
   "nbconvert_exporter": "python",
   "pygments_lexer": "ipython3",
   "version": "3.12.3"
  }
 },
 "nbformat": 4,
 "nbformat_minor": 5
}
