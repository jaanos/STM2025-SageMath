{
 "cells": [
  {
   "cell_type": "markdown",
   "id": "a1eadbe0-3abf-4818-91db-8259a7b25f17",
   "metadata": {
    "collapsed": false
   },
   "source": [
    "# Linear algebra\n",
    "\n",
    "Sage provides standard constructions from linear algebra, e.g., the characteristic polynomial, echelon form, trace, decomposition, etc., of a matrix."
   ]
  },
  {
   "cell_type": "code",
   "execution_count": 9,
   "id": "c8696309-243f-4d77-ae45-7eeec06cbc42",
   "metadata": {
    "collapsed": false
   },
   "outputs": [
   ],
   "source": [
    "%display latex"
   ]
  },
  {
   "cell_type": "markdown",
   "id": "877177d6-c3c2-455e-ba7d-ac18d3266530",
   "metadata": {
    "collapsed": false
   },
   "source": [
    "Creation of matrices and matrix multiplication is easy and natural:"
   ]
  },
  {
   "cell_type": "code",
   "execution_count": 2,
   "id": "8a6b0f9e-18be-44f6-b830-330447f9b304",
   "metadata": {
    "collapsed": false
   },
   "outputs": [
   ],
   "source": [
    "A = Matrix([[1, 2, 3],[3, 2, 1],[1, 1, 1]])\n",
    "w = vector([1, 1, -4])"
   ]
  },
  {
   "cell_type": "code",
   "execution_count": 3,
   "id": "87f161",
   "metadata": {
    "collapsed": false
   },
   "outputs": [
    {
     "data": {
      "text/html": "<html>\\(\\displaystyle \\left(\\begin{array}{rrr}\n1 & 2 & 3 \\\\\n3 & 2 & 1 \\\\\n1 & 1 & 1\n\\end{array}\\right)\\)</html>",
      "text/latex": [
       "$\\displaystyle \\left(\\begin{array}{rrr}\n",
       "1 & 2 & 3 \\\\\n",
       "3 & 2 & 1 \\\\\n",
       "1 & 1 & 1\n",
       "\\end{array}\\right)$"
      ],
      "text/plain": [
       "[1 2 3]\n",
       "[3 2 1]\n",
       "[1 1 1]"
      ]
     },
     "execution_count": 3,
     "metadata": {
     },
     "output_type": "execute_result"
    }
   ],
   "source": [
    "A"
   ]
  },
  {
   "cell_type": "code",
   "execution_count": 5,
   "id": "0ce3a8",
   "metadata": {
    "collapsed": false
   },
   "outputs": [
    {
     "data": {
      "text/html": "<html>\\(\\displaystyle \\left(1,\\,1,\\,-4\\right)\\)</html>",
      "text/latex": [
       "$\\displaystyle \\left(1,\\,1,\\,-4\\right)$"
      ],
      "text/plain": [
       "(1, 1, -4)"
      ]
     },
     "execution_count": 5,
     "metadata": {
     },
     "output_type": "execute_result"
    }
   ],
   "source": [
    "w"
   ]
  },
  {
   "cell_type": "code",
   "execution_count": 6,
   "id": "68fa7bda-09e4-4090-904d-36d7b6372e84",
   "metadata": {
    "collapsed": false
   },
   "outputs": [
    {
     "data": {
      "text/html": "<html>\\(\\displaystyle \\left(0,\\,0,\\,0\\right)\\)</html>",
      "text/latex": [
       "$\\displaystyle \\left(0,\\,0,\\,0\\right)$"
      ],
      "text/plain": [
       "(0, 0, 0)"
      ]
     },
     "execution_count": 6,
     "metadata": {
     },
     "output_type": "execute_result"
    }
   ],
   "source": [
    "w * A"
   ]
  },
  {
   "cell_type": "code",
   "execution_count": 7,
   "id": "b8219db1-9ad3-42aa-a8b0-fb6bf34fa461",
   "metadata": {
    "collapsed": false
   },
   "outputs": [
    {
     "data": {
      "text/html": "<html>\\(\\displaystyle \\left(-9,\\,1,\\,-2\\right)\\)</html>",
      "text/latex": [
       "$\\displaystyle \\left(-9,\\,1,\\,-2\\right)$"
      ],
      "text/plain": [
       "(-9, 1, -2)"
      ]
     },
     "execution_count": 7,
     "metadata": {
     },
     "output_type": "execute_result"
    }
   ],
   "source": [
    "A * w"
   ]
  },
  {
   "cell_type": "code",
   "execution_count": 8,
   "id": "6ef63cb4-2323-47d2-ad57-ea2ac73888d6",
   "metadata": {
    "collapsed": false
   },
   "outputs": [
    {
     "data": {
      "text/plain": [
       "Free module of degree 3 and rank 1 over Integer Ring\n",
       "Echelon basis matrix:\n",
       "[ 1  1 -4]"
      ]
     },
     "execution_count": 8,
     "metadata": {
     },
     "output_type": "execute_result"
    }
   ],
   "source": [
    "%display plain\n",
    "kernel(A)"
   ]
  },
  {
   "cell_type": "markdown",
   "id": "1f1b2c25-edb4-420a-84cf-491879fdf350",
   "metadata": {
    "collapsed": false
   },
   "source": [
    "Note that in Sage, the kernel of a matrix $A$ is the “left kernel”, i.e. the space of vectors $w$ such that $wA = 0$.\n",
    "\n",
    "Solving matrix equations is easy, using the method `solve_right`. Evaluating `A.solve_right(Y)` returns a matrix (or vector) $X$\n",
    "so that $AX = Y$:"
   ]
  },
  {
   "cell_type": "code",
   "execution_count": 10,
   "id": "d78d0876-dbcc-4913-a156-dc14faa35749",
   "metadata": {
    "collapsed": false
   },
   "outputs": [
    {
     "data": {
      "text/html": "<html>\\(\\displaystyle \\left(-2,\\,1,\\,0\\right)\\)</html>",
      "text/latex": [
       "$\\displaystyle \\left(-2,\\,1,\\,0\\right)$"
      ],
      "text/plain": [
       "(-2, 1, 0)"
      ]
     },
     "execution_count": 10,
     "metadata": {
     },
     "output_type": "execute_result"
    }
   ],
   "source": [
    "Y = vector([0, -4, -1])\n",
    "(X := A.solve_right(Y))"
   ]
  },
  {
   "cell_type": "code",
   "execution_count": 11,
   "id": "25b7edee-d193-4136-b456-6e23e75b1f0a",
   "metadata": {
    "collapsed": false
   },
   "outputs": [
    {
     "data": {
      "text/html": "<html>\\(\\displaystyle \\left(0,\\,-4,\\,-1\\right)\\)</html>",
      "text/latex": [
       "$\\displaystyle \\left(0,\\,-4,\\,-1\\right)$"
      ],
      "text/plain": [
       "(0, -4, -1)"
      ]
     },
     "execution_count": 11,
     "metadata": {
     },
     "output_type": "execute_result"
    }
   ],
   "source": [
    "A * X"
   ]
  },
  {
   "cell_type": "markdown",
   "id": "9c82b9c9-1d48-4228-8d04-3d2e13ae4fcb",
   "metadata": {
    "collapsed": false
   },
   "source": [
    "If there is no solution, Sage returns an error:"
   ]
  },
  {
   "cell_type": "code",
   "execution_count": 12,
   "id": "862df0df-f2ce-4fc0-b62e-5c5a72cd7526",
   "metadata": {
    "collapsed": false
   },
   "outputs": [
    {
     "ename": "ValueError",
     "evalue": "matrix equation has no solutions",
     "output_type": "error",
     "traceback": [
      "\u001b[0;31m---------------------------------------------------------------------------\u001b[0m",
      "\u001b[0;31mNotFullRankError\u001b[0m                          Traceback (most recent call last)",
      "File \u001b[0;32m/ext/sage/10.7/src/sage/matrix/matrix2.pyx:996\u001b[0m, in \u001b[0;36msage.matrix.matrix2.Matrix.solve_right\u001b[0;34m()\u001b[0m\n\u001b[1;32m    995\u001b[0m try:\n\u001b[0;32m--> 996\u001b[0m     X = self._solve_right_nonsingular_square(C, check_rank=True)\n\u001b[1;32m    997\u001b[0m except NotFullRankError:\n",
      "File \u001b[0;32m/ext/sage/10.7/src/sage/matrix/matrix2.pyx:1038\u001b[0m, in \u001b[0;36msage.matrix.matrix2.Matrix._solve_right_nonsingular_square\u001b[0;34m()\u001b[0m\n\u001b[1;32m   1037\u001b[0m if check_rank and self.rank() < self.nrows():\n\u001b[0;32m-> 1038\u001b[0m     raise NotFullRankError\n\u001b[1;32m   1039\u001b[0m D = self.augment(B)\n",
      "\u001b[0;31mNotFullRankError\u001b[0m: ",
      "\nDuring handling of the above exception, another exception occurred:\n",
      "\u001b[0;31mValueError\u001b[0m                                Traceback (most recent call last)",
      "Cell \u001b[0;32mIn[12], line 1\u001b[0m\n\u001b[0;32m----> 1\u001b[0m \u001b[43mA\u001b[49m\u001b[38;5;241;43m.\u001b[39;49m\u001b[43msolve_right\u001b[49m\u001b[43m(\u001b[49m\u001b[43mw\u001b[49m\u001b[43m)\u001b[49m\n",
      "File \u001b[0;32m/ext/sage/10.7/src/sage/matrix/matrix2.pyx:998\u001b[0m, in \u001b[0;36msage.matrix.matrix2.Matrix.solve_right\u001b[0;34m()\u001b[0m\n\u001b[1;32m    996\u001b[0m         X = self._solve_right_nonsingular_square(C, check_rank=True)\n\u001b[1;32m    997\u001b[0m     except NotFullRankError:\n\u001b[0;32m--> 998\u001b[0m         X = self._solve_right_general(C, check=check)\n\u001b[1;32m    999\u001b[0m \n\u001b[1;32m   1000\u001b[0m return X.column(0) if b_is_vec else X\n",
      "File \u001b[0;32m/ext/sage/10.7/src/sage/matrix/matrix2.pyx:1110\u001b[0m, in \u001b[0;36msage.matrix.matrix2.Matrix._solve_right_general\u001b[0;34m()\u001b[0m\n\u001b[1;32m   1108\u001b[0m     # Have to check that we actually solved the equation.\n\u001b[1;32m   1109\u001b[0m     if self*X != B:\n\u001b[0;32m-> 1110\u001b[0m         raise ValueError(\"matrix equation has no solutions\")\n\u001b[1;32m   1111\u001b[0m return X\n\u001b[1;32m   1112\u001b[0m \n",
      "\u001b[0;31mValueError\u001b[0m: matrix equation has no solutions"
     ]
    }
   ],
   "source": [
    "A.solve_right(w)"
   ]
  },
  {
   "cell_type": "markdown",
   "id": "eb436cb0-8948-448d-9663-f2bc9480510b",
   "metadata": {
    "collapsed": false
   },
   "source": [
    "Similarly, use `A.solve_left(Y)` to solve for $X$ in $XA = Y$.\n",
    "\n",
    "Sage can also compute eigenvalues and eigenvectors:"
   ]
  },
  {
   "cell_type": "code",
   "execution_count": 13,
   "id": "bded0617-cea1-4253-b82f-0bb6a52513cf",
   "metadata": {
    "collapsed": false
   },
   "outputs": [
    {
     "data": {
      "text/html": "<html>\\(\\displaystyle \\left[-2 \\sqrt{-1}, 2 \\sqrt{-1}\\right]\\)</html>",
      "text/latex": [
       "$\\displaystyle \\left[-2 \\sqrt{-1}, 2 \\sqrt{-1}\\right]$"
      ],
      "text/plain": [
       "[-2*I, 2*I]"
      ]
     },
     "execution_count": 13,
     "metadata": {
     },
     "output_type": "execute_result"
    }
   ],
   "source": [
    "A = matrix([[0, 4], [-1, 0]])\n",
    "A.eigenvalues()"
   ]
  },
  {
   "cell_type": "markdown",
   "id": "784d5c50-08f8-433d-98ab-95ce68d84fcb",
   "metadata": {
    "collapsed": false
   },
   "source": [
    "The syntax for the output of `eigenvectors_left` is a list of triples: \\(eigenvalue, eigenspace,   \n",
    "multiplicity\\):\n"
   ]
  },
  {
   "cell_type": "code",
   "execution_count": 14,
   "id": "53343af3-304f-4917-9b23-9eb8eaa18426",
   "metadata": {
    "collapsed": false
   },
   "outputs": [
    {
     "data": {
      "text/html": "<html>\\(\\displaystyle \\left[\\left(4, \\left[\\left(1,\\,1\\right)\\right], 1\\right), \\left(-2, \\left[\\left(1,\\,-1\\right)\\right], 1\\right)\\right]\\)</html>",
      "text/latex": [
       "$\\displaystyle \\left[\\left(4, \\left[\\left(1,\\,1\\right)\\right], 1\\right), \\left(-2, \\left[\\left(1,\\,-1\\right)\\right], 1\\right)\\right]$"
      ],
      "text/plain": [
       "[(4, [(1, 1)], 1), (-2, [(1, -1)], 1)]"
      ]
     },
     "execution_count": 14,
     "metadata": {
     },
     "output_type": "execute_result"
    }
   ],
   "source": [
    "B = matrix([[1, 3], [3, 1]])\n",
    "B.eigenvectors_left()"
   ]
  },
  {
   "cell_type": "markdown",
   "id": "d6cedc1b-daa0-47ef-b274-b972ea8f443f",
   "metadata": {
    "collapsed": false
   },
   "source": [
    "The ring over which a matrix is defined affects some of its properties. In the following, the first argument to the matrix command tells Sage to view the matrix as a matrix of integers (the `ZZ` case), a matrix of rational numbers (`QQ`), or a matrix of reals (`RR`):"
   ]
  },
  {
   "cell_type": "code",
   "execution_count": 19,
   "id": "df8670a1-a538-493c-a977-d2deb5099300",
   "metadata": {
    "collapsed": false
   },
   "outputs": [
   ],
   "source": [
    "AZ = matrix(ZZ, [[2, 0], [0, 1]])\n",
    "AQ = matrix(QQ, [[2, 0], [0, 1]])\n",
    "AR = matrix(RR, [[2, 0], [0, 1]])\n",
    "A5 = matrix(Integers(5), [[2, 0], [0, 1]])"
   ]
  },
  {
   "cell_type": "code",
   "execution_count": 16,
   "id": "70a173ca-ea74-483e-bc9c-6e1d769fdd4a",
   "metadata": {
    "collapsed": false
   },
   "outputs": [
    {
     "data": {
      "text/html": "<html>\\(\\displaystyle \\left(\\begin{array}{rr}\n2 & 0 \\\\\n0 & 1\n\\end{array}\\right)\\)</html>",
      "text/latex": [
       "$\\displaystyle \\left(\\begin{array}{rr}\n",
       "2 & 0 \\\\\n",
       "0 & 1\n",
       "\\end{array}\\right)$"
      ],
      "text/plain": [
       "[2 0]\n",
       "[0 1]"
      ]
     },
     "execution_count": 16,
     "metadata": {
     },
     "output_type": "execute_result"
    }
   ],
   "source": [
    "AZ.echelon_form()"
   ]
  },
  {
   "cell_type": "code",
   "execution_count": 17,
   "id": "674335ec-f4c0-4e9f-92b2-a002d617f454",
   "metadata": {
    "collapsed": false
   },
   "outputs": [
    {
     "data": {
      "text/html": "<html>\\(\\displaystyle \\left(\\begin{array}{rr}\n1 & 0 \\\\\n0 & 1\n\\end{array}\\right)\\)</html>",
      "text/latex": [
       "$\\displaystyle \\left(\\begin{array}{rr}\n",
       "1 & 0 \\\\\n",
       "0 & 1\n",
       "\\end{array}\\right)$"
      ],
      "text/plain": [
       "[1 0]\n",
       "[0 1]"
      ]
     },
     "execution_count": 17,
     "metadata": {
     },
     "output_type": "execute_result"
    }
   ],
   "source": [
    "AQ.echelon_form()"
   ]
  },
  {
   "cell_type": "code",
   "execution_count": 18,
   "id": "8313e828-56ef-464e-9711-4a8d659aacce",
   "metadata": {
    "collapsed": false
   },
   "outputs": [
    {
     "data": {
      "text/html": "<html>\\(\\displaystyle \\left(\\begin{array}{rr}\n1.00000000000000 & 0.000000000000000 \\\\\n0.000000000000000 & 1.00000000000000\n\\end{array}\\right)\\)</html>",
      "text/latex": [
       "$\\displaystyle \\left(\\begin{array}{rr}\n",
       "1.00000000000000 & 0.000000000000000 \\\\\n",
       "0.000000000000000 & 1.00000000000000\n",
       "\\end{array}\\right)$"
      ],
      "text/plain": [
       "[ 1.00000000000000 0.000000000000000]\n",
       "[0.000000000000000  1.00000000000000]"
      ]
     },
     "execution_count": 18,
     "metadata": {
     },
     "output_type": "execute_result"
    }
   ],
   "source": [
    "AR.echelon_form()"
   ]
  },
  {
   "cell_type": "code",
   "execution_count": 21,
   "id": "1ae04e",
   "metadata": {
    "collapsed": false
   },
   "outputs": [
    {
     "data": {
      "text/html": "<html>\\(\\displaystyle \\left(\\begin{array}{rr}\n1 & 0 \\\\\n0 & 1\n\\end{array}\\right)\\)</html>",
      "text/latex": [
       "$\\displaystyle \\left(\\begin{array}{rr}\n",
       "1 & 0 \\\\\n",
       "0 & 1\n",
       "\\end{array}\\right)$"
      ],
      "text/plain": [
       "[1 0]\n",
       "[0 1]"
      ]
     },
     "execution_count": 21,
     "metadata": {
     },
     "output_type": "execute_result"
    }
   ],
   "source": [
    "A5.echelon_form()"
   ]
  },
  {
   "cell_type": "code",
   "execution_count": 22,
   "id": "9714a0",
   "metadata": {
    "collapsed": false
   },
   "outputs": [
    {
     "data": {
      "text/html": "<html>\\(\\displaystyle \\left(\\begin{array}{rr}\n3 & 0 \\\\\n0 & 1\n\\end{array}\\right)\\)</html>",
      "text/latex": [
       "$\\displaystyle \\left(\\begin{array}{rr}\n",
       "3 & 0 \\\\\n",
       "0 & 1\n",
       "\\end{array}\\right)$"
      ],
      "text/plain": [
       "[3 0]\n",
       "[0 1]"
      ]
     },
     "execution_count": 22,
     "metadata": {
     },
     "output_type": "execute_result"
    }
   ],
   "source": [
    "A5^3"
   ]
  },
  {
   "cell_type": "markdown",
   "id": "e4d38b18-6390-4f75-90db-3a732b8cfbff",
   "metadata": {
    "collapsed": false
   },
   "source": [
    "For computing eigenvalues and eigenvectors of matrices over floating point real or complex numbers, the matrix should be defined over `RDF` (Real Double Field) or `CDF` (Complex Double Field), respectively. If no ring is specified and floating point real or complex numbers are used then by default the matrix is defined over the `RR` or `CC` fields, respectively, which do not support these computations for all the cases:"
   ]
  },
  {
   "cell_type": "code",
   "execution_count": 23,
   "id": "3aaaa50f-e33c-46de-9f42-073b4853e221",
   "metadata": {
    "collapsed": false
   },
   "outputs": [
    {
     "data": {
      "text/html": "<html>\\(\\displaystyle \\left[-0.09317121994613098, 4.293171219946131\\right]\\)</html>",
      "text/latex": [
       "$\\displaystyle \\left[-0.09317121994613098, 4.293171219946131\\right]$"
      ],
      "text/plain": [
       "[-0.09317121994613098, 4.293171219946131]"
      ]
     },
     "execution_count": 23,
     "metadata": {
     },
     "output_type": "execute_result"
    }
   ],
   "source": [
    "ARDF = matrix(RDF, [[1.2, 2], [2, 3]])\n",
    "ARDF.eigenvalues()"
   ]
  },
  {
   "cell_type": "code",
   "execution_count": 24,
   "id": "6acaab51-edc2-4c36-b837-942b0b6cc302",
   "metadata": {
    "collapsed": false
   },
   "outputs": [
    {
     "data": {
      "text/html": "<html>\\(\\displaystyle \\left[\\left(0.8818456983293743 - 0.8209140653434135i, \\left[\\left(0.7505608183809549,\\,-0.616145932704589 + 0.2387941530333261i\\right)\\right], 1\\right), \\left(3.3181543016706256 + 0.8209140653434134i, \\left[\\left(0.14559469829270963 + 0.3756690858502104i,\\,0.9152458258662108\\right)\\right], 1\\right)\\right]\\)</html>",
      "text/latex": [
       "$\\displaystyle \\left[\\left(0.8818456983293743 - 0.8209140653434135i, \\left[\\left(0.7505608183809549,\\,-0.616145932704589 + 0.2387941530333261i\\right)\\right], 1\\right), \\left(3.3181543016706256 + 0.8209140653434134i, \\left[\\left(0.14559469829270963 + 0.3756690858502104i,\\,0.9152458258662108\\right)\\right], 1\\right)\\right]$"
      ],
      "text/plain": [
       "[(0.8818456983293743 - 0.8209140653434135*I,\n",
       "  [(0.7505608183809549, -0.616145932704589 + 0.2387941530333261*I)],\n",
       "  1),\n",
       " (3.3181543016706256 + 0.8209140653434134*I,\n",
       "  [(0.14559469829270963 + 0.3756690858502104*I, 0.9152458258662108)],\n",
       "  1)]"
      ]
     },
     "execution_count": 24,
     "metadata": {
     },
     "output_type": "execute_result"
    }
   ],
   "source": [
    "ACDF = matrix(CDF, [[1.2, I], [2, 3]])\n",
    "ACDF.eigenvectors_right()"
   ]
  }
 ],
 "metadata": {
  "kernelspec": {
   "argv": [
    "sage-10.7",
    "--python",
    "-m",
    "sage.repl.ipython_kernel",
    "--matplotlib=inline",
    "-f",
    "{connection_file}"
   ],
   "display_name": "SageMath 10.7",
   "env": {
   },
   "language": "sagemath",
   "metadata": {
    "cocalc": {
     "description": "Open-source mathematical software system",
     "priority": 10,
     "url": "https://www.sagemath.org/"
    }
   },
   "name": "sage-10.7",
   "resource_dir": "/ext/jupyter/kernels/sage-10.7"
  },
  "language_info": {
   "codemirror_mode": {
    "name": "ipython",
    "version": 3
   },
   "file_extension": ".py",
   "mimetype": "text/x-python",
   "name": "python",
   "nbconvert_exporter": "python",
   "pygments_lexer": "ipython3",
   "version": "3.12.3"
  }
 },
 "nbformat": 4,
 "nbformat_minor": 4
}