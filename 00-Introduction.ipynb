{
 "cells": [
  {
   "cell_type": "markdown",
   "id": "cc45bf26-b189-4d65-8534-8dfee3253d20",
   "metadata": {
    "collapsed": false
   },
   "source": [
    "# SageMath\n",
    "\n",
    "[SageMath](https://www.sagemath.org/) (or for short, Sage) is free, open-source math software that supports research and teaching in algebra, geometry, number theory, cryptography, numerical computation, and related areas. Both the Sage development model and the technology in Sage itself are distinguished by an extremely strong emphasis on openness, community, cooperation, and collaboration: we are building the car, not reinventing the wheel. The overall goal of Sage is to create a viable, free, open-source alternative to Maple, Mathematica, Magma, and MATLAB.\n",
    "\n",
    "Sage is based on the Python programming language and encompasses many open-source mathematical tools such as GAP, PARI/GP, Maxima, ..."
   ]
  },
  {
   "cell_type": "markdown",
   "id": "83268bbf-83e0-4bda-bfc6-caf9f5dc6d69",
   "metadata": {
    "collapsed": false
   },
   "source": [
    "## Some quick examples\n",
    "\n",
    "Let us now see some examples in Sage."
   ]
  },
  {
   "cell_type": "code",
   "execution_count": 19,
   "id": "0e6e2f9b-cb0d-44e1-9da4-b263baf83ae7",
   "metadata": {
    "collapsed": false
   },
   "outputs": [
    {
     "data": {
      "text/html": "<html>\\(\\displaystyle 4\\)</html>",
      "text/latex": [
       "$\\displaystyle 4$"
      ],
      "text/plain": [
       "4"
      ]
     },
     "execution_count": 19,
     "metadata": {
     },
     "output_type": "execute_result"
    }
   ],
   "source": [
    "2 + 2"
   ]
  },
  {
   "cell_type": "code",
   "execution_count": 20,
   "id": "9864dca9-2632-4acd-ad47-1680b62a65ab",
   "metadata": {
    "collapsed": false
   },
   "outputs": [
    {
     "data": {
      "text/html": "<html>\\(\\displaystyle -1 \\cdot 3^{4} \\cdot 5^{2}\\)</html>",
      "text/latex": [
       "$\\displaystyle -1 \\cdot 3^{4} \\cdot 5^{2}$"
      ],
      "text/plain": [
       "-1 * 3^4 * 5^2"
      ]
     },
     "execution_count": 20,
     "metadata": {
     },
     "output_type": "execute_result"
    }
   ],
   "source": [
    "factor(-2025)"
   ]
  },
  {
   "cell_type": "markdown",
   "id": "9687bd81-aefe-417a-bc5f-7358bde1e89e",
   "metadata": {
    "collapsed": false
   },
   "source": [
    "In the following example, we will use the so-called walrus operator `:=` (introduced in Python 3.8) to assign a matrix to a variable and also have it printed (note that Python requires parenthesising the expression on the top level)."
   ]
  },
  {
   "cell_type": "code",
   "execution_count": 21,
   "id": "c4484959-5d93-4a18-89da-904af86e69df",
   "metadata": {
    "collapsed": false
   },
   "outputs": [
    {
     "data": {
      "text/html": "<html>\\(\\displaystyle \\left(\\begin{array}{rrrr}\n0 & 1 & 2 & 3 \\\\\n4 & 5 & 6 & 7 \\\\\n8 & 9 & 10 & 11 \\\\\n12 & 13 & 14 & 15\n\\end{array}\\right)\\)</html>",
      "text/latex": [
       "$\\displaystyle \\left(\\begin{array}{rrrr}\n",
       "0 & 1 & 2 & 3 \\\\\n",
       "4 & 5 & 6 & 7 \\\\\n",
       "8 & 9 & 10 & 11 \\\\\n",
       "12 & 13 & 14 & 15\n",
       "\\end{array}\\right)$"
      ],
      "text/plain": [
       "[ 0  1  2  3]\n",
       "[ 4  5  6  7]\n",
       "[ 8  9 10 11]\n",
       "[12 13 14 15]"
      ]
     },
     "execution_count": 21,
     "metadata": {
     },
     "output_type": "execute_result"
    }
   ],
   "source": [
    "(A := matrix(4, 4, range(16)))"
   ]
  },
  {
   "cell_type": "code",
   "execution_count": 8,
   "id": "05bd85",
   "metadata": {
    "collapsed": false
   },
   "outputs": [
    {
     "data": {
      "text/plain": [
       "[ 0  1  2  3]\n",
       "[ 4  5  6  7]\n",
       "[ 8  9 10 11]\n",
       "[12 13 14 15]"
      ]
     },
     "execution_count": 8,
     "metadata": {
     },
     "output_type": "execute_result"
    }
   ],
   "source": [
    "A = matrix(4, 4, range(16)); A"
   ]
  },
  {
   "cell_type": "code",
   "execution_count": 22,
   "id": "06f7f5db-3c80-4d88-a1e6-13dee0056c02",
   "metadata": {
    "collapsed": false
   },
   "outputs": [
    {
     "data": {
      "text/html": "<html>\\(\\displaystyle x^{2} \\cdot (x^{2} - 30x - 80)\\)</html>",
      "text/latex": [
       "$\\displaystyle x^{2} \\cdot (x^{2} - 30x - 80)$"
      ],
      "text/plain": [
       "x^2 * (x^2 - 30*x - 80)"
      ]
     },
     "execution_count": 22,
     "metadata": {
     },
     "output_type": "execute_result"
    }
   ],
   "source": [
    "factor(A.charpoly())"
   ]
  },
  {
   "cell_type": "code",
   "execution_count": 10,
   "id": "914e3750-b9a0-40a4-a43a-66dae345da20",
   "metadata": {
    "collapsed": false
   },
   "outputs": [
    {
     "data": {
      "text/plain": [
       "[0 1]\n",
       "[2 3]"
      ]
     },
     "execution_count": 10,
     "metadata": {
     },
     "output_type": "execute_result"
    }
   ],
   "source": [
    "(m := matrix(ZZ, 2, range(4)))"
   ]
  },
  {
   "cell_type": "code",
   "execution_count": 11,
   "id": "c70fc895-8b1e-4fe9-8d56-e3d0004c48e0",
   "metadata": {
    "collapsed": false
   },
   "outputs": [
    {
     "data": {
      "text/plain": [
       "[-3  1]\n",
       "[ 2  3]"
      ]
     },
     "execution_count": 11,
     "metadata": {
     },
     "output_type": "execute_result"
    }
   ],
   "source": [
    "m[0, 0] = m[0, 0] - 3\n",
    "m"
   ]
  },
  {
   "cell_type": "markdown",
   "id": "8b6a0513-1881-4177-add7-f4be524f9589",
   "metadata": {
    "collapsed": false
   },
   "source": [
    "Fractions and complex numbers are natively supported by Sage. Note that integers are implemented by Sage's `Integer` class, and input preprocessing is used to make this work."
   ]
  },
  {
   "cell_type": "code",
   "execution_count": 23,
   "id": "6d18e7b6-4d9e-4f68-84c0-ff0296374808",
   "metadata": {
    "collapsed": false
   },
   "outputs": [
    {
     "data": {
      "text/html": "<html>\\(\\displaystyle \\frac{36}{20 \\, \\sqrt{73} + 36 i \\, \\sqrt{3} + 27}\\)</html>",
      "text/latex": [
       "$\\displaystyle \\frac{36}{20 \\, \\sqrt{73} + 36 i \\, \\sqrt{3} + 27}$"
      ],
      "text/plain": [
       "36/(20*sqrt(73) + 36*I*sqrt(3) + 27)"
      ]
     },
     "execution_count": 23,
     "metadata": {
     },
     "output_type": "execute_result"
    }
   ],
   "source": [
    "(k := 1/(sqrt(3) * I + 3/4 + sqrt(73) * 5/9))"
   ]
  },
  {
   "cell_type": "code",
   "execution_count": 24,
   "id": "91859ab2-1fe6-451b-bff4-deb22b3934e0",
   "metadata": {
    "collapsed": false
   },
   "outputs": [
    {
     "data": {
      "text/html": "<html>\\(\\displaystyle 0.165495678130644 - 0.0521492082074256i\\)</html>",
      "text/latex": [
       "$\\displaystyle 0.165495678130644 - 0.0521492082074256i$"
      ],
      "text/plain": [
       "0.165495678130644 - 0.0521492082074256*I"
      ]
     },
     "execution_count": 24,
     "metadata": {
     },
     "output_type": "execute_result"
    }
   ],
   "source": [
    "N(k)"
   ]
  },
  {
   "cell_type": "code",
   "execution_count": 14,
   "id": "b14f1807-7eb6-4ba3-ad0f-7fdf7ed586de",
   "metadata": {
    "collapsed": false
   },
   "outputs": [
    {
     "data": {
      "text/plain": [
       "0.16549568 - 0.052149208*I"
      ]
     },
     "execution_count": 14,
     "metadata": {
     },
     "output_type": "execute_result"
    }
   ],
   "source": [
    "N(k, 30)"
   ]
  },
  {
   "cell_type": "code",
   "execution_count": 27,
   "id": "920ab34b-23fe-44af-bb03-3250264870b4",
   "metadata": {
    "collapsed": false
   },
   "outputs": [
    {
     "data": {
      "text/plain": [
       "\\frac{36}{20 \\, \\sqrt{73} + 36 i \\, \\sqrt{3} + 27}"
      ]
     },
     "execution_count": 27,
     "metadata": {
     },
     "output_type": "execute_result"
    }
   ],
   "source": [
    "latex(k)"
   ]
  },
  {
   "cell_type": "markdown",
   "id": "676c7f31-2d7a-43b9-9269-50d3da4e1243",
   "metadata": {
    "collapsed": false
   },
   "source": [
    "In the next example, we define some variables. Note that `x` is pre-defined as a variable (but can be overridden). Note also that `^` is used for exponentiation in Sage - this is different from plain Python, where it represents the XOR operator (in Sage, it's available as `^^`)."
   ]
  },
  {
   "cell_type": "code",
   "execution_count": 16,
   "id": "104d995b-ef7f-42c1-a5db-ff61c8570abb",
   "metadata": {
    "collapsed": false
   },
   "outputs": [
    {
     "data": {
      "text/plain": [
       "x^2 - y*z"
      ]
     },
     "execution_count": 16,
     "metadata": {
     },
     "output_type": "execute_result"
    }
   ],
   "source": [
    "var('y z')\n",
    "(e := x^2 - y * z)"
   ]
  },
  {
   "cell_type": "code",
   "execution_count": 17,
   "id": "611e66d5-942d-4eaa-8bf7-8dffd0c8f59a",
   "metadata": {
    "collapsed": false
   },
   "outputs": [
    {
     "data": {
      "text/plain": [
       "-3*z + 4"
      ]
     },
     "execution_count": 17,
     "metadata": {
     },
     "output_type": "execute_result"
    }
   ],
   "source": [
    "e.subs(x == 2, y == 3)"
   ]
  },
  {
   "cell_type": "markdown",
   "id": "0042f622-548a-498e-90c4-851af8dd82c0",
   "metadata": {
    "collapsed": false
   },
   "source": [
    "## Output control\n",
    "\n",
    "Within the notebook, you may want to switch to LaTeX output by invoking the magic command `%display latex`."
   ]
  },
  {
   "cell_type": "code",
   "execution_count": 18,
   "id": "bbea2603-f8b9-4cb4-a203-ed74891601c7",
   "metadata": {
    "collapsed": false
   },
   "outputs": [
   ],
   "source": [
    "%display latex # Now try rerunning the examples above!"
   ]
  },
  {
   "cell_type": "markdown",
   "id": "49c6eb4f-ce08-4c96-9829-73797a685da9",
   "metadata": {
    "collapsed": false
   },
   "source": [
    "To switch back to text output, use `%display plain`."
   ]
  },
  {
   "cell_type": "code",
   "execution_count": 26,
   "id": "23abf1ef-85e2-4abf-b7d9-72368e3456a5",
   "metadata": {
    "collapsed": false
   },
   "outputs": [
   ],
   "source": [
    "%display plain"
   ]
  },
  {
   "cell_type": "markdown",
   "id": "68a1a6d1-6270-48ac-8e71-5d7d1af4f470",
   "metadata": {
    "collapsed": false
   },
   "source": [
    "## Ways to Use Sage\n",
    "\n",
    "You can [install](https://doc.sagemath.org/html/en/installation/index.html) Sage on your computer - but please note that installing on Windows is a nontrivial task. Alternatively, you can use [SageMathCell](https://sagecell.sagemath.org/) to evaluate code online, or [CoCalc](https://cocalc.com/) for more involved projects.\n",
    "\n",
    "You can use Sage in several ways.\n",
    "\n",
    "* Notebook graphical interface: run `sage -n jupyter`\n",
    "* Interactive command line: run `sage`\n",
    "* Programs: By writing interpreted and compiled programs in Sage\n",
    "* Scripts: by writing stand-alone Python scripts that use the Sage library"
   ]
  }
 ],
 "metadata": {
  "kernelspec": {
   "argv": [
    "sage-10.7",
    "--python",
    "-m",
    "sage.repl.ipython_kernel",
    "--matplotlib=inline",
    "-f",
    "{connection_file}"
   ],
   "display_name": "SageMath 10.7",
   "env": {
   },
   "language": "sagemath",
   "metadata": {
    "cocalc": {
     "description": "Open-source mathematical software system",
     "priority": 10,
     "url": "https://www.sagemath.org/"
    }
   },
   "name": "sage-10.7",
   "resource_dir": "/ext/jupyter/kernels/sage-10.7"
  },
  "language_info": {
   "codemirror_mode": {
    "name": "ipython",
    "version": 3
   },
   "file_extension": ".py",
   "mimetype": "text/x-python",
   "name": "python",
   "nbconvert_exporter": "python",
   "pygments_lexer": "ipython3",
   "version": "3.12.3"
  }
 },
 "nbformat": 4,
 "nbformat_minor": 4
}