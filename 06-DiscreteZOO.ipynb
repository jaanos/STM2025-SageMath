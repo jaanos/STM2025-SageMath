{
 "cells": [
  {
   "cell_type": "markdown",
   "id": "5e113c",
   "metadata": {
    "collapsed": false
   },
   "source": [
    "# DiscreteZOO\n",
    "\n",
    "DiscreteZOO is an extension for Sage providing access to a database of graphs with precomputed properties. It aims to become a database of various combinatorial objects with links between them.\n",
    "\n"
   ]
  },
  {
   "cell_type": "code",
   "execution_count": 0,
   "id": "964993",
   "metadata": {
    "collapsed": false
   },
   "outputs": [
   ],
   "source": [
    "import discretezoo\n",
    "discretezoo.DEFAULT_DB.importDB(\"discretezoo.db\")"
   ]
  },
  {
   "cell_type": "markdown",
   "id": "0653cb",
   "metadata": {
    "collapsed": false
   },
   "source": [
    "## Cubic vertex\\-transitive graphs\n",
    "\n",
    "Among others, the database currently contains all connecte  \n",
    "d cubic vertex\\-transitive graphs with at most 1280 vertices from the census by P. Potočnik, P. Spiga and G. Verret.\n"
   ]
  },
  {
   "cell_type": "code",
   "execution_count": 0,
   "id": "4ad41e",
   "metadata": {
    "collapsed": false
   },
   "outputs": [
   ],
   "source": [
    "from discretezoo.entities.cvt import CVTGraph"
   ]
  },
  {
   "cell_type": "code",
   "execution_count": 0,
   "id": "80fc25",
   "metadata": {
    "collapsed": false
   },
   "outputs": [
   ],
   "source": [
    "(G := CVTGraph(10, 3))"
   ]
  },
  {
   "cell_type": "code",
   "execution_count": 0,
   "id": "8cfa31",
   "metadata": {
    "collapsed": false
   },
   "outputs": [
   ],
   "source": [
    "G.is_isomorphic(graphs.PetersenGraph())"
   ]
  },
  {
   "cell_type": "code",
   "execution_count": 0,
   "id": "bd6ca3",
   "metadata": {
    "collapsed": false
   },
   "outputs": [
   ],
   "source": [
    "G.girth()"
   ]
  },
  {
   "cell_type": "code",
   "execution_count": 0,
   "id": "7a0902",
   "metadata": {
    "collapsed": false
   },
   "outputs": [
   ],
   "source": [
    "G.is_cayley()"
   ]
  },
  {
   "cell_type": "markdown",
   "id": "96dc4d",
   "metadata": {
    "collapsed": false
   },
   "source": [
    "Let us now perform some queries on the database.  \n",
    "\n"
   ]
  },
  {
   "cell_type": "code",
   "execution_count": 0,
   "id": "91eea8",
   "metadata": {
    "collapsed": false
   },
   "outputs": [
   ],
   "source": [
    "from discretezoo.entities.cvt import info # The object providing query methods\n",
    "from discretezoo.entities.cvt.fields import * # The fields relevant for CVT graphs\n",
    "from discretezoo.db.query import * # Additional objects useful for querying"
   ]
  },
  {
   "cell_type": "code",
   "execution_count": 0,
   "id": "96e327",
   "metadata": {
    "collapsed": false
   },
   "outputs": [
   ],
   "source": [
    "info.count() # The number of CVT graphs in the database"
   ]
  },
  {
   "cell_type": "code",
   "execution_count": 0,
   "id": "63df5e",
   "metadata": {
    "collapsed": false
   },
   "outputs": [
   ],
   "source": [
    "info.count(diameter == 5) # The number of CVT graphs with diameter 5"
   ]
  },
  {
   "cell_type": "code",
   "execution_count": 0,
   "id": "7b8a05",
   "metadata": {
    "collapsed": false
   },
   "outputs": [
   ],
   "source": [
    "info.count(diameter == 5, girth == 7) # The number of CVT graphs with diameter 5 and girth 7"
   ]
  },
  {
   "cell_type": "code",
   "execution_count": 0,
   "id": "5536f4",
   "metadata": {
    "collapsed": false
   },
   "outputs": [
   ],
   "source": [
    "info.count(diameter == 5, groupby=girth) # The number of CVT graphs with diameter 5 broken down by girth"
   ]
  },
  {
   "cell_type": "code",
   "execution_count": 0,
   "id": "1dacac",
   "metadata": {
    "collapsed": false
   },
   "outputs": [
   ],
   "source": [
    "info.count(groupby=[girth, diameter]) # The number of CVT graphs for each (girth, diameter) pair"
   ]
  },
  {
   "cell_type": "code",
   "execution_count": 0,
   "id": "437e51",
   "metadata": {
    "collapsed": false
   },
   "outputs": [
   ],
   "source": [
    "info.count(order < 500) # The number of CVT graphs of order less than 500"
   ]
  },
  {
   "cell_type": "code",
   "execution_count": 0,
   "id": "6e7466",
   "metadata": {
    "collapsed": false
   },
   "outputs": [
   ],
   "source": [
    "info.count(V(500) > order) # Same as above - note that an Expression must appear on the left side of a comparison!"
   ]
  },
  {
   "cell_type": "code",
   "execution_count": 0,
   "id": "df2fae",
   "metadata": {
    "collapsed": false
   },
   "outputs": [
   ],
   "source": [
    "info.count(girth + diameter == 10) # The number of CVT graphs whose girth and diameter sum to 10"
   ]
  },
  {
   "cell_type": "code",
   "execution_count": 0,
   "id": "fb41f9",
   "metadata": {
    "collapsed": false
   },
   "outputs": [
   ],
   "source": [
    "info.count((girth == 8) | (diameter == 10)) # The number of CVT graphs with girth 8 or diameter 10 - note that | has high precedence, so parentheses must be used"
   ]
  },
  {
   "cell_type": "code",
   "execution_count": 0,
   "id": "2d5b1c",
   "metadata": {
    "collapsed": false
   },
   "outputs": [
   ],
   "source": [
    "info.count((girth == 8) | ((diameter == 10) & (order < 100))) # In nested expressions, & should be used for conjunction"
   ]
  },
  {
   "cell_type": "code",
   "execution_count": 0,
   "id": "6efc6f",
   "metadata": {
    "collapsed": false
   },
   "outputs": [
   ],
   "source": [
    "L = list(info.props(~is_cayley, girth == 13)) # the data on non-Cayley CVT graphs with girth 13\n",
    "L[0]"
   ]
  },
  {
   "cell_type": "code",
   "execution_count": 0,
   "id": "b88788",
   "metadata": {
    "collapsed": false
   },
   "outputs": [
   ],
   "source": [
    "(H := CVTGraph(L[0]['zooid'])) # constructing a graph with the given ID"
   ]
  },
  {
   "cell_type": "code",
   "execution_count": 0,
   "id": "969351",
   "metadata": {
    "collapsed": false
   },
   "outputs": [
   ],
   "source": [
    "H.plot()"
   ]
  },
  {
   "cell_type": "code",
   "execution_count": 0,
   "id": "69545e",
   "metadata": {
    "collapsed": false
   },
   "outputs": [
   ],
   "source": [
    "gen = info.props(is_connected, girth == 5, orderby=order) # CVT graphs with girth 5 ordered by their order"
   ]
  },
  {
   "cell_type": "code",
   "execution_count": 0,
   "id": "60f7c1",
   "metadata": {
    "collapsed": false
   },
   "outputs": [
   ],
   "source": [
    "(G1 := CVTGraph(next(gen)['zooid'])) # CVT(10, 3) = Petersen graph"
   ]
  },
  {
   "cell_type": "code",
   "execution_count": 0,
   "id": "1835fa",
   "metadata": {
    "collapsed": false,
    "scrolled": true
   },
   "outputs": [
   ],
   "source": [
    "G2 = CVTGraph(next(gen)['zooid']) # CVT(20, 6) = Dodecahedron\n",
    "G2.plot()"
   ]
  },
  {
   "cell_type": "code",
   "execution_count": 0,
   "id": "7c72b3",
   "metadata": {
    "collapsed": false
   },
   "outputs": [
   ],
   "source": [
    "G3 = CVTGraph(next(gen)['zooid']) # CVT(30, 10)\n",
    "G3.plot()"
   ]
  },
  {
   "cell_type": "code",
   "execution_count": 0,
   "id": "790e23",
   "metadata": {
    "collapsed": false
   },
   "outputs": [
   ],
   "source": [
    "pF1, pF2 = info.props(girth + diameter == order) # both CVT graphs with the order equal to the sum of girth and diameter"
   ]
  },
  {
   "cell_type": "code",
   "execution_count": 0,
   "id": "b78aef",
   "metadata": {
    "collapsed": false
   },
   "outputs": [
   ],
   "source": [
    "CVTGraph(pF1['zooid'])"
   ]
  },
  {
   "cell_type": "code",
   "execution_count": 0,
   "id": "f3c7e1",
   "metadata": {
    "collapsed": false
   },
   "outputs": [
   ],
   "source": [
    "CVTGraph(pF2['zooid'])"
   ]
  },
  {
   "cell_type": "code",
   "execution_count": 0,
   "id": "23bcc5",
   "metadata": {
    "collapsed": false
   },
   "outputs": [
   ],
   "source": [
    "from discretezoo import info as zooinfo # discretezoo.info is an alias for discretezoo.entities.zoograph.info\n",
    "zooinfo.count() # The number of all graphs in the database"
   ]
  }
 ],
 "metadata": {
  "kernelspec": {
   "argv": [
    "sage-10.7",
    "--python",
    "-m",
    "sage.repl.ipython_kernel",
    "--matplotlib=inline",
    "-f",
    "{connection_file}"
   ],
   "display_name": "SageMath 10.7",
   "env": {
   },
   "language": "sagemath",
   "metadata": {
    "cocalc": {
     "description": "Open-source mathematical software system",
     "priority": 10,
     "url": "https://www.sagemath.org/"
    }
   },
   "name": "sage-10.7",
   "resource_dir": "/ext/jupyter/kernels/sage-10.7"
  },
  "language_info": {
   "codemirror_mode": {
    "name": "ipython",
    "version": 3
   },
   "file_extension": ".py",
   "mimetype": "text/x-python",
   "name": "python",
   "nbconvert_exporter": "python",
   "pygments_lexer": "ipython3",
   "version": "3.12.5"
  }
 },
 "nbformat": 4,
 "nbformat_minor": 4
}