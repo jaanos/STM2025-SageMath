{
 "cells": [
  {
   "cell_type": "markdown",
   "id": "2f3a7fb3-daa7-4c44-9761-1a4af5f8518d",
   "metadata": {},
   "source": [
    "# Basic Algebra and Calculus"
   ]
  },
  {
   "cell_type": "code",
   "execution_count": null,
   "id": "d50e1aaa-abeb-41f2-a72d-0920b555f285",
   "metadata": {},
   "outputs": [],
   "source": [
    "%display latex"
   ]
  },
  {
   "cell_type": "markdown",
   "id": "1c5eb470-c444-4dcc-a55b-8e6767c7583c",
   "metadata": {},
   "source": [
    "Sage can perform various computations related to basic algebra and calculus: for example, finding solutions to equations, differentiation, integration, and Laplace transforms. See the [Sage Constructions](http://doc.sagemath.org/html/en/constructions/) documentation for more examples.\n",
    "\n",
    "In all these examples, it is important to note that the variables in the functions are defined by `var(...)`. As an example:"
   ]
  },
  {
   "cell_type": "code",
   "execution_count": null,
   "id": "594d4d62-b39c-4090-a466-e5ab81a26742",
   "metadata": {},
   "outputs": [],
   "source": [
    "u = var('u')\n",
    "diff(sin(u), u)"
   ]
  },
  {
   "cell_type": "markdown",
   "id": "f06e3862-c701-47dc-8a0c-3a1aab36f0a2",
   "metadata": {},
   "source": [
    "If you get a `NameError`, check to see if you misspelled something, or forgot to define a variable with `var(...)`."
   ]
  },
  {
   "cell_type": "markdown",
   "id": "c4d8ff5e-4f4a-48c8-95ce-5a6455b6a959",
   "metadata": {},
   "source": [
    "## Solving Equations\n",
    "\n",
    "### Solving Equations Exactly\n",
    "\n",
    "The `solve` function solves equations. To use it, first specify some variables; then the arguments to `solve` are an equation (or a system of equations), together with the variables for which to solve:"
   ]
  },
  {
   "cell_type": "code",
   "execution_count": null,
   "id": "b54a161f-dd74-4de8-bca4-64e530b901c0",
   "metadata": {},
   "outputs": [],
   "source": [
    "x = var('x')\n",
    "solve(x^2 + 3*x + 2, x)"
   ]
  },
  {
   "cell_type": "markdown",
   "id": "cc2dd043-aa31-4762-b675-3b4212d9b29c",
   "metadata": {},
   "source": [
    "You can solve equations for one variable in terms of others:"
   ]
  },
  {
   "cell_type": "code",
   "execution_count": null,
   "id": "3565deea-9856-4e99-b4d0-3f3241ff8895",
   "metadata": {},
   "outputs": [],
   "source": [
    "x, b, c = var('x b c')\n",
    "solve([x^2 + b*x + c == 0], x)"
   ]
  },
  {
   "cell_type": "markdown",
   "id": "8c151ead-59e1-41e3-8cc6-6dece99129e6",
   "metadata": {},
   "source": [
    "You can also solve for several variables:"
   ]
  },
  {
   "cell_type": "code",
   "execution_count": null,
   "id": "34b34b3d-e83b-44a3-b10d-9221eda77e28",
   "metadata": {},
   "outputs": [],
   "source": [
    "x, y = var('x, y')\n",
    "solve([x + y == 6, x - y == 4], x, y)"
   ]
  },
  {
   "cell_type": "markdown",
   "id": "f0a599b5-d7e6-41bf-b70d-5c21bc597127",
   "metadata": {},
   "source": [
    "The following example of using Sage to solve a system of non-linear equations was provided by Jason Grout: first, we solve the system symbolically:"
   ]
  },
  {
   "cell_type": "code",
   "execution_count": null,
   "id": "a0cc0f7b-cc23-45be-8243-cc10ad389074",
   "metadata": {},
   "outputs": [],
   "source": [
    "var('x y p q')\n",
    "eq1 = p + q == 9\n",
    "eq2 = q*y + p*x == -6\n",
    "eq3 = q*y^2 + p*x^2 == 24\n",
    "solve([eq1, eq2, eq3, p == 1], p, q, x, y)"
   ]
  },
  {
   "cell_type": "markdown",
   "id": "06af5a5c-996e-47fb-a89d-bec1ec852326",
   "metadata": {},
   "source": [
    "For numerical approximations of the solutions, you can instead use:"
   ]
  },
  {
   "cell_type": "code",
   "execution_count": null,
   "id": "1eed0e1a-a56b-4ec3-a806-0ce6fc26f176",
   "metadata": {},
   "outputs": [],
   "source": [
    "solns = solve([eq1, eq2, eq3, p == 1], p, q, x, y, solution_dict=True)\n",
    "[[s[p].n(30), s[q].n(30), s[x].n(30), s[y].n(30)] for s in solns]"
   ]
  },
  {
   "cell_type": "markdown",
   "id": "ecc21997-0288-4067-a765-d7f62ac34e4b",
   "metadata": {},
   "source": [
    "### Solving Equations Numerically\n",
    "\n",
    "Often times, `solve` will not be able to find an exact solution to the equation or equations specified. When it fails, you can use `find_root` to find a numerical solution. For example, `solve` does not return anything interesting for the following equation:"
   ]
  },
  {
   "cell_type": "code",
   "execution_count": null,
   "id": "bc003928-a854-4072-8de1-591995997251",
   "metadata": {},
   "outputs": [],
   "source": [
    "theta = var('theta')\n",
    "solve(cos(theta) == sin(theta), theta)"
   ]
  },
  {
   "cell_type": "markdown",
   "id": "a4df4830-f28d-4e77-afff-7b99b0fb48d0",
   "metadata": {},
   "source": [
    "On the other hand, we can use `find_root` to find a solution to the above equation in the range $0 < \\phi < \\pi/2$:"
   ]
  },
  {
   "cell_type": "code",
   "execution_count": null,
   "id": "41de23ff-e0e5-42f0-a5d5-9a4b3b524db6",
   "metadata": {},
   "outputs": [],
   "source": [
    "phi = var('phi')\n",
    "find_root(cos(phi) == sin(phi), 0, pi/2)"
   ]
  },
  {
   "cell_type": "markdown",
   "id": "2d4feaa3-02aa-4f4f-9332-e56c1a09f47e",
   "metadata": {},
   "source": [
    "## Differentiation, integration, etc.\n",
    "\n",
    "Sage knows how to differentiate and integrate many functions. For example, to differentiate $\\sin(u)$ with respect to $u$, do the following:"
   ]
  },
  {
   "cell_type": "code",
   "execution_count": null,
   "id": "bbc77c0e-3b4e-4ca4-be95-18210ae3b698",
   "metadata": {},
   "outputs": [],
   "source": [
    "u = var('u')\n",
    "diff(sin(u), u)"
   ]
  },
  {
   "cell_type": "markdown",
   "id": "c566f0cb-0efd-45bd-900d-04dd12ada874",
   "metadata": {},
   "source": [
    "To compute the fourth derivative of $\\sin(x^2)$:"
   ]
  },
  {
   "cell_type": "code",
   "execution_count": null,
   "id": "e8804210-e478-4c83-b6cb-5aeee5ceff6c",
   "metadata": {},
   "outputs": [],
   "source": [
    "diff(sin(x^2), x, 4)"
   ]
  },
  {
   "cell_type": "markdown",
   "id": "5128c684-667c-4fc8-811f-6c28e7f49997",
   "metadata": {},
   "source": [
    "We move on to integrals, both indefinite and definite. We compute $\\int x\\sin(x^2)\\, dx$ and $\\int_0^1 \\frac{x}{x^2+1}\\, dx$:"
   ]
  },
  {
   "cell_type": "code",
   "execution_count": null,
   "id": "c50f4fb3-55e6-412b-b920-cee5ae0bbf4b",
   "metadata": {},
   "outputs": [],
   "source": [
    "integral(x * sin(x^2), x)"
   ]
  },
  {
   "cell_type": "code",
   "execution_count": null,
   "id": "bb11952b-9ad1-4e82-a657-5dae50bd2c1b",
   "metadata": {},
   "outputs": [],
   "source": [
    "integral(x/(x^2+1), x, 0, 1)"
   ]
  },
  {
   "cell_type": "markdown",
   "id": "22a57179-8163-4d03-a0fa-916cda247564",
   "metadata": {},
   "source": [
    "We now compute the partial fraction decomposition of $\\frac{1}{x^2-1}$:"
   ]
  },
  {
   "cell_type": "code",
   "execution_count": null,
   "id": "5b66287d-bacc-40bd-8506-902c935c1632",
   "metadata": {},
   "outputs": [],
   "source": [
    "f = 1/((1+x)*(x-1))\n",
    "f.partial_fraction(x)"
   ]
  }
 ],
 "metadata": {
  "kernelspec": {
   "display_name": "SageMath 10.6.beta2",
   "language": "sage",
   "name": "sagemath"
  },
  "language_info": {
   "codemirror_mode": {
    "name": "ipython",
    "version": 3
   },
   "file_extension": ".py",
   "mimetype": "text/x-python",
   "name": "python",
   "nbconvert_exporter": "python",
   "pygments_lexer": "ipython3",
   "version": "3.12.3"
  }
 },
 "nbformat": 4,
 "nbformat_minor": 5
}
