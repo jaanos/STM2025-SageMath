{
 "cells": [
  {
   "cell_type": "markdown",
   "id": "2f3a7fb3-daa7-4c44-9761-1a4af5f8518d",
   "metadata": {
    "collapsed": false
   },
   "source": [
    "# Basic Algebra and Calculus"
   ]
  },
  {
   "cell_type": "code",
   "execution_count": 3,
   "id": "d50e1aaa-abeb-41f2-a72d-0920b555f285",
   "metadata": {
    "collapsed": false
   },
   "outputs": [
   ],
   "source": [
    "%display latex"
   ]
  },
  {
   "cell_type": "markdown",
   "id": "1c5eb470-c444-4dcc-a55b-8e6767c7583c",
   "metadata": {
    "collapsed": false
   },
   "source": [
    "Sage can perform various computations related to basic algebra and calculus: for example, finding solutions to equations, differentiation, integration, and Laplace transforms. See the [Sage Constructions](http://doc.sagemath.org/html/en/constructions/) documentation for more examples.\n",
    "\n",
    "In all these examples, it is important to note that the variables in the functions are defined by `var(...)`. As an example:"
   ]
  },
  {
   "cell_type": "code",
   "execution_count": 4,
   "id": "594d4d62-b39c-4090-a466-e5ab81a26742",
   "metadata": {
    "collapsed": false
   },
   "outputs": [
    {
     "data": {
      "text/html": "<html>\\(\\displaystyle \\cos\\left(u\\right)\\)</html>",
      "text/latex": [
       "$\\displaystyle \\cos\\left(u\\right)$"
      ],
      "text/plain": [
       "cos(u)"
      ]
     },
     "execution_count": 4,
     "metadata": {
     },
     "output_type": "execute_result"
    }
   ],
   "source": [
    "u = var('u')\n",
    "diff(sin(u), u)"
   ]
  },
  {
   "cell_type": "markdown",
   "id": "f06e3862-c701-47dc-8a0c-3a1aab36f0a2",
   "metadata": {
    "collapsed": false
   },
   "source": [
    "If you get a `NameError`, check to see if you misspelled something, or forgot to define a variable with `var(...)`."
   ]
  },
  {
   "cell_type": "markdown",
   "id": "c4d8ff5e-4f4a-48c8-95ce-5a6455b6a959",
   "metadata": {
    "collapsed": false
   },
   "source": [
    "## Solving Equations\n",
    "\n",
    "### Solving Equations Exactly\n",
    "\n",
    "The `solve` function solves equations. To use it, first specify some variables; then the arguments to `solve` are an equation (or a system of equations), together with the variables for which to solve:"
   ]
  },
  {
   "cell_type": "code",
   "execution_count": 5,
   "id": "b54a161f-dd74-4de8-bca4-64e530b901c0",
   "metadata": {
    "collapsed": false
   },
   "outputs": [
    {
     "data": {
      "text/html": "<html>\\(\\displaystyle \\left[x = \\left(-2\\right), x = \\left(-1\\right)\\right]\\)</html>",
      "text/latex": [
       "$\\displaystyle \\left[x = \\left(-2\\right), x = \\left(-1\\right)\\right]$"
      ],
      "text/plain": [
       "[x == -2, x == -1]"
      ]
     },
     "execution_count": 5,
     "metadata": {
     },
     "output_type": "execute_result"
    }
   ],
   "source": [
    "x = var('x')\n",
    "solve(x^2 + 3*x + 2, x)"
   ]
  },
  {
   "cell_type": "markdown",
   "id": "cc2dd043-aa31-4762-b675-3b4212d9b29c",
   "metadata": {
    "collapsed": false
   },
   "source": [
    "You can solve equations for one variable in terms of others:"
   ]
  },
  {
   "cell_type": "code",
   "execution_count": 6,
   "id": "3565deea-9856-4e99-b4d0-3f3241ff8895",
   "metadata": {
    "collapsed": false
   },
   "outputs": [
    {
     "data": {
      "text/html": "<html>\\(\\displaystyle \\left[x = -\\frac{1}{2} \\, b - \\frac{1}{2} \\, \\sqrt{b^{2} - 4 \\, c}, x = -\\frac{1}{2} \\, b + \\frac{1}{2} \\, \\sqrt{b^{2} - 4 \\, c}\\right]\\)</html>",
      "text/latex": [
       "$\\displaystyle \\left[x = -\\frac{1}{2} \\, b - \\frac{1}{2} \\, \\sqrt{b^{2} - 4 \\, c}, x = -\\frac{1}{2} \\, b + \\frac{1}{2} \\, \\sqrt{b^{2} - 4 \\, c}\\right]$"
      ],
      "text/plain": [
       "[x == -1/2*b - 1/2*sqrt(b^2 - 4*c), x == -1/2*b + 1/2*sqrt(b^2 - 4*c)]"
      ]
     },
     "execution_count": 6,
     "metadata": {
     },
     "output_type": "execute_result"
    }
   ],
   "source": [
    "x, b, c = var('x b c')\n",
    "solve([x^2 + b*x + c == 0], x)"
   ]
  },
  {
   "cell_type": "markdown",
   "id": "8c151ead-59e1-41e3-8cc6-6dece99129e6",
   "metadata": {
    "collapsed": false
   },
   "source": [
    "You can also solve for several variables:"
   ]
  },
  {
   "cell_type": "code",
   "execution_count": 7,
   "id": "34b34b3d-e83b-44a3-b10d-9221eda77e28",
   "metadata": {
    "collapsed": false
   },
   "outputs": [
    {
     "data": {
      "text/html": "<html>\\(\\displaystyle \\left[\\left[x = 5, y = 1\\right]\\right]\\)</html>",
      "text/latex": [
       "$\\displaystyle \\left[\\left[x = 5, y = 1\\right]\\right]$"
      ],
      "text/plain": [
       "[[x == 5, y == 1]]"
      ]
     },
     "execution_count": 7,
     "metadata": {
     },
     "output_type": "execute_result"
    }
   ],
   "source": [
    "x, y = var('x, y')\n",
    "solve([x + y == 6, x - y == 4], x, y)"
   ]
  },
  {
   "cell_type": "markdown",
   "id": "f0a599b5-d7e6-41bf-b70d-5c21bc597127",
   "metadata": {
    "collapsed": false
   },
   "source": [
    "The following example of using Sage to solve a system of non-linear equations was provided by Jason Grout: first, we solve the system symbolically:"
   ]
  },
  {
   "cell_type": "code",
   "execution_count": 8,
   "id": "a0cc0f7b-cc23-45be-8243-cc10ad389074",
   "metadata": {
    "collapsed": false
   },
   "outputs": [
    {
     "data": {
      "text/html": "<html>\\(\\displaystyle \\left[\\left[p = 1, q = 8, x = -\\frac{4}{3} \\, \\sqrt{10} - \\frac{2}{3}, y = \\frac{1}{6} \\, \\sqrt{10} - \\frac{2}{3}\\right], \\left[p = 1, q = 8, x = \\frac{4}{3} \\, \\sqrt{10} - \\frac{2}{3}, y = -\\frac{1}{6} \\, \\sqrt{10} - \\frac{2}{3}\\right]\\right]\\)</html>",
      "text/latex": [
       "$\\displaystyle \\left[\\left[p = 1, q = 8, x = -\\frac{4}{3} \\, \\sqrt{10} - \\frac{2}{3}, y = \\frac{1}{6} \\, \\sqrt{10} - \\frac{2}{3}\\right], \\left[p = 1, q = 8, x = \\frac{4}{3} \\, \\sqrt{10} - \\frac{2}{3}, y = -\\frac{1}{6} \\, \\sqrt{10} - \\frac{2}{3}\\right]\\right]$"
      ],
      "text/plain": [
       "[[p == 1, q == 8, x == -4/3*sqrt(10) - 2/3, y == 1/6*sqrt(10) - 2/3],\n",
       " [p == 1, q == 8, x == 4/3*sqrt(10) - 2/3, y == -1/6*sqrt(10) - 2/3]]"
      ]
     },
     "execution_count": 8,
     "metadata": {
     },
     "output_type": "execute_result"
    }
   ],
   "source": [
    "var('x y p q')\n",
    "eq1 = p + q == 9\n",
    "eq2 = q*y + p*x == -6\n",
    "eq3 = q*y^2 + p*x^2 == 24\n",
    "solve([eq1, eq2, eq3, p == 1], p, q, x, y)"
   ]
  },
  {
   "cell_type": "markdown",
   "id": "06af5a5c-996e-47fb-a89d-bec1ec852326",
   "metadata": {
    "collapsed": false
   },
   "source": [
    "For numerical approximations of the solutions, you can instead use:"
   ]
  },
  {
   "cell_type": "code",
   "execution_count": 9,
   "id": "1eed0e1a-a56b-4ec3-a806-0ce6fc26f176",
   "metadata": {
    "collapsed": false
   },
   "outputs": [
    {
     "data": {
      "text/html": "<html>\\(\\displaystyle \\left[\\left[1.0000000, 8.0000000, -4.8830369, -0.13962039\\right], \\left[1.0000000, 8.0000000, 3.5497035, -1.1937129\\right]\\right]\\)</html>",
      "text/latex": [
       "$\\displaystyle \\left[\\left[1.0000000, 8.0000000, -4.8830369, -0.13962039\\right], \\left[1.0000000, 8.0000000, 3.5497035, -1.1937129\\right]\\right]$"
      ],
      "text/plain": [
       "[[1.0000000, 8.0000000, -4.8830369, -0.13962039],\n",
       " [1.0000000, 8.0000000, 3.5497035, -1.1937129]]"
      ]
     },
     "execution_count": 9,
     "metadata": {
     },
     "output_type": "execute_result"
    }
   ],
   "source": [
    "solns = solve([eq1, eq2, eq3, p == 1], p, q, x, y, solution_dict=True)\n",
    "[[s[p].n(30), s[q].n(30), s[x].n(30), s[y].n(30)] for s in solns]"
   ]
  },
  {
   "cell_type": "markdown",
   "id": "ecc21997-0288-4067-a765-d7f62ac34e4b",
   "metadata": {
    "collapsed": false
   },
   "source": [
    "### Solving Equations Numerically\n",
    "\n",
    "Often times, `solve` will not be able to find an exact solution to the equation or equations specified. When it fails, you can use `find_root` to find a numerical solution. For example, `solve` does not return anything interesting for the following equation:"
   ]
  },
  {
   "cell_type": "code",
   "execution_count": 10,
   "id": "bc003928-a854-4072-8de1-591995997251",
   "metadata": {
    "collapsed": false
   },
   "outputs": [
    {
     "data": {
      "text/html": "<html>\\(\\displaystyle \\left[\\sin\\left(\\theta\\right) = \\cos\\left(\\theta\\right)\\right]\\)</html>",
      "text/latex": [
       "$\\displaystyle \\left[\\sin\\left(\\theta\\right) = \\cos\\left(\\theta\\right)\\right]$"
      ],
      "text/plain": [
       "[sin(theta) == cos(theta)]"
      ]
     },
     "execution_count": 10,
     "metadata": {
     },
     "output_type": "execute_result"
    }
   ],
   "source": [
    "theta = var('theta')\n",
    "solve(cos(theta) == sin(theta), theta)"
   ]
  },
  {
   "cell_type": "markdown",
   "id": "a4df4830-f28d-4e77-afff-7b99b0fb48d0",
   "metadata": {
    "collapsed": false
   },
   "source": [
    "On the other hand, we can use `find_root` to find a solution to the above equation in the range $0 < \\phi < \\pi/2$:"
   ]
  },
  {
   "cell_type": "code",
   "execution_count": 11,
   "id": "41de23ff-e0e5-42f0-a5d5-9a4b3b524db6",
   "metadata": {
    "collapsed": false
   },
   "outputs": [
    {
     "data": {
      "text/html": "<html>\\(\\displaystyle 0.7853981633974484\\)</html>",
      "text/latex": [
       "$\\displaystyle 0.7853981633974484$"
      ],
      "text/plain": [
       "0.7853981633974484"
      ]
     },
     "execution_count": 11,
     "metadata": {
     },
     "output_type": "execute_result"
    }
   ],
   "source": [
    "phi = var('phi')\n",
    "find_root(cos(phi) == sin(phi), 0, pi/2)"
   ]
  },
  {
   "cell_type": "markdown",
   "id": "2d4feaa3-02aa-4f4f-9332-e56c1a09f47e",
   "metadata": {
    "collapsed": false
   },
   "source": [
    "## Differentiation, integration, etc.\n",
    "\n",
    "Sage knows how to differentiate and integrate many functions. For example, to differentiate $\\sin(u)$ with respect to $u$, do the following:"
   ]
  },
  {
   "cell_type": "code",
   "execution_count": 12,
   "id": "bbc77c0e-3b4e-4ca4-be95-18210ae3b698",
   "metadata": {
    "collapsed": false
   },
   "outputs": [
    {
     "data": {
      "text/html": "<html>\\(\\displaystyle \\cos\\left(u\\right)\\)</html>",
      "text/latex": [
       "$\\displaystyle \\cos\\left(u\\right)$"
      ],
      "text/plain": [
       "cos(u)"
      ]
     },
     "execution_count": 12,
     "metadata": {
     },
     "output_type": "execute_result"
    }
   ],
   "source": [
    "u = var('u')\n",
    "diff(sin(u), u)"
   ]
  },
  {
   "cell_type": "markdown",
   "id": "c566f0cb-0efd-45bd-900d-04dd12ada874",
   "metadata": {
    "collapsed": false
   },
   "source": [
    "To compute the fourth derivative of $\\sin(x^2)$:"
   ]
  },
  {
   "cell_type": "code",
   "execution_count": 13,
   "id": "e8804210-e478-4c83-b6cb-5aeee5ceff6c",
   "metadata": {
    "collapsed": false
   },
   "outputs": [
    {
     "data": {
      "text/html": "<html>\\(\\displaystyle 16 \\, x^{4} \\sin\\left(x^{2}\\right) - 48 \\, x^{2} \\cos\\left(x^{2}\\right) - 12 \\, \\sin\\left(x^{2}\\right)\\)</html>",
      "text/latex": [
       "$\\displaystyle 16 \\, x^{4} \\sin\\left(x^{2}\\right) - 48 \\, x^{2} \\cos\\left(x^{2}\\right) - 12 \\, \\sin\\left(x^{2}\\right)$"
      ],
      "text/plain": [
       "16*x^4*sin(x^2) - 48*x^2*cos(x^2) - 12*sin(x^2)"
      ]
     },
     "execution_count": 13,
     "metadata": {
     },
     "output_type": "execute_result"
    }
   ],
   "source": [
    "diff(sin(x^2), x, 4)"
   ]
  },
  {
   "cell_type": "markdown",
   "id": "5128c684-667c-4fc8-811f-6c28e7f49997",
   "metadata": {
    "collapsed": false
   },
   "source": [
    "We move on to integrals, both indefinite and definite. We compute $\\int x\\sin(x^2)\\, dx$ and $\\int_0^1 \\frac{x}{x^2+1}\\, dx$:"
   ]
  },
  {
   "cell_type": "code",
   "execution_count": 14,
   "id": "c50f4fb3-55e6-412b-b920-cee5ae0bbf4b",
   "metadata": {
    "collapsed": false
   },
   "outputs": [
    {
     "data": {
      "text/html": "<html>\\(\\displaystyle -\\frac{1}{2} \\, \\cos\\left(x^{2}\\right)\\)</html>",
      "text/latex": [
       "$\\displaystyle -\\frac{1}{2} \\, \\cos\\left(x^{2}\\right)$"
      ],
      "text/plain": [
       "-1/2*cos(x^2)"
      ]
     },
     "execution_count": 14,
     "metadata": {
     },
     "output_type": "execute_result"
    }
   ],
   "source": [
    "integral(x * sin(x^2), x)"
   ]
  },
  {
   "cell_type": "code",
   "execution_count": 15,
   "id": "bb11952b-9ad1-4e82-a657-5dae50bd2c1b",
   "metadata": {
    "collapsed": false
   },
   "outputs": [
    {
     "data": {
      "text/html": "<html>\\(\\displaystyle \\frac{1}{2} \\, \\log\\left(2\\right)\\)</html>",
      "text/latex": [
       "$\\displaystyle \\frac{1}{2} \\, \\log\\left(2\\right)$"
      ],
      "text/plain": [
       "1/2*log(2)"
      ]
     },
     "execution_count": 15,
     "metadata": {
     },
     "output_type": "execute_result"
    }
   ],
   "source": [
    "integral(x/(x^2+1), x, 0, 1)"
   ]
  },
  {
   "cell_type": "markdown",
   "id": "22a57179-8163-4d03-a0fa-916cda247564",
   "metadata": {
    "collapsed": false
   },
   "source": [
    "We now compute the partial fraction decomposition of $\\frac{1}{x^2-1}$:"
   ]
  },
  {
   "cell_type": "code",
   "execution_count": 16,
   "id": "5b66287d-bacc-40bd-8506-902c935c1632",
   "metadata": {
    "collapsed": false
   },
   "outputs": [
    {
     "data": {
      "text/html": "<html>\\(\\displaystyle -\\frac{1}{2 \\, {\\left(x + 1\\right)}} + \\frac{1}{2 \\, {\\left(x - 1\\right)}}\\)</html>",
      "text/latex": [
       "$\\displaystyle -\\frac{1}{2 \\, {\\left(x + 1\\right)}} + \\frac{1}{2 \\, {\\left(x - 1\\right)}}$"
      ],
      "text/plain": [
       "-1/2/(x + 1) + 1/2/(x - 1)"
      ]
     },
     "execution_count": 16,
     "metadata": {
     },
     "output_type": "execute_result"
    }
   ],
   "source": [
    "f = 1/((1+x)*(x-1))\n",
    "f.partial_fraction(x)"
   ]
  },
  {
   "cell_type": "code",
   "execution_count": 0,
   "id": "b7df7a",
   "metadata": {
    "collapsed": false
   },
   "outputs": [
   ],
   "source": [
    "f."
   ]
  }
 ],
 "metadata": {
  "kernelspec": {
   "argv": [
    "sage-10.7",
    "--python",
    "-m",
    "sage.repl.ipython_kernel",
    "--matplotlib=inline",
    "-f",
    "{connection_file}"
   ],
   "display_name": "SageMath 10.7",
   "env": {
   },
   "language": "sagemath",
   "metadata": {
    "cocalc": {
     "description": "Open-source mathematical software system",
     "priority": 10,
     "url": "https://www.sagemath.org/"
    }
   },
   "name": "sage-10.7",
   "resource_dir": "/ext/jupyter/kernels/sage-10.7"
  },
  "language_info": {
   "codemirror_mode": {
    "name": "ipython",
    "version": 3
   },
   "file_extension": ".py",
   "mimetype": "text/x-python",
   "name": "python",
   "nbconvert_exporter": "python",
   "pygments_lexer": "ipython3",
   "version": "3.12.3"
  }
 },
 "nbformat": 4,
 "nbformat_minor": 4
}