{
 "cells": [
  {
   "cell_type": "markdown",
   "id": "10884ae0-d340-4e31-bb84-8fc1bbf27495",
   "metadata": {
    "collapsed": false
   },
   "source": [
    "# Basic usage of SageMath"
   ]
  },
  {
   "cell_type": "code",
   "execution_count": 3,
   "id": "29f82e91-6b87-42b3-936d-1888a8ed7689",
   "metadata": {
    "collapsed": false
   },
   "outputs": [
   ],
   "source": [
    "%display latex"
   ]
  },
  {
   "cell_type": "markdown",
   "id": "67d9f99e-9edf-4fa6-9da0-d024b1ec488b",
   "metadata": {
    "collapsed": false
   },
   "source": [
    "## Assignment, Equality, and Arithmetic\n",
    "\n",
    "With some minor exceptions, Sage uses the Python programming language, so basic Python knowledge will help you to learn Sage.\n",
    "\n",
    "Sage uses `=` for assignment. It uses `==`, `<=`, `>=`, `<` and `>` for comparison:"
   ]
  },
  {
   "cell_type": "code",
   "execution_count": 4,
   "id": "6fa2a4c9-9a89-4528-8668-3e667741b8c2",
   "metadata": {
    "collapsed": false
   },
   "outputs": [
    {
     "data": {
      "text/html": "<html>\\(\\displaystyle 5\\)</html>",
      "text/latex": [
       "$\\displaystyle 5$"
      ],
      "text/plain": [
       "5"
      ]
     },
     "execution_count": 4,
     "metadata": {
     },
     "output_type": "execute_result"
    }
   ],
   "source": [
    "a = 5\n",
    "a"
   ]
  },
  {
   "cell_type": "code",
   "execution_count": 5,
   "id": "b33a7bda-281a-44c9-a740-55d08e9e54b2",
   "metadata": {
    "collapsed": false
   },
   "outputs": [
    {
     "data": {
      "text/html": "<html>\\(\\displaystyle \\mathrm{True}\\)</html>",
      "text/latex": [
       "$\\displaystyle \\mathrm{True}$"
      ],
      "text/plain": [
       "True"
      ]
     },
     "execution_count": 5,
     "metadata": {
     },
     "output_type": "execute_result"
    }
   ],
   "source": [
    "2 == 2"
   ]
  },
  {
   "cell_type": "code",
   "execution_count": 6,
   "id": "d4b9f066-b292-463f-afce-d54eac84d0a4",
   "metadata": {
    "collapsed": false
   },
   "outputs": [
    {
     "data": {
      "text/html": "<html>\\(\\displaystyle \\mathrm{False}\\)</html>",
      "text/latex": [
       "$\\displaystyle \\mathrm{False}$"
      ],
      "text/plain": [
       "False"
      ]
     },
     "execution_count": 6,
     "metadata": {
     },
     "output_type": "execute_result"
    }
   ],
   "source": [
    "2 == 3"
   ]
  },
  {
   "cell_type": "code",
   "execution_count": 7,
   "id": "a4763e63-8b1e-43cc-92fe-927d518b6787",
   "metadata": {
    "collapsed": false
   },
   "outputs": [
    {
     "data": {
      "text/html": "<html>\\(\\displaystyle \\mathrm{True}\\)</html>",
      "text/latex": [
       "$\\displaystyle \\mathrm{True}$"
      ],
      "text/plain": [
       "True"
      ]
     },
     "execution_count": 7,
     "metadata": {
     },
     "output_type": "execute_result"
    }
   ],
   "source": [
    "2 < 3"
   ]
  },
  {
   "cell_type": "code",
   "execution_count": 8,
   "id": "a3c2b6c5-49d9-4393-adef-17c0ff0fc281",
   "metadata": {
    "collapsed": false
   },
   "outputs": [
    {
     "data": {
      "text/html": "<html>\\(\\displaystyle \\mathrm{True}\\)</html>",
      "text/latex": [
       "$\\displaystyle \\mathrm{True}$"
      ],
      "text/plain": [
       "True"
      ]
     },
     "execution_count": 8,
     "metadata": {
     },
     "output_type": "execute_result"
    }
   ],
   "source": [
    "a == 5"
   ]
  },
  {
   "cell_type": "markdown",
   "id": "ffe437a9-7ca4-4e8c-95d0-a74875649085",
   "metadata": {
    "collapsed": false
   },
   "source": [
    "Sage provides all of the basic mathematical operations:"
   ]
  },
  {
   "cell_type": "code",
   "execution_count": 9,
   "id": "9e4ac84d-d71c-4fdc-96dd-4c6781eff073",
   "metadata": {
    "collapsed": false
   },
   "outputs": [
    {
     "data": {
      "text/html": "<html>\\(\\displaystyle 8\\)</html>",
      "text/latex": [
       "$\\displaystyle 8$"
      ],
      "text/plain": [
       "8"
      ]
     },
     "execution_count": 9,
     "metadata": {
     },
     "output_type": "execute_result"
    }
   ],
   "source": [
    "2 ** 3    #  ** means exponent, as in Python"
   ]
  },
  {
   "cell_type": "code",
   "execution_count": 10,
   "id": "41bfe132-fd97-4ec6-b5d2-76862fee07c7",
   "metadata": {
    "collapsed": false
   },
   "outputs": [
    {
     "data": {
      "text/html": "<html>\\(\\displaystyle 8\\)</html>",
      "text/latex": [
       "$\\displaystyle 8$"
      ],
      "text/plain": [
       "8"
      ]
     },
     "execution_count": 10,
     "metadata": {
     },
     "output_type": "execute_result"
    }
   ],
   "source": [
    "2 ^ 3     #  ^ is a synonym for ** (unlike in Python)"
   ]
  },
  {
   "cell_type": "code",
   "execution_count": 11,
   "id": "8ff13805-f0f6-4a72-9b43-adf982666973",
   "metadata": {
    "collapsed": false
   },
   "outputs": [
    {
     "data": {
      "text/html": "<html>\\(\\displaystyle 1\\)</html>",
      "text/latex": [
       "$\\displaystyle 1$"
      ],
      "text/plain": [
       "1"
      ]
     },
     "execution_count": 11,
     "metadata": {
     },
     "output_type": "execute_result"
    }
   ],
   "source": [
    "10 % 3    #  for integer arguments, % means mod, i.e., remainder"
   ]
  },
  {
   "cell_type": "code",
   "execution_count": 12,
   "id": "cb2382e9-eb39-455c-a27a-69d0159788f9",
   "metadata": {
    "collapsed": false
   },
   "outputs": [
    {
     "data": {
      "text/html": "<html>\\(\\displaystyle \\frac{5}{2}\\)</html>",
      "text/latex": [
       "$\\displaystyle \\frac{5}{2}$"
      ],
      "text/plain": [
       "5/2"
      ]
     },
     "execution_count": 12,
     "metadata": {
     },
     "output_type": "execute_result"
    }
   ],
   "source": [
    "10 / 4"
   ]
  },
  {
   "cell_type": "code",
   "execution_count": 14,
   "id": "e2bb15aa-dfe0-47bd-9345-9b082e4bbe30",
   "metadata": {
    "collapsed": false
   },
   "outputs": [
    {
     "data": {
      "text/html": "<html>\\(\\displaystyle -3\\)</html>",
      "text/latex": [
       "$\\displaystyle -3$"
      ],
      "text/plain": [
       "-3"
      ]
     },
     "execution_count": 14,
     "metadata": {
     },
     "output_type": "execute_result"
    }
   ],
   "source": [
    "-10 // 4   #  for integer arguments, // returns the integer quotient"
   ]
  },
  {
   "cell_type": "code",
   "execution_count": 15,
   "id": "945a1cc2-ee1f-4586-8c7c-e1e584bb04e3",
   "metadata": {
    "collapsed": false
   },
   "outputs": [
    {
     "data": {
      "text/html": "<html>\\(\\displaystyle \\mathrm{True}\\)</html>",
      "text/latex": [
       "$\\displaystyle \\mathrm{True}$"
      ],
      "text/plain": [
       "True"
      ]
     },
     "execution_count": 15,
     "metadata": {
     },
     "output_type": "execute_result"
    }
   ],
   "source": [
    "4 * (10 // 4) + 10 % 4 == 10"
   ]
  },
  {
   "cell_type": "code",
   "execution_count": 17,
   "id": "fc98ee14-09ee-4b29-9e1e-d517004a5099",
   "metadata": {
    "collapsed": false
   },
   "outputs": [
    {
     "data": {
      "text/html": "<html>\\(\\displaystyle 3\\)</html>",
      "text/latex": [
       "$\\displaystyle 3$"
      ],
      "text/plain": [
       "3"
      ]
     },
     "execution_count": 17,
     "metadata": {
     },
     "output_type": "execute_result"
    }
   ],
   "source": [
    "(3^2 * 4 + 2) % 5"
   ]
  },
  {
   "cell_type": "markdown",
   "id": "12842ddd-f292-44a1-a462-dba487d9a0be",
   "metadata": {
    "collapsed": false
   },
   "source": [
    "The computation of an expression like `3^2 * 4 + 2 % 5` depends on the order in which the operations are applied; this is specified in the [operator precedence table](https://doc.sagemath.org/html/en/tutorial/appendix.html#section-precedence).\n",
    "\n",
    "Sage also provides many familiar mathematical functions; here are just a few examples:"
   ]
  },
  {
   "cell_type": "code",
   "execution_count": 18,
   "id": "99660d46-5e55-44a1-b30d-6a2ef8c87e5d",
   "metadata": {
    "collapsed": false
   },
   "outputs": [
    {
     "data": {
      "text/html": "<html>\\(\\displaystyle 1.84390889145858\\)</html>",
      "text/latex": [
       "$\\displaystyle 1.84390889145858$"
      ],
      "text/plain": [
       "1.84390889145858"
      ]
     },
     "execution_count": 18,
     "metadata": {
     },
     "output_type": "execute_result"
    }
   ],
   "source": [
    "sqrt(3.4)"
   ]
  },
  {
   "cell_type": "code",
   "execution_count": 19,
   "id": "25395057-2595-4097-98a2-85b2ca9c94b7",
   "metadata": {
    "collapsed": false
   },
   "outputs": [
    {
     "data": {
      "text/html": "<html>\\(\\displaystyle -0.912021158525540\\)</html>",
      "text/latex": [
       "$\\displaystyle -0.912021158525540$"
      ],
      "text/plain": [
       "-0.912021158525540"
      ]
     },
     "execution_count": 19,
     "metadata": {
     },
     "output_type": "execute_result"
    }
   ],
   "source": [
    "sin(5.135)"
   ]
  },
  {
   "cell_type": "code",
   "execution_count": 20,
   "id": "5b0cf59f-9eb1-48d0-b1b4-da27f80e0492",
   "metadata": {
    "collapsed": false
   },
   "outputs": [
    {
     "data": {
      "text/html": "<html>\\(\\displaystyle \\frac{1}{2} \\, \\sqrt{3}\\)</html>",
      "text/latex": [
       "$\\displaystyle \\frac{1}{2} \\, \\sqrt{3}$"
      ],
      "text/plain": [
       "1/2*sqrt(3)"
      ]
     },
     "execution_count": 20,
     "metadata": {
     },
     "output_type": "execute_result"
    }
   ],
   "source": [
    "sin(pi/3)"
   ]
  },
  {
   "cell_type": "code",
   "execution_count": 23,
   "id": "d253c3",
   "metadata": {
    "collapsed": false
   },
   "outputs": [
    {
     "data": {
      "text/html": "<html>\\(\\displaystyle \\frac{1}{3} \\, \\pi\\)</html>",
      "text/latex": [
       "$\\displaystyle \\frac{1}{3} \\, \\pi$"
      ],
      "text/plain": [
       "1/3*pi"
      ]
     },
     "execution_count": 23,
     "metadata": {
     },
     "output_type": "execute_result"
    }
   ],
   "source": [
    "pi/3"
   ]
  },
  {
   "cell_type": "markdown",
   "id": "93e96b9d-d028-42d2-bb84-59172fce235e",
   "metadata": {
    "collapsed": false
   },
   "source": [
    "As the last example shows, some mathematical expressions return ‘exact’ values, rather than numerical approximations. To get a numerical approximation, use either the function `N` or the method `n` (and both of these have a longer name, `numerical_approx`, and the function `N` is the same as `n`)). These take optional arguments `prec`, which is the requested number of bits of precision, and `digits`, which is the requested number of decimal digits of precision; the default is 53 bits of precision."
   ]
  },
  {
   "cell_type": "code",
   "execution_count": 24,
   "id": "907eee61-86b2-46dd-9005-4cc436a042a0",
   "metadata": {
    "collapsed": false
   },
   "outputs": [
    {
     "data": {
      "text/html": "<html>\\(\\displaystyle e^{2}\\)</html>",
      "text/latex": [
       "$\\displaystyle e^{2}$"
      ],
      "text/plain": [
       "e^2"
      ]
     },
     "execution_count": 24,
     "metadata": {
     },
     "output_type": "execute_result"
    }
   ],
   "source": [
    "exp(2)"
   ]
  },
  {
   "cell_type": "code",
   "execution_count": 25,
   "id": "5f5d5a20-9a1e-455d-97fc-8925e68f2d44",
   "metadata": {
    "collapsed": false
   },
   "outputs": [
    {
     "data": {
      "text/html": "<html>\\(\\displaystyle 7.38905609893065\\)</html>",
      "text/latex": [
       "$\\displaystyle 7.38905609893065$"
      ],
      "text/plain": [
       "7.38905609893065"
      ]
     },
     "execution_count": 25,
     "metadata": {
     },
     "output_type": "execute_result"
    }
   ],
   "source": [
    "n(exp(2))"
   ]
  },
  {
   "cell_type": "code",
   "execution_count": 26,
   "id": "6fcb55f1-3c68-4aa8-b62f-b683f428226c",
   "metadata": {
    "collapsed": false
   },
   "outputs": [
    {
     "data": {
      "text/html": "<html>\\(\\displaystyle 1.77245385090552\\)</html>",
      "text/latex": [
       "$\\displaystyle 1.77245385090552$"
      ],
      "text/plain": [
       "1.77245385090552"
      ]
     },
     "execution_count": 26,
     "metadata": {
     },
     "output_type": "execute_result"
    }
   ],
   "source": [
    "sqrt(pi).numerical_approx()"
   ]
  },
  {
   "cell_type": "code",
   "execution_count": 27,
   "id": "2aed300c-17b6-4c23-a014-c150213de8b6",
   "metadata": {
    "collapsed": false
   },
   "outputs": [
    {
     "data": {
      "text/html": "<html>\\(\\displaystyle -0.54402\\)</html>",
      "text/latex": [
       "$\\displaystyle -0.54402$"
      ],
      "text/plain": [
       "-0.54402"
      ]
     },
     "execution_count": 27,
     "metadata": {
     },
     "output_type": "execute_result"
    }
   ],
   "source": [
    "sin(10).n(digits=5)"
   ]
  },
  {
   "cell_type": "code",
   "execution_count": 28,
   "id": "abd07324-6352-43d4-b6f2-3a64c9f6d8ed",
   "metadata": {
    "collapsed": false
   },
   "outputs": [
    {
     "data": {
      "text/html": "<html>\\(\\displaystyle -0.5440211109\\)</html>",
      "text/latex": [
       "$\\displaystyle -0.5440211109$"
      ],
      "text/plain": [
       "-0.5440211109"
      ]
     },
     "execution_count": 28,
     "metadata": {
     },
     "output_type": "execute_result"
    }
   ],
   "source": [
    "N(sin(10), digits=10)"
   ]
  },
  {
   "cell_type": "code",
   "execution_count": 29,
   "id": "f7b0e1f4-5c30-48f2-bfbb-18ddc70c2918",
   "metadata": {
    "collapsed": false
   },
   "outputs": [
    {
     "data": {
      "text/html": "<html>\\(\\displaystyle 3.1415926535897932384626433832795028841971693993751058209749\\)</html>",
      "text/latex": [
       "$\\displaystyle 3.1415926535897932384626433832795028841971693993751058209749$"
      ],
      "text/plain": [
       "3.1415926535897932384626433832795028841971693993751058209749"
      ]
     },
     "execution_count": 29,
     "metadata": {
     },
     "output_type": "execute_result"
    }
   ],
   "source": [
    "numerical_approx(pi, prec=200)"
   ]
  },
  {
   "cell_type": "markdown",
   "id": "2e2f431a-54f8-438f-acf2-2ac4c7233553",
   "metadata": {
    "collapsed": false
   },
   "source": [
    "Python is dynamically typed, so the value referred to by each variable has a type associated with it, but a given variable may hold values of any Python type within a given scope:"
   ]
  },
  {
   "cell_type": "code",
   "execution_count": 30,
   "id": "4387de44-fcb5-49ec-bddc-bfccd0cec9f0",
   "metadata": {
    "collapsed": false
   },
   "outputs": [
    {
     "data": {
      "text/html": "<html>\\(\\displaystyle \\verb|&lt;class|\\verb| |\\verb|'sage.rings.integer.Integer'>|\\)</html>",
      "text/latex": [
       "$\\displaystyle \\verb|<class|\\verb| |\\verb|'sage.rings.integer.Integer'>|$"
      ],
      "text/plain": [
       "<class 'sage.rings.integer.Integer'>"
      ]
     },
     "execution_count": 30,
     "metadata": {
     },
     "output_type": "execute_result"
    }
   ],
   "source": [
    "a = 5\n",
    "type(a)"
   ]
  },
  {
   "cell_type": "code",
   "execution_count": 31,
   "id": "f62c51ac-8486-49f5-adca-8a9cffc070ee",
   "metadata": {
    "collapsed": false
   },
   "outputs": [
    {
     "data": {
      "text/html": "<html>\\(\\displaystyle \\verb|&lt;class|\\verb| |\\verb|'sage.rings.rational.Rational'>|\\)</html>",
      "text/latex": [
       "$\\displaystyle \\verb|<class|\\verb| |\\verb|'sage.rings.rational.Rational'>|$"
      ],
      "text/plain": [
       "<class 'sage.rings.rational.Rational'>"
      ]
     },
     "execution_count": 31,
     "metadata": {
     },
     "output_type": "execute_result"
    }
   ],
   "source": [
    "a = 5/3\n",
    "type(a)"
   ]
  },
  {
   "cell_type": "code",
   "execution_count": 32,
   "id": "29b93763-734c-4680-bde4-9aa1eff8e682",
   "metadata": {
    "collapsed": false
   },
   "outputs": [
    {
     "data": {
      "text/html": "<html>\\(\\displaystyle \\verb|&lt;class|\\verb| |\\verb|'str'>|\\)</html>",
      "text/latex": [
       "$\\displaystyle \\verb|<class|\\verb| |\\verb|'str'>|$"
      ],
      "text/plain": [
       "<class 'str'>"
      ]
     },
     "execution_count": 32,
     "metadata": {
     },
     "output_type": "execute_result"
    }
   ],
   "source": [
    "a = 'hello'\n",
    "type(a)"
   ]
  },
  {
   "cell_type": "markdown",
   "id": "7c5a5004-c845-432f-9bac-7c6c34b5d52b",
   "metadata": {
    "collapsed": false
   },
   "source": [
    "## Getting help\n",
    "\n",
    "Sage has extensive built-in documentation, accessible by typing the name of a function or a constant (for example), followed by a question mark:"
   ]
  },
  {
   "cell_type": "code",
   "execution_count": 33,
   "id": "383a08aa-243c-46ad-92bf-13c271d67cdc",
   "metadata": {
    "collapsed": false
   },
   "outputs": [
    {
     "data": {
      "text/plain": [
       "\u001b[0;31mSignature:\u001b[0m      \u001b[0mtan\u001b[0m\u001b[0;34m(\u001b[0m\u001b[0mself\u001b[0m\u001b[0;34m,\u001b[0m \u001b[0mcoerce\u001b[0m\u001b[0;34m=\u001b[0m\u001b[0;32mTrue\u001b[0m\u001b[0;34m,\u001b[0m \u001b[0mhold\u001b[0m\u001b[0;34m=\u001b[0m\u001b[0;32mFalse\u001b[0m\u001b[0;34m,\u001b[0m \u001b[0mdont_call_method_on_arg\u001b[0m\u001b[0;34m=\u001b[0m\u001b[0;32mFalse\u001b[0m\u001b[0;34m,\u001b[0m \u001b[0;34m*\u001b[0m\u001b[0margs\u001b[0m\u001b[0;34m)\u001b[0m\u001b[0;34m\u001b[0m\u001b[0;34m\u001b[0m\u001b[0m\n",
       "\u001b[0;31mType:\u001b[0m           Function_tan\n",
       "\u001b[0;31mString form:\u001b[0m    tan\n",
       "\u001b[0;31mFile:\u001b[0m           /ext/sage/10.7/src/sage/functions/trig.py\n",
       "\u001b[0;31mDocstring:\u001b[0m     \n",
       "   The tangent function.\n",
       "\n",
       "   EXAMPLES:\n",
       "\n",
       "      sage: tan(3.1415)\n",
       "      -0.0000926535900581913\n",
       "      sage: tan(3.1415/4)\n",
       "      0.999953674278156\n",
       "\n",
       "      sage: tan(pi)\n",
       "      0\n",
       "      sage: tan(pi/4)\n",
       "      1\n",
       "      sage: tan(1/2)\n",
       "      tan(1/2)\n",
       "      sage: RR(tan(1/2))\n",
       "      0.546302489843790\n",
       "\n",
       "   We can prevent evaluation using the \"hold\" parameter:\n",
       "\n",
       "      sage: tan(pi/4, hold=True)\n",
       "      tan(1/4*pi)\n",
       "\n",
       "   To then evaluate again, we currently must use Maxima via\n",
       "   \"sage.symbolic.expression.Expression.simplify()\":\n",
       "\n",
       "      sage: a = tan(pi/4, hold=True); a.simplify()\n",
       "      1\n",
       "\n",
       "   If possible, the argument is also reduced modulo the period length\n",
       "   \\pi, and well-known identities are directly evaluated:\n",
       "\n",
       "      sage: k = var('k', domain='integer')\n",
       "      sage: tan(1 + 2*k*pi)\n",
       "      tan(1)\n",
       "      sage: tan(k*pi)\n",
       "      0\n",
       "\u001b[0;31mInit docstring:\u001b[0m\n",
       "   The tangent function.\n",
       "\n",
       "   EXAMPLES:\n",
       "\n",
       "      sage: tan(3.1415)\n",
       "      -0.0000926535900581913\n",
       "      sage: tan(3.1415/4)\n",
       "      0.999953674278156\n",
       "\n",
       "      sage: tan(pi)\n",
       "      0\n",
       "      sage: tan(pi/4)\n",
       "      1\n",
       "      sage: tan(1/2)\n",
       "      tan(1/2)\n",
       "      sage: RR(tan(1/2))\n",
       "      0.546302489843790\n",
       "\n",
       "   We can prevent evaluation using the \"hold\" parameter:\n",
       "\n",
       "      sage: tan(pi/4, hold=True)\n",
       "      tan(1/4*pi)\n",
       "\n",
       "   To then evaluate again, we currently must use Maxima via\n",
       "   \"sage.symbolic.expression.Expression.simplify()\":\n",
       "\n",
       "      sage: a = tan(pi/4, hold=True); a.simplify()\n",
       "      1\n",
       "\n",
       "   If possible, the argument is also reduced modulo the period length\n",
       "   \\pi, and well-known identities are directly evaluated:\n",
       "\n",
       "      sage: k = var('k', domain='integer')\n",
       "      sage: tan(1 + 2*k*pi)\n",
       "      tan(1)\n",
       "      sage: tan(k*pi)\n",
       "      0\n",
       "\u001b[0;31mCall docstring:\u001b[0m\n",
       "   Evaluate this function on the given arguments and return the\n",
       "   result.\n",
       "\n",
       "   EXAMPLES:\n",
       "\n",
       "      sage: exp(5)\n",
       "      e^5\n",
       "      sage: gamma(15)\n",
       "      87178291200\n",
       "\n",
       "   Python float, Python complex, mpmath mpf and mpc as well as numpy\n",
       "   inputs are sent to the relevant \"math\", \"cmath\", \"mpmath\" or\n",
       "   \"numpy\" function:\n",
       "\n",
       "      sage: cos(1.r)\n",
       "      0.5403023058681398\n",
       "      sage: assert type(_) is float\n",
       "      sage: gamma(4.r)\n",
       "      6.0\n",
       "      sage: assert type(_) is float\n",
       "\n",
       "      sage: cos(1jr)  # abstol 1e-15\n",
       "      (1.5430806348152437-0j)\n",
       "      sage: assert type(_) is complex\n",
       "\n",
       "      sage: import mpmath\n",
       "      sage: cos(mpmath.mpf('1.321412'))\n",
       "      mpf('0.24680737898640387')\n",
       "      sage: cos(mpmath.mpc(1,1))\n",
       "      mpc(real='0.83373002513114902', imag='-0.98889770576286506')\n",
       "\n",
       "      sage: import numpy\n",
       "      sage: if int(numpy.version.short_version[0]) > 1:\n",
       "      ....:     __ = numpy.set_printoptions(legacy=\"1.25\")                        # needs numpy\n",
       "\n",
       "      sage: sin(numpy.int32(0))\n",
       "      0.0\n",
       "      sage: type(_)\n",
       "      <class 'numpy.float64'>"
      ]
     },
     "execution_count": 33,
     "metadata": {
     },
     "output_type": "execute_result",
     "start": 0
    }
   ],
   "source": [
    "tan?"
   ]
  },
  {
   "cell_type": "code",
   "execution_count": 1,
   "id": "77279fca-b5d7-4189-ad44-db2c9af67324",
   "metadata": {
    "collapsed": false
   },
   "outputs": [
    {
     "data": {
      "text/plain": [
       "\u001b[0;31mSignature:\u001b[0m      \u001b[0mlog2\u001b[0m\u001b[0;34m(\u001b[0m\u001b[0mSR\u001b[0m\u001b[0;34m,\u001b[0m \u001b[0mx\u001b[0m\u001b[0;34m=\u001b[0m\u001b[0;36m0\u001b[0m\u001b[0;34m)\u001b[0m\u001b[0;34m\u001b[0m\u001b[0;34m\u001b[0m\u001b[0m\n",
       "\u001b[0;31mCall signature:\u001b[0m \u001b[0mlog2\u001b[0m\u001b[0;34m(\u001b[0m\u001b[0mself\u001b[0m\u001b[0;34m,\u001b[0m \u001b[0;34m*\u001b[0m\u001b[0margs\u001b[0m\u001b[0;34m,\u001b[0m \u001b[0;34m**\u001b[0m\u001b[0mkwds\u001b[0m\u001b[0;34m)\u001b[0m\u001b[0;34m\u001b[0m\u001b[0;34m\u001b[0m\u001b[0m\n",
       "\u001b[0;31mType:\u001b[0m           Expression\n",
       "\u001b[0;31mString form:\u001b[0m    log2\n",
       "\u001b[0;31mFile:\u001b[0m           /ext/sage/10.7/src/sage/symbolic/expression.pyx\n",
       "\u001b[0;31mDocstring:\u001b[0m     \n",
       "   Nearly all expressions are created by calling\n",
       "   new_Expression_from_*, but we need to make sure this at least does\n",
       "   not leave self._gobj uninitialized and segfault.\n",
       "\u001b[0;31mInit docstring:\u001b[0m\n",
       "   Nearly all expressions are created by calling\n",
       "   new_Expression_from_*, but we need to make sure this at least does\n",
       "   not leave self._gobj uninitialized and segfault.\n",
       "\u001b[0;31mCall docstring:\u001b[0m\n",
       "   Call the \"subs()\" on this expression.\n",
       "\n",
       "   EXAMPLES:\n",
       "\n",
       "      sage: var('x,y,z')\n",
       "      (x, y, z)\n",
       "      sage: (x+y)(x=z^2, y=x^y)\n",
       "      z^2 + x^y"
      ]
     },
     "execution_count": 1,
     "metadata": {
     },
     "output_type": "execute_result",
     "start": 0
    }
   ],
   "source": [
    "log2?"
   ]
  },
  {
   "cell_type": "code",
   "execution_count": 2,
   "id": "402f7b69-e8d3-494c-9706-8e561f23e553",
   "metadata": {
    "collapsed": false,
    "scrolled": true
   },
   "outputs": [
    {
     "data": {
      "text/plain": [
       "\u001b[0;31mSignature:\u001b[0m       \u001b[0msudoku\u001b[0m\u001b[0;34m(\u001b[0m\u001b[0mm\u001b[0m\u001b[0;34m)\u001b[0m\u001b[0;34m\u001b[0m\u001b[0;34m\u001b[0m\u001b[0m\n",
       "\u001b[0;31mCall signature:\u001b[0m  \u001b[0msudoku\u001b[0m\u001b[0;34m(\u001b[0m\u001b[0mself\u001b[0m\u001b[0;34m,\u001b[0m \u001b[0;34m*\u001b[0m\u001b[0margs\u001b[0m\u001b[0;34m,\u001b[0m \u001b[0;34m**\u001b[0m\u001b[0mkwds\u001b[0m\u001b[0;34m)\u001b[0m\u001b[0;34m\u001b[0m\u001b[0;34m\u001b[0m\u001b[0m\n",
       "\u001b[0;31mType:\u001b[0m            LazyImport\n",
       "\u001b[0;31mString form:\u001b[0m     <function sudoku at 0x7f3b7f2e3f60>\n",
       "\u001b[0;31mFile:\u001b[0m            /ext/sage/10.7/src/sage/misc/lazy_import.pyx\n",
       "\u001b[0;31mDocstring:\u001b[0m      \n",
       "   Solve Sudoku puzzles described by matrices.\n",
       "\n",
       "   INPUT:\n",
       "\n",
       "   * \"m\" -- a square Sage matrix over \\ZZ, where zeros are blank\n",
       "     entries\n",
       "\n",
       "   OUTPUT:\n",
       "\n",
       "   A Sage matrix over \\ZZ containing the first solution found,\n",
       "   otherwise \"None\".\n",
       "\n",
       "   This function matches the behavior of the prior Sudoku solver and\n",
       "   is included only to replicate that behavior.  It could be safely\n",
       "   deprecated, since all of its functionality is included in the\n",
       "   \"Sudoku\" class.\n",
       "\n",
       "   EXAMPLES:\n",
       "\n",
       "   An example that was used in previous doctests.\n",
       "\n",
       "      sage: A = matrix(ZZ,9,[5,0,0, 0,8,0, 0,4,9, 0,0,0, 5,0,0, 0,3,0, 0,6,7, 3,0,0, 0,0,1, 1,5,0, 0,0,0, 0,0,0,  0,0,0, 2,0,8, 0,0,0, 0,0,0, 0,0,0, 0,1,8, 7,0,0, 0,0,4, 1,5,0, 0,3,0, 0,0,2, 0,0,0, 4,9,0, 0,5,0, 0,0,3])\n",
       "      sage: A\n",
       "      [5 0 0 0 8 0 0 4 9]\n",
       "      [0 0 0 5 0 0 0 3 0]\n",
       "      [0 6 7 3 0 0 0 0 1]\n",
       "      [1 5 0 0 0 0 0 0 0]\n",
       "      [0 0 0 2 0 8 0 0 0]\n",
       "      [0 0 0 0 0 0 0 1 8]\n",
       "      [7 0 0 0 0 4 1 5 0]\n",
       "      [0 3 0 0 0 2 0 0 0]\n",
       "      [4 9 0 0 5 0 0 0 3]\n",
       "      sage: sudoku(A)\n",
       "      [5 1 3 6 8 7 2 4 9]\n",
       "      [8 4 9 5 2 1 6 3 7]\n",
       "      [2 6 7 3 4 9 5 8 1]\n",
       "      [1 5 8 4 6 3 9 7 2]\n",
       "      [9 7 4 2 1 8 3 6 5]\n",
       "      [3 2 6 7 9 5 4 1 8]\n",
       "      [7 8 2 9 3 4 1 5 6]\n",
       "      [6 3 5 1 7 2 8 9 4]\n",
       "      [4 9 1 8 5 6 7 2 3]\n",
       "\n",
       "   Using inputs that are possible with the \"Sudoku\" class, other than\n",
       "   a matrix, will cause an error.\n",
       "\n",
       "      sage: sudoku('.4..32....14..3.')\n",
       "      Traceback (most recent call last):\n",
       "      ...\n",
       "      ValueError: sudoku function expects puzzle to be a matrix, perhaps use the Sudoku class\n",
       "\u001b[0;31mClass docstring:\u001b[0m\n",
       "   EXAMPLES:\n",
       "\n",
       "      sage: from sage.misc.lazy_import import LazyImport\n",
       "      sage: my_integer = LazyImport('sage.rings.integer', 'Integer')\n",
       "      sage: my_integer(4)\n",
       "      4\n",
       "      sage: my_integer('101', base=2)\n",
       "      5\n",
       "      sage: my_integer(3/2)\n",
       "      Traceback (most recent call last):\n",
       "      ...\n",
       "      TypeError: no conversion of this rational to integer\n",
       "\u001b[0;31mInit docstring:\u001b[0m \n",
       "   EXAMPLES:\n",
       "\n",
       "      sage: from sage.misc.lazy_import import LazyImport\n",
       "      sage: lazy_ZZ = LazyImport('sage.rings.integer_ring', 'ZZ')\n",
       "      sage: type(lazy_ZZ)\n",
       "      <class 'sage.misc.lazy_import.LazyImport'>\n",
       "      sage: lazy_ZZ._get_object() is ZZ\n",
       "      True\n",
       "      sage: type(lazy_ZZ)\n",
       "      <class 'sage.misc.lazy_import.LazyImport'>\n",
       "\u001b[0;31mCall docstring:\u001b[0m \n",
       "   Calling \"self\" calls the wrapped object.\n",
       "\n",
       "   EXAMPLES:\n",
       "\n",
       "      sage: from sage.misc.lazy_import import LazyImport\n",
       "      sage: my_isprime = LazyImport('sage.arith.misc', 'is_prime')\n",
       "      sage: is_prime(12) == my_isprime(12)\n",
       "      True\n",
       "      sage: is_prime(13) == my_isprime(13)\n",
       "      True"
      ]
     },
     "execution_count": 2,
     "metadata": {
     },
     "output_type": "execute_result",
     "start": 0
    }
   ],
   "source": [
    "sudoku?"
   ]
  },
  {
   "cell_type": "markdown",
   "id": "4c111b33-c9b3-4aef-a611-b8ad13cebd1c",
   "metadata": {
    "collapsed": false
   },
   "source": [
    "Sage also provides ‘Tab completion’: type the first few letters of a function and then hit the <kbd>Tab</kbd> key. For example, if you type `ta` followed by <kbd>Tab</kbd>, Sage will print `tachyon`, `tan`, `tanh`, `taylor`. This provides a good way to find the names of functions and other structures in Sage."
   ]
  },
  {
   "cell_type": "code",
   "execution_count": 3,
   "id": "ee8bbbae-9957-4998-9542-0651c7db70e8",
   "metadata": {
    "collapsed": false
   },
   "outputs": [
    {
     "data": {
      "text/plain": [
       "\u001b[0;31mSignature:\u001b[0m      \u001b[0mtanh\u001b[0m\u001b[0;34m(\u001b[0m\u001b[0mself\u001b[0m\u001b[0;34m,\u001b[0m \u001b[0mcoerce\u001b[0m\u001b[0;34m=\u001b[0m\u001b[0;32mTrue\u001b[0m\u001b[0;34m,\u001b[0m \u001b[0mhold\u001b[0m\u001b[0;34m=\u001b[0m\u001b[0;32mFalse\u001b[0m\u001b[0;34m,\u001b[0m \u001b[0mdont_call_method_on_arg\u001b[0m\u001b[0;34m=\u001b[0m\u001b[0;32mFalse\u001b[0m\u001b[0;34m,\u001b[0m \u001b[0;34m*\u001b[0m\u001b[0margs\u001b[0m\u001b[0;34m)\u001b[0m\u001b[0;34m\u001b[0m\u001b[0;34m\u001b[0m\u001b[0m\n",
       "\u001b[0;31mType:\u001b[0m           Function_tanh\n",
       "\u001b[0;31mString form:\u001b[0m    tanh\n",
       "\u001b[0;31mFile:\u001b[0m           /ext/sage/10.7/src/sage/functions/hyperbolic.py\n",
       "\u001b[0;31mDocstring:\u001b[0m     \n",
       "   The hyperbolic tangent function.\n",
       "\n",
       "   EXAMPLES:\n",
       "\n",
       "      sage: tanh(3.1415)\n",
       "      0.996271386633702\n",
       "      sage: tan(3.1415/4)\n",
       "      0.999953674278156\n",
       "\n",
       "      sage: tanh(pi)\n",
       "      tanh(pi)\n",
       "      sage: float(tanh(pi))\n",
       "      0.99627207622075\n",
       "      sage: tanh(pi/4)\n",
       "      tanh(1/4*pi)\n",
       "      sage: RR(tanh(1/2))\n",
       "      0.462117157260010\n",
       "\n",
       "      sage: CC(tanh(pi + I*e))\n",
       "      0.997524731976164 - 0.00279068768100315*I\n",
       "      sage: ComplexField(100)(tanh(pi + I*e))\n",
       "      0.99752473197616361034204366446 - 0.0027906876810031453884245163923*I\n",
       "      sage: CDF(tanh(pi + I*e))  # rel tol 2e-15\n",
       "      0.9975247319761636 - 0.002790687681003147*I\n",
       "\n",
       "   To prevent automatic evaluation, use the \"hold\" parameter:\n",
       "\n",
       "      sage: tanh(arcsinh(x), hold=True)\n",
       "      tanh(arcsinh(x))\n",
       "\n",
       "   To then evaluate again, use the \"unhold\" method:\n",
       "\n",
       "      sage: tanh(arcsinh(x), hold=True).unhold()\n",
       "      x/sqrt(x^2 + 1)\n",
       "\u001b[0;31mInit docstring:\u001b[0m\n",
       "   The hyperbolic tangent function.\n",
       "\n",
       "   EXAMPLES:\n",
       "\n",
       "      sage: tanh(3.1415)\n",
       "      0.996271386633702\n",
       "      sage: tan(3.1415/4)\n",
       "      0.999953674278156\n",
       "\n",
       "      sage: tanh(pi)\n",
       "      tanh(pi)\n",
       "      sage: float(tanh(pi))\n",
       "      0.99627207622075\n",
       "      sage: tanh(pi/4)\n",
       "      tanh(1/4*pi)\n",
       "      sage: RR(tanh(1/2))\n",
       "      0.462117157260010\n",
       "\n",
       "      sage: CC(tanh(pi + I*e))\n",
       "      0.997524731976164 - 0.00279068768100315*I\n",
       "      sage: ComplexField(100)(tanh(pi + I*e))\n",
       "      0.99752473197616361034204366446 - 0.0027906876810031453884245163923*I\n",
       "      sage: CDF(tanh(pi + I*e))  # rel tol 2e-15\n",
       "      0.9975247319761636 - 0.002790687681003147*I\n",
       "\n",
       "   To prevent automatic evaluation, use the \"hold\" parameter:\n",
       "\n",
       "      sage: tanh(arcsinh(x), hold=True)\n",
       "      tanh(arcsinh(x))\n",
       "\n",
       "   To then evaluate again, use the \"unhold\" method:\n",
       "\n",
       "      sage: tanh(arcsinh(x), hold=True).unhold()\n",
       "      x/sqrt(x^2 + 1)\n",
       "\u001b[0;31mCall docstring:\u001b[0m\n",
       "   Evaluate this function on the given arguments and return the\n",
       "   result.\n",
       "\n",
       "   EXAMPLES:\n",
       "\n",
       "      sage: exp(5)\n",
       "      e^5\n",
       "      sage: gamma(15)\n",
       "      87178291200\n",
       "\n",
       "   Python float, Python complex, mpmath mpf and mpc as well as numpy\n",
       "   inputs are sent to the relevant \"math\", \"cmath\", \"mpmath\" or\n",
       "   \"numpy\" function:\n",
       "\n",
       "      sage: cos(1.r)\n",
       "      0.5403023058681398\n",
       "      sage: assert type(_) is float\n",
       "      sage: gamma(4.r)\n",
       "      6.0\n",
       "      sage: assert type(_) is float\n",
       "\n",
       "      sage: cos(1jr)  # abstol 1e-15\n",
       "      (1.5430806348152437-0j)\n",
       "      sage: assert type(_) is complex\n",
       "\n",
       "      sage: import mpmath\n",
       "      sage: cos(mpmath.mpf('1.321412'))\n",
       "      mpf('0.24680737898640387')\n",
       "      sage: cos(mpmath.mpc(1,1))\n",
       "      mpc(real='0.83373002513114902', imag='-0.98889770576286506')\n",
       "\n",
       "      sage: import numpy\n",
       "      sage: if int(numpy.version.short_version[0]) > 1:\n",
       "      ....:     __ = numpy.set_printoptions(legacy=\"1.25\")                        # needs numpy\n",
       "\n",
       "      sage: sin(numpy.int32(0))\n",
       "      0.0\n",
       "      sage: type(_)\n",
       "      <class 'numpy.float64'>"
      ]
     },
     "execution_count": 3,
     "metadata": {
     },
     "output_type": "execute_result",
     "start": 0
    }
   ],
   "source": [
    "tanh?"
   ]
  },
  {
   "cell_type": "code",
   "execution_count": 4,
   "id": "4cfa31",
   "metadata": {
    "collapsed": false
   },
   "outputs": [
   ],
   "source": [
    "some_variable = 42"
   ]
  },
  {
   "cell_type": "code",
   "execution_count": 5,
   "id": "469d84",
   "metadata": {
    "collapsed": false
   },
   "outputs": [
    {
     "data": {
      "text/plain": [
       "42"
      ]
     },
     "execution_count": 5,
     "metadata": {
     },
     "output_type": "execute_result"
    }
   ],
   "source": [
    "some_variable"
   ]
  },
  {
   "cell_type": "markdown",
   "id": "ad10e248-8d61-4679-81f5-7e71a9ca5eea",
   "metadata": {
    "collapsed": false
   },
   "source": [
    "## Functions, Indentation, and Counting\n",
    "\n",
    "To define a new function in Sage, use the `def` keyword and a colon after the list of variable names. For example:"
   ]
  },
  {
   "cell_type": "code",
   "execution_count": 6,
   "id": "9af9b6a6-faea-4ca7-972f-d291e8279d02",
   "metadata": {
    "collapsed": false
   },
   "outputs": [
   ],
   "source": [
    "def is_even(n):\n",
    "    return n % 2 == 0"
   ]
  },
  {
   "cell_type": "code",
   "execution_count": 7,
   "id": "6c59e971-5350-4978-ba16-630d85b24c90",
   "metadata": {
    "collapsed": false
   },
   "outputs": [
    {
     "data": {
      "text/plain": [
       "True"
      ]
     },
     "execution_count": 7,
     "metadata": {
     },
     "output_type": "execute_result"
    }
   ],
   "source": [
    "is_even(2)"
   ]
  },
  {
   "cell_type": "code",
   "execution_count": 8,
   "id": "a36f2e25-fcfd-4a67-a85c-fb029a088c35",
   "metadata": {
    "collapsed": false
   },
   "outputs": [
    {
     "data": {
      "text/plain": [
       "False"
      ]
     },
     "execution_count": 8,
     "metadata": {
     },
     "output_type": "execute_result"
    }
   ],
   "source": [
    "is_even(3)"
   ]
  },
  {
   "cell_type": "markdown",
   "id": "da6ad4e7-6398-4011-82ea-24b474f20850",
   "metadata": {
    "collapsed": false
   },
   "source": [
    "You do not specify the types of any of the input arguments. You can specify multiple inputs, each of which may have an optional default value. For example, the function below defaults to `divisor=2` if `divisor` is not specified."
   ]
  },
  {
   "cell_type": "code",
   "execution_count": 18,
   "id": "68de1ca0-ebe5-480b-98c5-cd4b639ba952",
   "metadata": {
    "collapsed": false
   },
   "outputs": [
   ],
   "source": [
    "def is_divisible_by(number, divisor=2):\n",
    "    return number % divisor == 0"
   ]
  },
  {
   "cell_type": "code",
   "execution_count": 19,
   "id": "78fa8f53-bf89-4f37-8700-be07ab394010",
   "metadata": {
    "collapsed": false
   },
   "outputs": [
    {
     "data": {
      "text/plain": [
       "True"
      ]
     },
     "execution_count": 19,
     "metadata": {
     },
     "output_type": "execute_result"
    }
   ],
   "source": [
    "is_divisible_by(6, 2)"
   ]
  },
  {
   "cell_type": "code",
   "execution_count": 16,
   "id": "b4a8781c-326c-49e7-970b-58661a080a34",
   "metadata": {
    "collapsed": false
   },
   "outputs": [
    {
     "data": {
      "text/plain": [
       "True"
      ]
     },
     "execution_count": 16,
     "metadata": {
     },
     "output_type": "execute_result"
    }
   ],
   "source": [
    "is_divisible_by(6)"
   ]
  },
  {
   "cell_type": "code",
   "execution_count": 12,
   "id": "3fdc0322-5111-48a4-8ecf-b6744f5d2fd4",
   "metadata": {
    "collapsed": false
   },
   "outputs": [
    {
     "data": {
      "text/plain": [
       "False"
      ]
     },
     "execution_count": 12,
     "metadata": {
     },
     "output_type": "execute_result"
    }
   ],
   "source": [
    "is_divisible_by(6, 5)"
   ]
  },
  {
   "cell_type": "markdown",
   "id": "3339381d-3349-4d83-bc85-d6923c606fe3",
   "metadata": {
    "collapsed": false
   },
   "source": [
    "You can also explicitly specify one or either of the inputs when calling the function; if you specify the inputs explicitly, you can give them in any order:"
   ]
  },
  {
   "cell_type": "code",
   "execution_count": 17,
   "id": "ffb3540e-dc0d-4e96-b1da-4e387c2eca4f",
   "metadata": {
    "collapsed": false
   },
   "outputs": [
    {
     "data": {
      "text/plain": [
       "False"
      ]
     },
     "execution_count": 17,
     "metadata": {
     },
     "output_type": "execute_result"
    }
   ],
   "source": [
    "is_divisible_by(6, divisor=5)"
   ]
  },
  {
   "cell_type": "code",
   "execution_count": 0,
   "id": "97ae6439-14ad-4722-a88e-e8e768427113",
   "metadata": {
    "collapsed": false
   },
   "outputs": [
   ],
   "source": [
    "is_divisible_by(divisor=2, number=6)"
   ]
  },
  {
   "cell_type": "markdown",
   "id": "bf071403-0233-4237-9722-880bc74e1884",
   "metadata": {
    "collapsed": false
   },
   "source": [
    "In Python, blocks of code are not indicated by curly braces or begin and end blocks as in many other languages. Instead, blocks of code are indicated by indentation, which must match up exactly. For example, the following is a syntax error because the `return` statement is not indented the same amount as the other lines above it."
   ]
  },
  {
   "cell_type": "code",
   "execution_count": 22,
   "id": "2385b605-9d9b-4e42-bff8-e78e1d1ca2e5",
   "metadata": {
    "collapsed": false
   },
   "outputs": [
   ],
   "source": [
    "def even(n):\n",
    "    v = []\n",
    "    for i in range(3,n):\n",
    "        if i % 2 == 0:\n",
    "            v.append(i)\n",
    "        # we could continue here\n",
    "    return v"
   ]
  },
  {
   "cell_type": "markdown",
   "id": "59f9512d-b94b-49f8-b900-5c6b79ff0068",
   "metadata": {
    "collapsed": false
   },
   "source": [
    "Can you fix the indentation to make the function work?"
   ]
  },
  {
   "cell_type": "code",
   "execution_count": 23,
   "id": "26bdbbc1-bfda-4a37-aefb-c82d6b9577d8",
   "metadata": {
    "collapsed": false
   },
   "outputs": [
    {
     "data": {
      "text/plain": [
       "[4, 6, 8]"
      ]
     },
     "execution_count": 23,
     "metadata": {
     },
     "output_type": "execute_result"
    }
   ],
   "source": [
    "even(10)"
   ]
  },
  {
   "cell_type": "markdown",
   "id": "f85c4769-c24f-43fb-afc1-cf69a647bf34",
   "metadata": {
    "collapsed": false
   },
   "source": [
    "Semicolons are not needed at the ends of lines; a line is in most cases ended by a newline. However, you can put multiple statements on one line, separated by semicolons:"
   ]
  },
  {
   "cell_type": "code",
   "execution_count": 3,
   "id": "4b0b251b-ac54-4a5f-8174-9c3dcab6b216",
   "metadata": {
    "collapsed": false
   },
   "outputs": [
    {
     "data": {
      "text/plain": [
       "64"
      ]
     },
     "execution_count": 3,
     "metadata": {
     },
     "output_type": "execute_result"
    }
   ],
   "source": [
    "a = 5; b = a + 3; c = b^2; c"
   ]
  },
  {
   "cell_type": "markdown",
   "id": "158d11e8-d01b-4478-83fc-872674f2e497",
   "metadata": {
    "collapsed": false
   },
   "source": [
    "If you would like a single line of code to span multiple lines, use a terminating backslash:"
   ]
  },
  {
   "cell_type": "code",
   "execution_count": 4,
   "id": "0fdcc1a3-5aec-4010-83b8-387cb2cebf2d",
   "metadata": {
    "collapsed": false
   },
   "outputs": [
    {
     "data": {
      "text/plain": [
       "5"
      ]
     },
     "execution_count": 4,
     "metadata": {
     },
     "output_type": "execute_result"
    }
   ],
   "source": [
    "2 + \\\n",
    "    3"
   ]
  },
  {
   "cell_type": "code",
   "execution_count": 6,
   "id": "dc8d01",
   "metadata": {
    "collapsed": false
   },
   "outputs": [
    {
     "data": {
      "text/plain": [
       "9"
      ]
     },
     "execution_count": 6,
     "metadata": {
     },
     "output_type": "execute_result"
    }
   ],
   "source": [
    "(1 +\n",
    "  2) * 3"
   ]
  },
  {
   "cell_type": "markdown",
   "id": "363b8651-b5a2-429c-8b63-57a80f575dd2",
   "metadata": {
    "collapsed": false
   },
   "source": [
    "In Sage, you count by iterating over a range of integers:"
   ]
  },
  {
   "cell_type": "code",
   "execution_count": 7,
   "id": "b0b11019-666b-415b-9101-39c1c3287384",
   "metadata": {
    "collapsed": false
   },
   "outputs": [
    {
     "name": "stdout",
     "output_type": "stream",
     "text": [
      "0\n",
      "1\n",
      "2\n"
     ]
    }
   ],
   "source": [
    "for i in range(3):\n",
    "    print(i)"
   ]
  },
  {
   "cell_type": "code",
   "execution_count": 11,
   "id": "3cf0806b-c791-4e5d-a94e-d48ba3346a82",
   "metadata": {
    "collapsed": false
   },
   "outputs": [
    {
     "name": "stdout",
     "output_type": "stream",
     "text": [
      "2\n",
      "5\n",
      "8\n",
      "11\n",
      "14\n",
      "17\n"
     ]
    }
   ],
   "source": [
    "for i in range(2, 18, 3):\n",
    "    print(i)"
   ]
  },
  {
   "cell_type": "markdown",
   "id": "8d28e8d4-5bc6-4698-9991-f36a19d23541",
   "metadata": {
    "collapsed": false
   },
   "source": [
    "Often you will want to create a nice table to display numbers you have computed using Sage. One easy way to do this is to use string formatting. Below, we create three columns each of width exactly 6 and make a table of squares and cubes."
   ]
  },
  {
   "cell_type": "code",
   "execution_count": 12,
   "id": "f0ae2bea-c922-4c16-a9b5-4e612ff106d8",
   "metadata": {
    "collapsed": false
   },
   "outputs": [
    {
     "name": "stdout",
     "output_type": "stream",
     "text": [
      "     0      0      0\n",
      "     1      1      1\n",
      "     2      4      8\n",
      "     3      9     27\n",
      "     4     16     64\n"
     ]
    }
   ],
   "source": [
    "for i in range(5):\n",
    "    print(f'{i:6d} {i^2:6d} {i^3:6d}')"
   ]
  },
  {
   "cell_type": "markdown",
   "id": "1b26cd8d-a334-4217-aa36-aeebc03f1171",
   "metadata": {
    "collapsed": false
   },
   "source": [
    "The most basic data structure in Sage is the list, which is – as the name suggests – just a list of arbitrary objects. For example, using `range`, the following command creates a list:"
   ]
  },
  {
   "cell_type": "code",
   "execution_count": 13,
   "id": "02feddea-98b6-47a8-a4eb-954c45b92253",
   "metadata": {
    "collapsed": false
   },
   "outputs": [
    {
     "data": {
      "text/plain": [
       "[2, 3, 4, 5, 6, 7, 8, 9]"
      ]
     },
     "execution_count": 13,
     "metadata": {
     },
     "output_type": "execute_result"
    }
   ],
   "source": [
    "list(range(2,10))"
   ]
  },
  {
   "cell_type": "markdown",
   "id": "1e779d6b-0a9c-49a5-b580-246c694a6be3",
   "metadata": {
    "collapsed": false
   },
   "source": [
    "Here is a more complicated list:"
   ]
  },
  {
   "cell_type": "code",
   "execution_count": 2,
   "id": "bb6f8e35-cdc5-483d-8d62-4e40dbe9dbde",
   "metadata": {
    "collapsed": false
   },
   "outputs": [
    {
     "data": {
      "text/plain": [
       "[1, 'hello', 2/3, sin(x^3)]"
      ]
     },
     "execution_count": 2,
     "metadata": {
     },
     "output_type": "execute_result"
    }
   ],
   "source": [
    "(v := [1, \"hello\", 2/3, sin(x^3)])"
   ]
  },
  {
   "cell_type": "markdown",
   "id": "2364777a-e930-48b2-be86-14ea75f05681",
   "metadata": {
    "collapsed": false
   },
   "source": [
    "List indexing is 0-based, as in many programming languages."
   ]
  },
  {
   "cell_type": "code",
   "execution_count": 15,
   "id": "507e946e-c111-4e64-85ff-a8e8c8186d14",
   "metadata": {
    "collapsed": false
   },
   "outputs": [
    {
     "data": {
      "text/plain": [
       "1"
      ]
     },
     "execution_count": 15,
     "metadata": {
     },
     "output_type": "execute_result"
    }
   ],
   "source": [
    "v[0]"
   ]
  },
  {
   "cell_type": "code",
   "execution_count": 16,
   "id": "f98f0dd5-9e76-4306-bee9-e036721263b7",
   "metadata": {
    "collapsed": false
   },
   "outputs": [
    {
     "data": {
      "text/plain": [
       "sin(x^3)"
      ]
     },
     "execution_count": 16,
     "metadata": {
     },
     "output_type": "execute_result"
    }
   ],
   "source": [
    "v[3]"
   ]
  },
  {
   "cell_type": "code",
   "execution_count": 3,
   "id": "bf5460",
   "metadata": {
    "collapsed": false
   },
   "outputs": [
    {
     "data": {
      "text/plain": [
       "sin(x^3)"
      ]
     },
     "execution_count": 3,
     "metadata": {
     },
     "output_type": "execute_result"
    }
   ],
   "source": [
    "v[-1]"
   ]
  },
  {
   "cell_type": "code",
   "execution_count": 4,
   "id": "c5406e",
   "metadata": {
    "collapsed": false
   },
   "outputs": [
    {
     "data": {
      "text/plain": [
       "'hello'"
      ]
     },
     "execution_count": 4,
     "metadata": {
     },
     "output_type": "execute_result"
    }
   ],
   "source": [
    "v[-3]"
   ]
  },
  {
   "cell_type": "markdown",
   "id": "6d38d832-de86-4463-afea-42c08ae9a24d",
   "metadata": {
    "collapsed": false
   },
   "source": [
    "Use `len(v)` to get the length of `v`, use `v.append(obj)` to append a new object to the end of `v`, and use `del v[i]` to delete the entry of `v`:"
   ]
  },
  {
   "cell_type": "code",
   "execution_count": 5,
   "id": "e710ba8b-9af0-48cb-ac11-5203d78e7b1c",
   "metadata": {
    "collapsed": false
   },
   "outputs": [
    {
     "data": {
      "text/plain": [
       "4"
      ]
     },
     "execution_count": 5,
     "metadata": {
     },
     "output_type": "execute_result"
    }
   ],
   "source": [
    "len(v)"
   ]
  },
  {
   "cell_type": "code",
   "execution_count": 6,
   "id": "3d5957cd-b889-4d2c-a3e8-41e1408c2a0b",
   "metadata": {
    "collapsed": false
   },
   "outputs": [
    {
     "data": {
      "text/plain": [
       "[1, 'hello', 2/3, sin(x^3), 1.50000000000000]"
      ]
     },
     "execution_count": 6,
     "metadata": {
     },
     "output_type": "execute_result"
    }
   ],
   "source": [
    "v.append(1.5)\n",
    "v"
   ]
  },
  {
   "cell_type": "code",
   "execution_count": 7,
   "id": "a139fce2-12e7-41ef-b291-abfe135455fa",
   "metadata": {
    "collapsed": false
   },
   "outputs": [
    {
     "data": {
      "text/plain": [
       "[1, 2/3, sin(x^3), 1.50000000000000]"
      ]
     },
     "execution_count": 7,
     "metadata": {
     },
     "output_type": "execute_result"
    }
   ],
   "source": [
    "del v[1]\n",
    "v"
   ]
  },
  {
   "cell_type": "code",
   "execution_count": 9,
   "id": "c3d83b",
   "metadata": {
    "collapsed": false
   },
   "outputs": [
    {
     "data": {
      "text/plain": [
       "[1, 2/3, 'something', 1.50000000000000]"
      ]
     },
     "execution_count": 9,
     "metadata": {
     },
     "output_type": "execute_result"
    }
   ],
   "source": [
    "v[2] ='something'\n",
    "v"
   ]
  },
  {
   "cell_type": "markdown",
   "id": "5beaff50-2375-4d90-b632-02e2abf534b6",
   "metadata": {
    "collapsed": false
   },
   "source": [
    "Another important data structure is the dictionary (or associative array). This works like a list, except that it can be indexed with almost any object (the indices must be immutable):"
   ]
  },
  {
   "cell_type": "code",
   "execution_count": 11,
   "id": "e02837f1-c01c-4c17-b187-34d2de1d7204",
   "metadata": {
    "collapsed": false
   },
   "outputs": [
    {
     "data": {
      "text/plain": [
       "{'hi': -2, 3/8: pi, e: pi}"
      ]
     },
     "execution_count": 11,
     "metadata": {
     },
     "output_type": "execute_result"
    }
   ],
   "source": [
    "(d := {'hi': -2, 3/8: pi, e: pi})"
   ]
  },
  {
   "cell_type": "code",
   "execution_count": 12,
   "id": "d2f991cc-6be2-42c7-a20a-de5954163df0",
   "metadata": {
    "collapsed": false
   },
   "outputs": [
    {
     "data": {
      "text/plain": [
       "-2"
      ]
     },
     "execution_count": 12,
     "metadata": {
     },
     "output_type": "execute_result"
    }
   ],
   "source": [
    "d['hi']"
   ]
  },
  {
   "cell_type": "code",
   "execution_count": 13,
   "id": "5bb3bd40-25cf-4db8-b1d7-415256eb9280",
   "metadata": {
    "collapsed": false
   },
   "outputs": [
    {
     "data": {
      "text/plain": [
       "pi"
      ]
     },
     "execution_count": 13,
     "metadata": {
     },
     "output_type": "execute_result"
    }
   ],
   "source": [
    "d[e]"
   ]
  },
  {
   "cell_type": "code",
   "execution_count": 14,
   "id": "a94153",
   "metadata": {
    "collapsed": false
   },
   "outputs": [
    {
     "data": {
      "text/plain": [
       "{'hi': -2, 3/8: pi, e: pi^2}"
      ]
     },
     "execution_count": 14,
     "metadata": {
     },
     "output_type": "execute_result"
    }
   ],
   "source": [
    "d[e] = pi^2\n",
    "d"
   ]
  },
  {
   "cell_type": "code",
   "execution_count": 15,
   "id": "38b4ab",
   "metadata": {
    "collapsed": false
   },
   "outputs": [
    {
     "data": {
      "text/plain": [
       "{'hi': -2, 3/8: pi, e: pi^2, 'key': [1, 2/3, 'something', 1.50000000000000]}"
      ]
     },
     "execution_count": 15,
     "metadata": {
     },
     "output_type": "execute_result"
    }
   ],
   "source": [
    "d['key'] = v\n",
    "d"
   ]
  },
  {
   "cell_type": "code",
   "execution_count": 16,
   "id": "44841b",
   "metadata": {
    "collapsed": false
   },
   "outputs": [
    {
     "ename": "TypeError",
     "evalue": "unhashable type: 'list'",
     "output_type": "error",
     "traceback": [
      "\u001b[0;31m---------------------------------------------------------------------------\u001b[0m",
      "\u001b[0;31mTypeError\u001b[0m                                 Traceback (most recent call last)",
      "Cell \u001b[0;32mIn[16], line 1\u001b[0m\n\u001b[0;32m----> 1\u001b[0m \u001b[43md\u001b[49m\u001b[43m[\u001b[49m\u001b[43mv\u001b[49m\u001b[43m]\u001b[49m \u001b[38;5;241m=\u001b[39m Integer(\u001b[38;5;241m1\u001b[39m)\n",
      "\u001b[0;31mTypeError\u001b[0m: unhashable type: 'list'"
     ]
    }
   ],
   "source": [
    "d[v] = 1"
   ]
  },
  {
   "cell_type": "markdown",
   "id": "187fcdbd-183d-4199-8641-8b5fd45e9093",
   "metadata": {
    "collapsed": false
   },
   "source": [
    "You can also define new data types using classes. Encapsulating mathematical objects with classes is a powerful technique that can help to simplify and organize your Sage programs. Below, we define a class that represents the list of even positive integers up to *n*; it derives from the builtin type `list`."
   ]
  },
  {
   "cell_type": "code",
   "execution_count": 1,
   "id": "370a3dd7-9cba-46bd-ba12-0fd31e39604c",
   "metadata": {
    "collapsed": false
   },
   "outputs": [
   ],
   "source": [
    "class Evens(list):\n",
    "    def __init__(self, n):\n",
    "        self.n = n\n",
    "        list.__init__(self, range(2, n+1, 2))\n",
    "\n",
    "    def __repr__(self):\n",
    "        return f\"Even positive numbers up to {self.n}.\"\n",
    "    \n",
    "    def sum(self):\n",
    "        return (2 + self[-1]) * len(self) / 2"
   ]
  },
  {
   "cell_type": "markdown",
   "id": "09c036ae-ee0c-4fd6-b543-8c7192b5fe63",
   "metadata": {
    "collapsed": false
   },
   "source": [
    "The `__init__` method is called to initialize the object when it is created; the `__repr__` method prints the object out. We call the list constructor method in the second line of the `__init__` method. We create an object of class `Evens` as follows:"
   ]
  },
  {
   "cell_type": "code",
   "execution_count": 2,
   "id": "e3bb87de-931a-44a6-be24-180d5cebc0b0",
   "metadata": {
    "collapsed": false
   },
   "outputs": [
    {
     "data": {
      "text/plain": [
       "Even positive numbers up to 10."
      ]
     },
     "execution_count": 2,
     "metadata": {
     },
     "output_type": "execute_result"
    }
   ],
   "source": [
    "(e := Evens(10))"
   ]
  },
  {
   "cell_type": "code",
   "execution_count": 3,
   "id": "3a21f0",
   "metadata": {
    "collapsed": false
   },
   "outputs": [
    {
     "data": {
      "text/plain": [
       "30"
      ]
     },
     "execution_count": 3,
     "metadata": {
     },
     "output_type": "execute_result"
    }
   ],
   "source": [
    "e.sum()"
   ]
  },
  {
   "cell_type": "markdown",
   "id": "dae94fbc-a0d2-492a-a684-65346b533008",
   "metadata": {
    "collapsed": false
   },
   "source": [
    "Note that e prints using the `__repr__` method that we defined. To see the underlying list of numbers, use the `list` function:"
   ]
  },
  {
   "cell_type": "code",
   "execution_count": 19,
   "id": "92f48296-9850-4232-9f78-090c0bdd1588",
   "metadata": {
    "collapsed": false
   },
   "outputs": [
    {
     "data": {
      "text/plain": [
       "[2, 4, 6, 8, 10]"
      ]
     },
     "execution_count": 19,
     "metadata": {
     },
     "output_type": "execute_result"
    }
   ],
   "source": [
    "list(e)"
   ]
  },
  {
   "cell_type": "markdown",
   "id": "16008b41-da1c-4de3-b670-0ae3b63c719a",
   "metadata": {
    "collapsed": false
   },
   "source": [
    "We can also access the `n` attribute or treat `e` like a list."
   ]
  },
  {
   "cell_type": "code",
   "execution_count": 20,
   "id": "16feca17-d495-4356-9598-4aa0e80b6748",
   "metadata": {
    "collapsed": false
   },
   "outputs": [
    {
     "data": {
      "text/plain": [
       "10"
      ]
     },
     "execution_count": 20,
     "metadata": {
     },
     "output_type": "execute_result"
    }
   ],
   "source": [
    "e.n"
   ]
  },
  {
   "cell_type": "code",
   "execution_count": 21,
   "id": "817ce907-a9bb-40bc-8769-c81139866e61",
   "metadata": {
    "collapsed": false
   },
   "outputs": [
    {
     "data": {
      "text/plain": [
       "6"
      ]
     },
     "execution_count": 21,
     "metadata": {
     },
     "output_type": "execute_result"
    }
   ],
   "source": [
    "e[2]"
   ]
  }
 ],
 "metadata": {
  "kernelspec": {
   "argv": [
    "sage-10.7",
    "--python",
    "-m",
    "sage.repl.ipython_kernel",
    "--matplotlib=inline",
    "-f",
    "{connection_file}"
   ],
   "display_name": "SageMath 10.7",
   "env": {
   },
   "language": "sagemath",
   "metadata": {
    "cocalc": {
     "description": "Open-source mathematical software system",
     "priority": 10,
     "url": "https://www.sagemath.org/"
    }
   },
   "name": "sage-10.7",
   "resource_dir": "/ext/jupyter/kernels/sage-10.7"
  },
  "language_info": {
   "codemirror_mode": {
    "name": "ipython",
    "version": 3
   },
   "file_extension": ".py",
   "mimetype": "text/x-python",
   "name": "python",
   "nbconvert_exporter": "python",
   "pygments_lexer": "ipython3",
   "version": "3.12.3"
  }
 },
 "nbformat": 4,
 "nbformat_minor": 4
}