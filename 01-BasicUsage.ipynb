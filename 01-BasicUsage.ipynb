{
 "cells": [
  {
   "cell_type": "markdown",
   "id": "10884ae0-d340-4e31-bb84-8fc1bbf27495",
   "metadata": {},
   "source": [
    "# Basic usage of SageMath"
   ]
  },
  {
   "cell_type": "code",
   "execution_count": null,
   "id": "29f82e91-6b87-42b3-936d-1888a8ed7689",
   "metadata": {},
   "outputs": [],
   "source": [
    "%display latex"
   ]
  },
  {
   "cell_type": "markdown",
   "id": "67d9f99e-9edf-4fa6-9da0-d024b1ec488b",
   "metadata": {},
   "source": [
    "## Assignment, Equality, and Arithmetic\n",
    "\n",
    "With some minor exceptions, Sage uses the Python programming language, so basic Python knowledge will help you to learn Sage.\n",
    "\n",
    "Sage uses `=` for assignment. It uses `==`, `<=`, `>=`, `<` and `>` for comparison:"
   ]
  },
  {
   "cell_type": "code",
   "execution_count": null,
   "id": "6fa2a4c9-9a89-4528-8668-3e667741b8c2",
   "metadata": {},
   "outputs": [],
   "source": [
    "a = 5\n",
    "a"
   ]
  },
  {
   "cell_type": "code",
   "execution_count": null,
   "id": "b33a7bda-281a-44c9-a740-55d08e9e54b2",
   "metadata": {},
   "outputs": [],
   "source": [
    "2 == 2"
   ]
  },
  {
   "cell_type": "code",
   "execution_count": null,
   "id": "d4b9f066-b292-463f-afce-d54eac84d0a4",
   "metadata": {},
   "outputs": [],
   "source": [
    "2 == 3"
   ]
  },
  {
   "cell_type": "code",
   "execution_count": null,
   "id": "a4763e63-8b1e-43cc-92fe-927d518b6787",
   "metadata": {},
   "outputs": [],
   "source": [
    "2 < 3"
   ]
  },
  {
   "cell_type": "code",
   "execution_count": null,
   "id": "a3c2b6c5-49d9-4393-adef-17c0ff0fc281",
   "metadata": {},
   "outputs": [],
   "source": [
    "a == 5"
   ]
  },
  {
   "cell_type": "markdown",
   "id": "ffe437a9-7ca4-4e8c-95d0-a74875649085",
   "metadata": {},
   "source": [
    "Sage provides all of the basic mathematical operations:"
   ]
  },
  {
   "cell_type": "code",
   "execution_count": null,
   "id": "9e4ac84d-d71c-4fdc-96dd-4c6781eff073",
   "metadata": {},
   "outputs": [],
   "source": [
    "2 ** 3    #  ** means exponent, as in Python"
   ]
  },
  {
   "cell_type": "code",
   "execution_count": null,
   "id": "41bfe132-fd97-4ec6-b5d2-76862fee07c7",
   "metadata": {},
   "outputs": [],
   "source": [
    "2 ^ 3     #  ^ is a synonym for ** (unlike in Python)"
   ]
  },
  {
   "cell_type": "code",
   "execution_count": null,
   "id": "8ff13805-f0f6-4a72-9b43-adf982666973",
   "metadata": {},
   "outputs": [],
   "source": [
    "10 % 3    #  for integer arguments, % means mod, i.e., remainder"
   ]
  },
  {
   "cell_type": "code",
   "execution_count": null,
   "id": "cb2382e9-eb39-455c-a27a-69d0159788f9",
   "metadata": {},
   "outputs": [],
   "source": [
    "10 / 4"
   ]
  },
  {
   "cell_type": "code",
   "execution_count": null,
   "id": "e2bb15aa-dfe0-47bd-9345-9b082e4bbe30",
   "metadata": {},
   "outputs": [],
   "source": [
    "10 // 4   #  for integer arguments, // returns the integer quotient"
   ]
  },
  {
   "cell_type": "code",
   "execution_count": null,
   "id": "945a1cc2-ee1f-4586-8c7c-e1e584bb04e3",
   "metadata": {},
   "outputs": [],
   "source": [
    "4 * (10 // 4) + 10 % 4 == 10"
   ]
  },
  {
   "cell_type": "code",
   "execution_count": null,
   "id": "fc98ee14-09ee-4b29-9e1e-d517004a5099",
   "metadata": {},
   "outputs": [],
   "source": [
    "3^2 * 4 + 2 % 5"
   ]
  },
  {
   "cell_type": "markdown",
   "id": "12842ddd-f292-44a1-a462-dba487d9a0be",
   "metadata": {},
   "source": [
    "The computation of an expression like `3^2 * 4 + 2 % 5` depends on the order in which the operations are applied; this is specified in the [operator precedence table](https://doc.sagemath.org/html/en/tutorial/appendix.html#section-precedence).\n",
    "\n",
    "Sage also provides many familiar mathematical functions; here are just a few examples:"
   ]
  },
  {
   "cell_type": "code",
   "execution_count": null,
   "id": "99660d46-5e55-44a1-b30d-6a2ef8c87e5d",
   "metadata": {},
   "outputs": [],
   "source": [
    "sqrt(3.4)"
   ]
  },
  {
   "cell_type": "code",
   "execution_count": null,
   "id": "25395057-2595-4097-98a2-85b2ca9c94b7",
   "metadata": {},
   "outputs": [],
   "source": [
    "sin(5.135)"
   ]
  },
  {
   "cell_type": "code",
   "execution_count": null,
   "id": "5b0cf59f-9eb1-48d0-b1b4-da27f80e0492",
   "metadata": {},
   "outputs": [],
   "source": [
    "sin(pi/3)"
   ]
  },
  {
   "cell_type": "markdown",
   "id": "93e96b9d-d028-42d2-bb84-59172fce235e",
   "metadata": {},
   "source": [
    "As the last example shows, some mathematical expressions return ‘exact’ values, rather than numerical approximations. To get a numerical approximation, use either the function `N` or the method `n` (and both of these have a longer name, `numerical_approx`, and the function `N` is the same as `n`)). These take optional arguments `prec`, which is the requested number of bits of precision, and `digits`, which is the requested number of decimal digits of precision; the default is 53 bits of precision."
   ]
  },
  {
   "cell_type": "code",
   "execution_count": null,
   "id": "907eee61-86b2-46dd-9005-4cc436a042a0",
   "metadata": {},
   "outputs": [],
   "source": [
    "exp(2)"
   ]
  },
  {
   "cell_type": "code",
   "execution_count": null,
   "id": "5f5d5a20-9a1e-455d-97fc-8925e68f2d44",
   "metadata": {},
   "outputs": [],
   "source": [
    "n(exp(2))"
   ]
  },
  {
   "cell_type": "code",
   "execution_count": null,
   "id": "6fcb55f1-3c68-4aa8-b62f-b683f428226c",
   "metadata": {},
   "outputs": [],
   "source": [
    "sqrt(pi).numerical_approx()"
   ]
  },
  {
   "cell_type": "code",
   "execution_count": null,
   "id": "2aed300c-17b6-4c23-a014-c150213de8b6",
   "metadata": {},
   "outputs": [],
   "source": [
    "sin(10).n(digits=5)"
   ]
  },
  {
   "cell_type": "code",
   "execution_count": null,
   "id": "abd07324-6352-43d4-b6f2-3a64c9f6d8ed",
   "metadata": {},
   "outputs": [],
   "source": [
    "N(sin(10),digits=10)"
   ]
  },
  {
   "cell_type": "code",
   "execution_count": null,
   "id": "f7b0e1f4-5c30-48f2-bfbb-18ddc70c2918",
   "metadata": {},
   "outputs": [],
   "source": [
    "numerical_approx(pi, prec=200)"
   ]
  },
  {
   "cell_type": "markdown",
   "id": "2e2f431a-54f8-438f-acf2-2ac4c7233553",
   "metadata": {},
   "source": [
    "Python is dynamically typed, so the value referred to by each variable has a type associated with it, but a given variable may hold values of any Python type within a given scope:"
   ]
  },
  {
   "cell_type": "code",
   "execution_count": null,
   "id": "4387de44-fcb5-49ec-bddc-bfccd0cec9f0",
   "metadata": {},
   "outputs": [],
   "source": [
    "a = 5\n",
    "type(a)"
   ]
  },
  {
   "cell_type": "code",
   "execution_count": null,
   "id": "f62c51ac-8486-49f5-adca-8a9cffc070ee",
   "metadata": {},
   "outputs": [],
   "source": [
    "a = 5/3\n",
    "type(a)"
   ]
  },
  {
   "cell_type": "code",
   "execution_count": null,
   "id": "29b93763-734c-4680-bde4-9aa1eff8e682",
   "metadata": {},
   "outputs": [],
   "source": [
    "a = 'hello'\n",
    "type(a)"
   ]
  },
  {
   "cell_type": "markdown",
   "id": "7c5a5004-c845-432f-9bac-7c6c34b5d52b",
   "metadata": {},
   "source": [
    "## Getting help\n",
    "\n",
    "Sage has extensive built-in documentation, accessible by typing the name of a function or a constant (for example), followed by a question mark:"
   ]
  },
  {
   "cell_type": "code",
   "execution_count": null,
   "id": "383a08aa-243c-46ad-92bf-13c271d67cdc",
   "metadata": {},
   "outputs": [],
   "source": [
    "tan?"
   ]
  },
  {
   "cell_type": "code",
   "execution_count": null,
   "id": "77279fca-b5d7-4189-ad44-db2c9af67324",
   "metadata": {},
   "outputs": [],
   "source": [
    "log2?"
   ]
  },
  {
   "cell_type": "code",
   "execution_count": null,
   "id": "402f7b69-e8d3-494c-9706-8e561f23e553",
   "metadata": {
    "scrolled": true
   },
   "outputs": [],
   "source": [
    "sudoku?"
   ]
  },
  {
   "cell_type": "markdown",
   "id": "4c111b33-c9b3-4aef-a611-b8ad13cebd1c",
   "metadata": {},
   "source": [
    "Sage also provides ‘Tab completion’: type the first few letters of a function and then hit the <kbd>Tab</kbd> key. For example, if you type `ta` followed by <kbd>Tab</kbd>, Sage will print `tachyon`, `tan`, `tanh`, `taylor`. This provides a good way to find the names of functions and other structures in Sage."
   ]
  },
  {
   "cell_type": "code",
   "execution_count": null,
   "id": "ee8bbbae-9957-4998-9542-0651c7db70e8",
   "metadata": {},
   "outputs": [],
   "source": [
    "ta"
   ]
  },
  {
   "cell_type": "markdown",
   "id": "ad10e248-8d61-4679-81f5-7e71a9ca5eea",
   "metadata": {},
   "source": [
    "## Functions, Indentation, and Counting\n",
    "\n",
    "To define a new function in Sage, use the `def` keyword and a colon after the list of variable names. For example:"
   ]
  },
  {
   "cell_type": "code",
   "execution_count": null,
   "id": "9af9b6a6-faea-4ca7-972f-d291e8279d02",
   "metadata": {},
   "outputs": [],
   "source": [
    "def is_even(n):\n",
    "    return n % 2 == 0"
   ]
  },
  {
   "cell_type": "code",
   "execution_count": null,
   "id": "6c59e971-5350-4978-ba16-630d85b24c90",
   "metadata": {},
   "outputs": [],
   "source": [
    "is_even(2)"
   ]
  },
  {
   "cell_type": "code",
   "execution_count": null,
   "id": "a36f2e25-fcfd-4a67-a85c-fb029a088c35",
   "metadata": {},
   "outputs": [],
   "source": [
    "is_even(3)"
   ]
  },
  {
   "cell_type": "markdown",
   "id": "da6ad4e7-6398-4011-82ea-24b474f20850",
   "metadata": {},
   "source": [
    "You do not specify the types of any of the input arguments. You can specify multiple inputs, each of which may have an optional default value. For example, the function below defaults to `divisor=2` if `divisor` is not specified."
   ]
  },
  {
   "cell_type": "code",
   "execution_count": null,
   "id": "68de1ca0-ebe5-480b-98c5-cd4b639ba952",
   "metadata": {},
   "outputs": [],
   "source": [
    "def is_divisible_by(number, divisor=2):\n",
    "    return number % divisor == 0"
   ]
  },
  {
   "cell_type": "code",
   "execution_count": null,
   "id": "78fa8f53-bf89-4f37-8700-be07ab394010",
   "metadata": {},
   "outputs": [],
   "source": [
    "is_divisible_by(6, 2)"
   ]
  },
  {
   "cell_type": "code",
   "execution_count": null,
   "id": "b4a8781c-326c-49e7-970b-58661a080a34",
   "metadata": {},
   "outputs": [],
   "source": [
    "is_divisible_by(6)"
   ]
  },
  {
   "cell_type": "code",
   "execution_count": null,
   "id": "3fdc0322-5111-48a4-8ecf-b6744f5d2fd4",
   "metadata": {},
   "outputs": [],
   "source": [
    "is_divisible_by(6, 5)"
   ]
  },
  {
   "cell_type": "markdown",
   "id": "3339381d-3349-4d83-bc85-d6923c606fe3",
   "metadata": {},
   "source": [
    "You can also explicitly specify one or either of the inputs when calling the function; if you specify the inputs explicitly, you can give them in any order:"
   ]
  },
  {
   "cell_type": "code",
   "execution_count": null,
   "id": "ffb3540e-dc0d-4e96-b1da-4e387c2eca4f",
   "metadata": {},
   "outputs": [],
   "source": [
    "is_divisible_by(6, divisor=5)"
   ]
  },
  {
   "cell_type": "code",
   "execution_count": null,
   "id": "97ae6439-14ad-4722-a88e-e8e768427113",
   "metadata": {},
   "outputs": [],
   "source": [
    "is_divisible_by(divisor=2, number=6)"
   ]
  },
  {
   "cell_type": "markdown",
   "id": "bf071403-0233-4237-9722-880bc74e1884",
   "metadata": {},
   "source": [
    "In Python, blocks of code are not indicated by curly braces or begin and end blocks as in many other languages. Instead, blocks of code are indicated by indentation, which must match up exactly. For example, the following is a syntax error because the `return` statement is not indented the same amount as the other lines above it."
   ]
  },
  {
   "cell_type": "code",
   "execution_count": null,
   "id": "2385b605-9d9b-4e42-bff8-e78e1d1ca2e5",
   "metadata": {},
   "outputs": [],
   "source": [
    "def even(n):\n",
    "    v = []\n",
    "    for i in range(3,n):\n",
    "        if i % 2 == 0:\n",
    "            v.append(i)\n",
    "  return v"
   ]
  },
  {
   "cell_type": "markdown",
   "id": "59f9512d-b94b-49f8-b900-5c6b79ff0068",
   "metadata": {},
   "source": [
    "Can you fix the indentation to make the function work?"
   ]
  },
  {
   "cell_type": "code",
   "execution_count": null,
   "id": "26bdbbc1-bfda-4a37-aefb-c82d6b9577d8",
   "metadata": {},
   "outputs": [],
   "source": [
    "even(10)"
   ]
  },
  {
   "cell_type": "markdown",
   "id": "f85c4769-c24f-43fb-afc1-cf69a647bf34",
   "metadata": {},
   "source": [
    "Semicolons are not needed at the ends of lines; a line is in most cases ended by a newline. However, you can put multiple statements on one line, separated by semicolons:"
   ]
  },
  {
   "cell_type": "code",
   "execution_count": null,
   "id": "4b0b251b-ac54-4a5f-8174-9c3dcab6b216",
   "metadata": {},
   "outputs": [],
   "source": [
    "a = 5; b = a + 3; c = b^2; c"
   ]
  },
  {
   "cell_type": "markdown",
   "id": "158d11e8-d01b-4478-83fc-872674f2e497",
   "metadata": {},
   "source": [
    "If you would like a single line of code to span multiple lines, use a terminating backslash:"
   ]
  },
  {
   "cell_type": "code",
   "execution_count": null,
   "id": "0fdcc1a3-5aec-4010-83b8-387cb2cebf2d",
   "metadata": {},
   "outputs": [],
   "source": [
    "2 + \\\n",
    "    3"
   ]
  },
  {
   "cell_type": "markdown",
   "id": "363b8651-b5a2-429c-8b63-57a80f575dd2",
   "metadata": {},
   "source": [
    "In Sage, you count by iterating over a range of integers:"
   ]
  },
  {
   "cell_type": "code",
   "execution_count": null,
   "id": "b0b11019-666b-415b-9101-39c1c3287384",
   "metadata": {},
   "outputs": [],
   "source": [
    "for i in range(3):\n",
    "    print(i)"
   ]
  },
  {
   "cell_type": "code",
   "execution_count": null,
   "id": "3cf0806b-c791-4e5d-a94e-d48ba3346a82",
   "metadata": {},
   "outputs": [],
   "source": [
    "for i in range(2, 5):\n",
    "    print(i)"
   ]
  },
  {
   "cell_type": "markdown",
   "id": "8d28e8d4-5bc6-4698-9991-f36a19d23541",
   "metadata": {},
   "source": [
    "Often you will want to create a nice table to display numbers you have computed using Sage. One easy way to do this is to use string formatting. Below, we create three columns each of width exactly 6 and make a table of squares and cubes."
   ]
  },
  {
   "cell_type": "code",
   "execution_count": null,
   "id": "f0ae2bea-c922-4c16-a9b5-4e612ff106d8",
   "metadata": {},
   "outputs": [],
   "source": [
    "for i in range(5):\n",
    "    print(f'{i:6d} {i^2:6d} {i^3:6d}')"
   ]
  },
  {
   "cell_type": "markdown",
   "id": "1b26cd8d-a334-4217-aa36-aeebc03f1171",
   "metadata": {},
   "source": [
    "The most basic data structure in Sage is the list, which is – as the name suggests – just a list of arbitrary objects. For example, using `range`, the following command creates a list:"
   ]
  },
  {
   "cell_type": "code",
   "execution_count": null,
   "id": "02feddea-98b6-47a8-a4eb-954c45b92253",
   "metadata": {},
   "outputs": [],
   "source": [
    "list(range(2,10))"
   ]
  },
  {
   "cell_type": "markdown",
   "id": "1e779d6b-0a9c-49a5-b580-246c694a6be3",
   "metadata": {},
   "source": [
    "Here is a more complicated list:"
   ]
  },
  {
   "cell_type": "code",
   "execution_count": null,
   "id": "bb6f8e35-cdc5-483d-8d62-4e40dbe9dbde",
   "metadata": {},
   "outputs": [],
   "source": [
    "(v := [1, \"hello\", 2/3, sin(x^3)])"
   ]
  },
  {
   "cell_type": "markdown",
   "id": "2364777a-e930-48b2-be86-14ea75f05681",
   "metadata": {},
   "source": [
    "List indexing is 0-based, as in many programming languages."
   ]
  },
  {
   "cell_type": "code",
   "execution_count": null,
   "id": "507e946e-c111-4e64-85ff-a8e8c8186d14",
   "metadata": {},
   "outputs": [],
   "source": [
    "v[0]"
   ]
  },
  {
   "cell_type": "code",
   "execution_count": null,
   "id": "f98f0dd5-9e76-4306-bee9-e036721263b7",
   "metadata": {},
   "outputs": [],
   "source": [
    "v[3]"
   ]
  },
  {
   "cell_type": "markdown",
   "id": "6d38d832-de86-4463-afea-42c08ae9a24d",
   "metadata": {},
   "source": [
    "Use `len(v)` to get the length of `v`, use `v.append(obj)` to append a new object to the end of `v`, and use `del v[i]` to delete the entry of `v`:"
   ]
  },
  {
   "cell_type": "code",
   "execution_count": null,
   "id": "e710ba8b-9af0-48cb-ac11-5203d78e7b1c",
   "metadata": {},
   "outputs": [],
   "source": [
    "len(v)"
   ]
  },
  {
   "cell_type": "code",
   "execution_count": null,
   "id": "3d5957cd-b889-4d2c-a3e8-41e1408c2a0b",
   "metadata": {},
   "outputs": [],
   "source": [
    "v.append(1.5)\n",
    "v"
   ]
  },
  {
   "cell_type": "code",
   "execution_count": null,
   "id": "a139fce2-12e7-41ef-b291-abfe135455fa",
   "metadata": {},
   "outputs": [],
   "source": [
    "del v[1]\n",
    "v"
   ]
  },
  {
   "cell_type": "markdown",
   "id": "5beaff50-2375-4d90-b632-02e2abf534b6",
   "metadata": {},
   "source": [
    "Another important data structure is the dictionary (or associative array). This works like a list, except that it can be indexed with almost any object (the indices must be immutable):"
   ]
  },
  {
   "cell_type": "code",
   "execution_count": null,
   "id": "e02837f1-c01c-4c17-b187-34d2de1d7204",
   "metadata": {},
   "outputs": [],
   "source": [
    "d = {'hi': -2, 3/8: pi, e: pi}"
   ]
  },
  {
   "cell_type": "code",
   "execution_count": null,
   "id": "d2f991cc-6be2-42c7-a20a-de5954163df0",
   "metadata": {},
   "outputs": [],
   "source": [
    "d['hi']"
   ]
  },
  {
   "cell_type": "code",
   "execution_count": null,
   "id": "5bb3bd40-25cf-4db8-b1d7-415256eb9280",
   "metadata": {},
   "outputs": [],
   "source": [
    "d[e]"
   ]
  },
  {
   "cell_type": "markdown",
   "id": "187fcdbd-183d-4199-8641-8b5fd45e9093",
   "metadata": {},
   "source": [
    "You can also define new data types using classes. Encapsulating mathematical objects with classes is a powerful technique that can help to simplify and organize your Sage programs. Below, we define a class that represents the list of even positive integers up to *n*; it derives from the builtin type `list`."
   ]
  },
  {
   "cell_type": "code",
   "execution_count": null,
   "id": "370a3dd7-9cba-46bd-ba12-0fd31e39604c",
   "metadata": {},
   "outputs": [],
   "source": [
    "class Evens(list):\n",
    "    def __init__(self, n):\n",
    "        self.n = n\n",
    "        list.__init__(self, range(2, n+1, 2))\n",
    "\n",
    "    def __repr__(self):\n",
    "        return f\"Even positive numbers up to {self.n}.\""
   ]
  },
  {
   "cell_type": "markdown",
   "id": "09c036ae-ee0c-4fd6-b543-8c7192b5fe63",
   "metadata": {},
   "source": [
    "The `__init__` method is called to initialize the object when it is created; the `__repr__` method prints the object out. We call the list constructor method in the second line of the `__init__` method. We create an object of class `Evens` as follows:"
   ]
  },
  {
   "cell_type": "code",
   "execution_count": null,
   "id": "e3bb87de-931a-44a6-be24-180d5cebc0b0",
   "metadata": {},
   "outputs": [],
   "source": [
    "(e := Evens(10))"
   ]
  },
  {
   "cell_type": "markdown",
   "id": "dae94fbc-a0d2-492a-a684-65346b533008",
   "metadata": {},
   "source": [
    "Note that e prints using the `__repr__` method that we defined. To see the underlying list of numbers, use the `list` function:"
   ]
  },
  {
   "cell_type": "code",
   "execution_count": null,
   "id": "92f48296-9850-4232-9f78-090c0bdd1588",
   "metadata": {},
   "outputs": [],
   "source": [
    "list(e)"
   ]
  },
  {
   "cell_type": "markdown",
   "id": "16008b41-da1c-4de3-b670-0ae3b63c719a",
   "metadata": {},
   "source": [
    "We can also access the `n` attribute or treat `e` like a list."
   ]
  },
  {
   "cell_type": "code",
   "execution_count": null,
   "id": "16feca17-d495-4356-9598-4aa0e80b6748",
   "metadata": {},
   "outputs": [],
   "source": [
    "e.n"
   ]
  },
  {
   "cell_type": "code",
   "execution_count": null,
   "id": "817ce907-a9bb-40bc-8769-c81139866e61",
   "metadata": {},
   "outputs": [],
   "source": [
    "e[2]"
   ]
  }
 ],
 "metadata": {
  "kernelspec": {
   "display_name": "SageMath 10.6.beta2",
   "language": "sage",
   "name": "sagemath"
  },
  "language_info": {
   "codemirror_mode": {
    "name": "ipython",
    "version": 3
   },
   "file_extension": ".py",
   "mimetype": "text/x-python",
   "name": "python",
   "nbconvert_exporter": "python",
   "pygments_lexer": "ipython3",
   "version": "3.12.3"
  }
 },
 "nbformat": 4,
 "nbformat_minor": 5
}
