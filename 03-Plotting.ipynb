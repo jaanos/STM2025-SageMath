{
 "cells": [
  {
   "cell_type": "markdown",
   "id": "263decf5-9ad2-4d19-91c5-0f39385be153",
   "metadata": {},
   "source": [
    "# Plotting\n",
    "\n",
    "Sage can produce two-dimensional and three-dimensional plots."
   ]
  },
  {
   "cell_type": "markdown",
   "id": "8651a35f-7132-46d8-ace0-c9c273e320b2",
   "metadata": {},
   "source": [
    "## Two-dimensional plots\n",
    "\n",
    "In two dimensions, Sage can draw circles, lines, and polygons; plots of functions in rectangular coordinates; and also polar plots, contour plots and vector field plots. We present examples of some of these here.\n",
    "\n",
    "This command produces a purple circle of radius 1, centered at the origin:"
   ]
  },
  {
   "cell_type": "code",
   "execution_count": null,
   "id": "8cc9afd3-5362-419c-840e-afa8223bd79f",
   "metadata": {},
   "outputs": [],
   "source": [
    "circle((0, 0), 1, rgbcolor=(0.5, 0, 1))"
   ]
  },
  {
   "cell_type": "markdown",
   "id": "fa306d3b-1d75-422b-a034-4ab1e657ac40",
   "metadata": {},
   "source": [
    "You can also produce a filled circle:"
   ]
  },
  {
   "cell_type": "code",
   "execution_count": null,
   "id": "cc59f37f-d0e7-42fb-9378-16ac7055a02f",
   "metadata": {},
   "outputs": [],
   "source": [
    "circle((0, 0), 1, rgbcolor=(0.5, 0, 1), fill=True)"
   ]
  },
  {
   "cell_type": "markdown",
   "id": "0d9cd24a-695b-4be9-bcd9-2cde2b4a5dbe",
   "metadata": {},
   "source": [
    "You can also create a circle by assigning it to a variable; this does not plot it:"
   ]
  },
  {
   "cell_type": "code",
   "execution_count": null,
   "id": "dd302fe5-b075-497a-a58e-c2bf7144c6e6",
   "metadata": {},
   "outputs": [],
   "source": [
    "c = circle((0, 0), 1, rgbcolor=(0.5, 0, 1))"
   ]
  },
  {
   "cell_type": "markdown",
   "id": "e3fb6c85-5887-4175-8f4c-4b0dce0d648b",
   "metadata": {},
   "source": [
    "To plot it, use `c.show()` or `show(c)`, as follows:"
   ]
  },
  {
   "cell_type": "code",
   "execution_count": null,
   "id": "8f338959-ed38-4d92-b5ec-11d803ad3963",
   "metadata": {},
   "outputs": [],
   "source": [
    "c.show()"
   ]
  },
  {
   "cell_type": "markdown",
   "id": "967abe69-892f-4c52-baa6-3d4813a9dd5b",
   "metadata": {},
   "source": [
    "Alternatively, evaluating `c.save('filename.png')` will save the plot to the given file.\n",
    "\n",
    "Now, these ‘circles’ may look more like ellipses because the axes are scaled differently. You can fix this:"
   ]
  },
  {
   "cell_type": "code",
   "execution_count": null,
   "id": "c503e46c-4377-4593-9fec-3c5ab20dfcdd",
   "metadata": {},
   "outputs": [],
   "source": [
    "c.show(aspect_ratio=1)"
   ]
  },
  {
   "cell_type": "markdown",
   "id": "89412968-4f84-433c-b88c-6cb3f3f02dbb",
   "metadata": {},
   "source": [
    "The command `show(c, aspect_ratio=1)` accomplishes the same thing, or you can save the picture using `c.save('filename.png', aspect_ratio=1)`.\n",
    "\n",
    "It’s easy to plot basic functions:"
   ]
  },
  {
   "cell_type": "code",
   "execution_count": null,
   "id": "d3a30fdd-ec69-4c1e-843b-f1f482afa515",
   "metadata": {},
   "outputs": [],
   "source": [
    "plot(cos, (-5, 5))"
   ]
  },
  {
   "cell_type": "markdown",
   "id": "29a5ed33-61d5-417e-9076-848ce6ee4158",
   "metadata": {},
   "source": [
    "Once you specify a variable name, you can also create parametric plots:"
   ]
  },
  {
   "cell_type": "code",
   "execution_count": null,
   "id": "3790b8d9-f601-44cb-b9fb-cf553e1f283a",
   "metadata": {},
   "outputs": [],
   "source": [
    "x = var('x')\n",
    "parametric_plot((cos(x), sin(x)^3), (x, 0, 2*pi), rgbcolor=hue(0.6))"
   ]
  },
  {
   "cell_type": "markdown",
   "id": "d3e18ede-7970-4786-bd24-8446244e6d12",
   "metadata": {},
   "source": [
    "It’s important to notice that the axes of the plots will only intersect if the origin is in the viewing range of the graph, and that with sufficiently large values scientific notation may be used:"
   ]
  },
  {
   "cell_type": "code",
   "execution_count": null,
   "id": "94c1504f-7f15-4d4f-9ef5-d57367367c8c",
   "metadata": {},
   "outputs": [],
   "source": [
    "plot(x^2, (x, 3000, 5000))"
   ]
  },
  {
   "cell_type": "markdown",
   "id": "26023179-e67e-42cb-90d1-2af23a197f61",
   "metadata": {},
   "source": [
    "You can combine several plots by summing them:"
   ]
  },
  {
   "cell_type": "code",
   "execution_count": null,
   "id": "b84b4bfd-1009-47fc-94e9-bc7c63d7cd6a",
   "metadata": {},
   "outputs": [],
   "source": [
    "x = var('x')\n",
    "p1 = parametric_plot((cos(x), sin(x)),   (x, 0, 2*pi), rgbcolor=hue(0.2))\n",
    "p2 = parametric_plot((cos(x), sin(x)^2), (x, 0, 2*pi), rgbcolor=hue(0.4))\n",
    "p3 = parametric_plot((cos(x), sin(x)^3), (x, 0, 2*pi), rgbcolor=hue(0.6))\n",
    "show(p1 + p2 + p3, axes=false)"
   ]
  },
  {
   "cell_type": "markdown",
   "id": "a897bce5-08f0-479f-8785-644d3df9c959",
   "metadata": {},
   "source": [
    "A good way to produce filled-in shapes is to produce a list of points (`L` in the example below) and then use the `polygon` command to plot the shape with boundary formed by those points. For example, here is a green deltoid:"
   ]
  },
  {
   "cell_type": "code",
   "execution_count": null,
   "id": "60d79f82-dac8-4db4-9431-2ebc0511570f",
   "metadata": {},
   "outputs": [],
   "source": [
    "L = [[-1 + cos(pi*i/100) * (1 + cos(pi*i/100)),\n",
    "       2 * sin(pi*i/100) * (1 - cos(pi*i/100))] for i in range(200)]\n",
    "(p := polygon(L, rgbcolor=(1/8, 3/4, 1/2)))"
   ]
  },
  {
   "cell_type": "code",
   "execution_count": null,
   "id": "ac10d7fd-cf76-4951-8892-695db6e196db",
   "metadata": {},
   "outputs": [],
   "source": [
    "show(p, axes=false)"
   ]
  },
  {
   "cell_type": "markdown",
   "id": "421e6033-502a-4afb-9281-ae0a34cb414e",
   "metadata": {},
   "source": [
    "You can add text to a plot:"
   ]
  },
  {
   "cell_type": "code",
   "execution_count": null,
   "id": "5e3da4cb-d934-4321-a6b4-e1df47897355",
   "metadata": {},
   "outputs": [],
   "source": [
    "L = [[6 * cos(pi*i/100) + 5 * cos((6/2)*pi*i/100),\n",
    "      6 * sin(pi*i/100) - 5 * sin((6/2)*pi*i/100)] for i in range(200)]\n",
    "p = polygon(L, rgbcolor=(1/8, 1/4, 1/2))\n",
    "t = text(\"hypotrochoid\", (5, 4), rgbcolor=(1, 0, 0))\n",
    "show(p + t)"
   ]
  },
  {
   "cell_type": "markdown",
   "id": "0ca8e153-2c46-4273-b9bb-c3411d92217e",
   "metadata": {},
   "source": [
    "Calculus teachers frequently draw the following plot on the board: not just one branch of arcsin but rather several of them: i.e., the plot of $y = \\sin(x)$ for $x$ between $-2\\pi$ and $2\\pi$, flipped about the 45 degree line. The following Sage commands construct this:"
   ]
  },
  {
   "cell_type": "code",
   "execution_count": null,
   "id": "e639c970-8683-4284-9d58-ab5ded8a6013",
   "metadata": {},
   "outputs": [],
   "source": [
    "v = [(sin(x), x) for x in srange(-2*float(pi), 2*float(pi), 0.1)]\n",
    "line(v)"
   ]
  },
  {
   "cell_type": "markdown",
   "id": "5f1b9abf-c797-4140-a74b-a7892086c691",
   "metadata": {},
   "source": [
    "Since the tangent function has a larger range than sine, if you use the same trick to plot the inverse tangent, you should change the minimum and maximum coordinates for the x-axis:"
   ]
  },
  {
   "cell_type": "code",
   "execution_count": null,
   "id": "34f0c985-9fc2-4098-a601-6ccad3c19042",
   "metadata": {},
   "outputs": [],
   "source": [
    "v = [(tan(x), x) for x in srange(-2*float(pi), 2*float(pi), 0.01)]\n",
    "show(line(v), xmin=-20, xmax=20)"
   ]
  },
  {
   "cell_type": "markdown",
   "id": "3281ee73-f740-483c-9687-3508b5e78045",
   "metadata": {},
   "source": [
    "Sage also computes polar plots, contour plots and vector field plots (for special types of functions). Here is an example of a contour plot:"
   ]
  },
  {
   "cell_type": "code",
   "execution_count": null,
   "id": "1b13a847-441e-48f4-b70c-5937c547183a",
   "metadata": {},
   "outputs": [],
   "source": [
    "f = lambda x, y: cos(x*y)\n",
    "contour_plot(f, (-4, 4), (-4, 4))"
   ]
  },
  {
   "cell_type": "markdown",
   "id": "64a826a0-978e-4ab2-a619-c4bbb585cf0f",
   "metadata": {},
   "source": [
    "## Three-dimensional plots\n",
    "\n",
    "Sage can also be used to create three-dimensional plots. In both the notebook and the REPL, these plots will be displayed by default using the open source package ThreeJS, which supports interactively rotating and zooming the figure with the mouse.\n",
    "\n",
    "Use `plot3d` to graph a function of the form $f(x, y) = z$:"
   ]
  },
  {
   "cell_type": "code",
   "execution_count": null,
   "id": "78587cf8-a979-4baf-a33b-bbf2de5b453b",
   "metadata": {},
   "outputs": [],
   "source": [
    "x, y = var('x, y')\n",
    "plot3d(x^2 + y^2, (x, -2, 2), (y, -2, 2))"
   ]
  },
  {
   "cell_type": "markdown",
   "id": "35c2b032-65d5-42f9-9eb0-01a90150deb4",
   "metadata": {},
   "source": [
    "Alternatively, you can use `parametric_plot3d` to graph a parametric surface where each of $x, y, z$ is determined by a function of one or two variables (the parameters, typically $u$ and $v$). The previous plot can be expressed parametrically as follows:"
   ]
  },
  {
   "cell_type": "code",
   "execution_count": null,
   "id": "53265b02-c089-4f1b-b3cd-fe3952bedb20",
   "metadata": {},
   "outputs": [],
   "source": [
    "u, v = var('u, v')\n",
    "f_x(u, v) = u\n",
    "f_y(u, v) = v\n",
    "f_z(u, v) = u^2 + v^2\n",
    "parametric_plot3d([f_x, f_y, f_z], (u, -2, 2), (v, -2, 2))"
   ]
  },
  {
   "cell_type": "markdown",
   "id": "431b24de-68ac-42e2-baa4-b14fa680e7e6",
   "metadata": {},
   "source": [
    "The third way to plot a 3D surface in Sage is `implicit_plot3d, which graphs a contour of a function like $f(x, y, z) = 0$ (this defines a set of points). We graph a sphere using the classical formula:"
   ]
  },
  {
   "cell_type": "code",
   "execution_count": null,
   "id": "c9991efa-34f5-4ac1-abff-5debc69ad3b1",
   "metadata": {},
   "outputs": [],
   "source": [
    "x, y, z = var('x, y, z')\n",
    "implicit_plot3d(x^2 + y^2 + z^2 - 4, (x, -2, 2), (y, -2, 2), (z, -2, 2))"
   ]
  },
  {
   "cell_type": "markdown",
   "id": "c6489c97-2067-4459-a968-0b11736fd46b",
   "metadata": {},
   "source": [
    "Here are some more examples:\n",
    "\n",
    "Yellow [Whitney’s umbrella](http://en.wikipedia.org/wiki/Whitney_umbrella):"
   ]
  },
  {
   "cell_type": "code",
   "execution_count": null,
   "id": "664aaeb9-3f58-4093-810e-853a3f402c11",
   "metadata": {},
   "outputs": [],
   "source": [
    "u, v = var('u,v')\n",
    "fx = u * v\n",
    "fy = u\n",
    "fz = v^2\n",
    "parametric_plot3d([fx, fy, fz], (u, -1, 1), (v, -1, 1), frame=False, color=\"yellow\")"
   ]
  },
  {
   "cell_type": "markdown",
   "id": "91c4515f-a453-4867-8abf-71998205f313",
   "metadata": {},
   "source": [
    "[Cross cap](http://en.wikipedia.org/wiki/Cross-cap):"
   ]
  },
  {
   "cell_type": "code",
   "execution_count": null,
   "id": "a14b61dd-6f8b-45bc-8ca4-13e277d3e03e",
   "metadata": {},
   "outputs": [],
   "source": [
    "u, v = var('u, v')\n",
    "fx = (1 + cos(v)) * cos(u)\n",
    "fy = (1 + cos(v)) * sin(u)\n",
    "fz = -tanh((2/3) * (u - pi)) * sin(v)\n",
    "parametric_plot3d([fx, fy, fz], (u, 0, 2*pi), (v, 0, 2*pi), frame=False, color=\"red\")"
   ]
  },
  {
   "cell_type": "markdown",
   "id": "aa6ea060-19f1-45a9-8c7e-b487b21c33c7",
   "metadata": {},
   "source": [
    "Twisted torus:"
   ]
  },
  {
   "cell_type": "code",
   "execution_count": null,
   "id": "7214af8a-9ac9-49a9-99a8-b08899177931",
   "metadata": {},
   "outputs": [],
   "source": [
    "u, v = var('u, v')\n",
    "fx = (3 + sin(v) + cos(u)) * cos(2*v)\n",
    "fy = (3 + sin(v) + cos(u)) * sin(2*v)\n",
    "fz = sin(u) + 2 * cos(v)\n",
    "parametric_plot3d([fx, fy, fz], (u, 0, 2*pi), (v, 0, 2*pi), frame=False, color=\"red\")"
   ]
  },
  {
   "cell_type": "markdown",
   "id": "aaf12d00-ca3c-40c9-9bff-38aea0a39487",
   "metadata": {},
   "source": [
    "Lemniscate:"
   ]
  },
  {
   "cell_type": "code",
   "execution_count": null,
   "id": "c2bbd152-37ec-4764-b772-3615a97a4bf3",
   "metadata": {},
   "outputs": [],
   "source": [
    "x, y, z = var('x, y, z')\n",
    "f(x, y, z) = 4*x^2 * (x^2 + y^2 + z^2 + z) + y^2 * (y^2 + z^2 - 1)\n",
    "implicit_plot3d(f, (x, -0.5, 0.5), (y, -1, 1), (z, -1, 1))"
   ]
  },
  {
   "cell_type": "markdown",
   "id": "3e58e9ac-9858-42e9-be98-0bf264e0f88e",
   "metadata": {},
   "source": [
    "## [Interactive plots](https://wiki.sagemath.org/interact/)\n",
    "\n",
    "Interactive plots can be drawn by using the `interact` decorator on a function."
   ]
  },
  {
   "cell_type": "markdown",
   "id": "4fe9a1d5-4f41-4b9b-bf97-bb387e801836",
   "metadata": {},
   "source": [
    "Let us draw a plot demonstrating the Taylor series of a function."
   ]
  },
  {
   "cell_type": "code",
   "execution_count": null,
   "id": "682624c6-2392-4e65-a577-eef6f82fab4b",
   "metadata": {},
   "outputs": [],
   "source": [
    "x   = var('x')\n",
    "x0  = 0\n",
    "f   = sin(x) * e^(-x)\n",
    "p   = plot(f, -1, 5, thickness=2)\n",
    "dot = point((x0, f(x=x0)), pointsize=80, rgbcolor=(1, 0, 0))\n",
    "\n",
    "@interact\n",
    "def _(order=slider([1 .. 12])):\n",
    "  ft = f.taylor(x, x0, order)\n",
    "  pt = plot(ft, -1, 5, color='green', thickness=2)\n",
    "  pretty_print(html(r'$f(x)\\;=\\;%s$' % latex(f)))\n",
    "  pretty_print(html(r'$\\hat{f}(x;%s)\\;=\\;%s+\\mathcal{O}(x^{%s})$' % (x0, latex(ft), order+1)))\n",
    "  show(dot + p + pt, ymin=-.5, ymax=1)"
   ]
  }
 ],
 "metadata": {
  "kernelspec": {
   "display_name": "SageMath 10.6.beta2",
   "language": "sage",
   "name": "sagemath"
  },
  "language_info": {
   "codemirror_mode": {
    "name": "ipython",
    "version": 3
   },
   "file_extension": ".py",
   "mimetype": "text/x-python",
   "name": "python",
   "nbconvert_exporter": "python",
   "pygments_lexer": "ipython3",
   "version": "3.12.3"
  }
 },
 "nbformat": 4,
 "nbformat_minor": 5
}
